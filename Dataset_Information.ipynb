{
 "cells": [
  {
   "cell_type": "code",
   "execution_count": 1,
   "id": "538a9107",
   "metadata": {},
   "outputs": [],
   "source": [
    "import pandas as pd\n",
    "import numpy as np\n",
    "import seaborn as sns\n",
    "import matplotlib.pyplot as plt"
   ]
  },
  {
   "cell_type": "code",
   "execution_count": 4,
   "id": "c4046fcb",
   "metadata": {},
   "outputs": [
    {
     "data": {
      "text/html": [
       "<div>\n",
       "<style scoped>\n",
       "    .dataframe tbody tr th:only-of-type {\n",
       "        vertical-align: middle;\n",
       "    }\n",
       "\n",
       "    .dataframe tbody tr th {\n",
       "        vertical-align: top;\n",
       "    }\n",
       "\n",
       "    .dataframe thead th {\n",
       "        text-align: right;\n",
       "    }\n",
       "</style>\n",
       "<table border=\"1\" class=\"dataframe\">\n",
       "  <thead>\n",
       "    <tr style=\"text-align: right;\">\n",
       "      <th></th>\n",
       "      <th>gender</th>\n",
       "      <th>ssc_p</th>\n",
       "      <th>ssc_b</th>\n",
       "      <th>hsc_p</th>\n",
       "      <th>hsc_b</th>\n",
       "      <th>hsc_s</th>\n",
       "      <th>degree_p</th>\n",
       "      <th>degree_t</th>\n",
       "      <th>workex</th>\n",
       "      <th>etest_p</th>\n",
       "      <th>specialisation</th>\n",
       "      <th>mba_p</th>\n",
       "      <th>status</th>\n",
       "      <th>salary</th>\n",
       "    </tr>\n",
       "  </thead>\n",
       "  <tbody>\n",
       "    <tr>\n",
       "      <th>0</th>\n",
       "      <td>M</td>\n",
       "      <td>67.00</td>\n",
       "      <td>Others</td>\n",
       "      <td>91.00</td>\n",
       "      <td>Others</td>\n",
       "      <td>Commerce</td>\n",
       "      <td>58.00</td>\n",
       "      <td>Sci&amp;Tech</td>\n",
       "      <td>No</td>\n",
       "      <td>55.0</td>\n",
       "      <td>Mkt&amp;HR</td>\n",
       "      <td>58.80</td>\n",
       "      <td>Placed</td>\n",
       "      <td>270000.0</td>\n",
       "    </tr>\n",
       "    <tr>\n",
       "      <th>1</th>\n",
       "      <td>M</td>\n",
       "      <td>79.33</td>\n",
       "      <td>Central</td>\n",
       "      <td>78.33</td>\n",
       "      <td>Others</td>\n",
       "      <td>Science</td>\n",
       "      <td>77.48</td>\n",
       "      <td>Sci&amp;Tech</td>\n",
       "      <td>Yes</td>\n",
       "      <td>86.5</td>\n",
       "      <td>Mkt&amp;Fin</td>\n",
       "      <td>66.28</td>\n",
       "      <td>Placed</td>\n",
       "      <td>200000.0</td>\n",
       "    </tr>\n",
       "    <tr>\n",
       "      <th>2</th>\n",
       "      <td>M</td>\n",
       "      <td>65.00</td>\n",
       "      <td>Central</td>\n",
       "      <td>68.00</td>\n",
       "      <td>Central</td>\n",
       "      <td>Arts</td>\n",
       "      <td>64.00</td>\n",
       "      <td>Comm&amp;Mgmt</td>\n",
       "      <td>No</td>\n",
       "      <td>75.0</td>\n",
       "      <td>Mkt&amp;Fin</td>\n",
       "      <td>57.80</td>\n",
       "      <td>Placed</td>\n",
       "      <td>250000.0</td>\n",
       "    </tr>\n",
       "    <tr>\n",
       "      <th>3</th>\n",
       "      <td>M</td>\n",
       "      <td>56.00</td>\n",
       "      <td>Central</td>\n",
       "      <td>52.00</td>\n",
       "      <td>Central</td>\n",
       "      <td>Science</td>\n",
       "      <td>52.00</td>\n",
       "      <td>Sci&amp;Tech</td>\n",
       "      <td>No</td>\n",
       "      <td>66.0</td>\n",
       "      <td>Mkt&amp;HR</td>\n",
       "      <td>59.43</td>\n",
       "      <td>Not Placed</td>\n",
       "      <td>NaN</td>\n",
       "    </tr>\n",
       "    <tr>\n",
       "      <th>4</th>\n",
       "      <td>M</td>\n",
       "      <td>85.80</td>\n",
       "      <td>Central</td>\n",
       "      <td>73.60</td>\n",
       "      <td>Central</td>\n",
       "      <td>Commerce</td>\n",
       "      <td>73.30</td>\n",
       "      <td>Comm&amp;Mgmt</td>\n",
       "      <td>No</td>\n",
       "      <td>96.8</td>\n",
       "      <td>Mkt&amp;Fin</td>\n",
       "      <td>55.50</td>\n",
       "      <td>Placed</td>\n",
       "      <td>425000.0</td>\n",
       "    </tr>\n",
       "  </tbody>\n",
       "</table>\n",
       "</div>"
      ],
      "text/plain": [
       "  gender  ssc_p    ssc_b  hsc_p    hsc_b     hsc_s  degree_p   degree_t  \\\n",
       "0      M  67.00   Others  91.00   Others  Commerce     58.00   Sci&Tech   \n",
       "1      M  79.33  Central  78.33   Others   Science     77.48   Sci&Tech   \n",
       "2      M  65.00  Central  68.00  Central      Arts     64.00  Comm&Mgmt   \n",
       "3      M  56.00  Central  52.00  Central   Science     52.00   Sci&Tech   \n",
       "4      M  85.80  Central  73.60  Central  Commerce     73.30  Comm&Mgmt   \n",
       "\n",
       "  workex  etest_p specialisation  mba_p      status    salary  \n",
       "0     No     55.0         Mkt&HR  58.80      Placed  270000.0  \n",
       "1    Yes     86.5        Mkt&Fin  66.28      Placed  200000.0  \n",
       "2     No     75.0        Mkt&Fin  57.80      Placed  250000.0  \n",
       "3     No     66.0         Mkt&HR  59.43  Not Placed       NaN  \n",
       "4     No     96.8        Mkt&Fin  55.50      Placed  425000.0  "
      ]
     },
     "execution_count": 4,
     "metadata": {},
     "output_type": "execute_result"
    }
   ],
   "source": [
    "data = pd.read_csv(\"Campus Placement.csv\")\n",
    "data.head()"
   ]
  },
  {
   "cell_type": "markdown",
   "id": "15e0c160",
   "metadata": {},
   "source": [
    "## Column Description"
   ]
  },
  {
   "cell_type": "markdown",
   "id": "bc2dbac2",
   "metadata": {},
   "source": [
    "-   gender\n",
    "-   ssc_p -> 10th class percentage\n",
    "-   ssc_b -> 10th class board\n",
    "-   hsc_p -> 12th class percentage\n",
    "-   hsc_b -> 12th class board\n",
    "-   hsc_s -> 12th class branch\n",
    "-   degree_p -> undergraduate degree percentage\n",
    "-   degree_t -> degree branch\n",
    "-   workex -> work experience\n",
    "-   etest_p -> Entrance test percentage\n",
    "-   specialisation -> MBA branch\n",
    "-   mba_p -> MBA percentage\n",
    "-   status -> placement status\n",
    "-   salary -> quoted salary"
   ]
  },
  {
   "cell_type": "markdown",
   "id": "49e64cef",
   "metadata": {},
   "source": [
    "## Univariate Analysis"
   ]
  },
  {
   "cell_type": "markdown",
   "id": "fe9c66f0",
   "metadata": {},
   "source": [
    "### Gender"
   ]
  },
  {
   "cell_type": "markdown",
   "id": "e99308b1",
   "metadata": {},
   "source": [
    "gender\n",
    "M    139\n",
    "F     76\n",
    "- The ratio between the category [Male,Female] is slightly imbalanced, because the difference betwee them is 63."
   ]
  },
  {
   "cell_type": "markdown",
   "id": "9d7c09c1",
   "metadata": {},
   "source": [
    "### ssc_p(10th percentage)"
   ]
  },
  {
   "cell_type": "markdown",
   "id": "08906841",
   "metadata": {},
   "source": [
    "**DIST PLOT**\n",
    "> - The students with above 40 in their ssc score, are only given admission to the college."
   ]
  },
  {
   "cell_type": "markdown",
   "id": "57cb9fb6",
   "metadata": {},
   "source": [
    "**MEAN AND MEDIAN PLOTING**\n",
    "- According to the above graphs \n",
    "    - students scoring below the mean(67) are **less** when compared to students scoring above the mean(67)\n",
    "- majority of the students scored above the mean(67)\n",
    "> - The majority of the group are with good score students(:: 2nd graph, the are of the region between median and 75 percentile is significantly high) \n",
    "<br><br/>\n",
    "> - The center value of the graph(x axis) is supposed to be the **mean, median, mode and peak** for a normal distribution graph but here the **mode and peak** are almost at the center but **mean and median** are drifted towards right, which means that the values are dense over the right side"
   ]
  },
  {
   "cell_type": "markdown",
   "id": "f2964589",
   "metadata": {},
   "source": [
    "min:           40.89\n",
    "max:           89.4\n",
    "center value:  65.14500000000001\n",
    "mean:          67.30339534883721\n",
    "median:        67.0\n",
    "- The last point of the above cell is verified numerically\n",
    "    - mean and median are almost the same and the center value is less than the mean "
   ]
  },
  {
   "cell_type": "markdown",
   "id": "f91333db",
   "metadata": {},
   "source": [
    "median:  67.0\n",
    "mean:  67.30339534883721\n",
    "- this is a indication that the values are directed towards a normal distribution\n",
    "    - Because, the mean and median are almost same."
   ]
  },
  {
   "cell_type": "markdown",
   "id": "5ab7679c",
   "metadata": {},
   "source": [
    "skewedness =  -0.13\n",
    "kurtosis =  2.38\n",
    "#### Norms for normal distribution\n",
    "- skewedness = 0\n",
    "- kurtosis = 3\n",
    "#### Our graph result\n",
    "- As -0.13 < 0, right skewed\n",
    "- as 2.38 < 3, flat peak and thick tails"
   ]
  },
  {
   "cell_type": "markdown",
   "id": "bca7d91f",
   "metadata": {},
   "source": [
    "**BOX PLOT**\n",
    "    - As we already said, the graph seemed to be in normal distribution, so the are no outliers"
   ]
  },
  {
   "cell_type": "markdown",
   "id": "17421c9b",
   "metadata": {},
   "source": [
    "### ssc_b(10th board)"
   ]
  },
  {
   "cell_type": "markdown",
   "id": "903c396a",
   "metadata": {},
   "source": [
    "ssc_b\n",
    "Central    116\n",
    "Others      99\n",
    "- The ratio between the category is comparitively acceptable and balanced, because the difference betwee them is only 17"
   ]
  },
  {
   "cell_type": "markdown",
   "id": "c3ec357a",
   "metadata": {},
   "source": [
    "### hsc_p(12th percentage)"
   ]
  },
  {
   "cell_type": "markdown",
   "id": "ba0cdd8d",
   "metadata": {},
   "source": [
    "**DISTPLOT**\n",
    "> - The reason for the peak is the sudden spike values around 60 to 65"
   ]
  },
  {
   "cell_type": "markdown",
   "id": "2a6962d6",
   "metadata": {},
   "source": [
    "**MEAN AND MEDIAN PLOTING**\n",
    "- The frequency around the peak seem to be high. i.e..around 55 to 77 \n",
    "- The standard deviation seem to be very high, let's check them numerically"
   ]
  },
  {
   "cell_type": "markdown",
   "id": "4c29c86d",
   "metadata": {},
   "source": [
    "std:  10.89750915750298\n",
    "- For a normal distribution, within 3 standard deviations after the mean, the graph should get over. So, let's calculate them\n",
    "\n",
    "99.02569026320663\n",
    "97.7\n",
    "- The values are under standard dstribution only"
   ]
  },
  {
   "cell_type": "markdown",
   "id": "63fd06f4",
   "metadata": {},
   "source": [
    "median:  65.0\n",
    "mean:  66.33316279069768\n",
    "- mean and median seem to have a slight difference, which indicates the absence of normal distribution"
   ]
  },
  {
   "cell_type": "markdown",
   "id": "d2d4ee6f",
   "metadata": {},
   "source": [
    "min:           37.0\n",
    "max:           97.7\n",
    "center value:  67.35\n",
    "mean:          66.33316279069768\n",
    "median:        65.0"
   ]
  },
  {
   "cell_type": "markdown",
   "id": "fca1359e",
   "metadata": {},
   "source": [
    "skewedness =  0.16\n",
    "kurtosis =  3.41\n",
    "#### Norms for normal distribution\n",
    "- skewedness = 0\n",
    "- kurtosis = 3\n",
    "#### Our graph result\n",
    "- As 0.16 > 0, left skewed (slightly).\n",
    "- As 3.41 > 3, sharp peak and thin tails."
   ]
  },
  {
   "cell_type": "markdown",
   "id": "b229cd30",
   "metadata": {},
   "source": [
    "**BOX PLOT**\n",
    "- There are outliers due to the peak in the graph\n",
    "    - we shall check the values of the peak and outliers"
   ]
  },
  {
   "cell_type": "markdown",
   "id": "d3dbb385",
   "metadata": {},
   "source": [
    "#### First, we'll check the peak\n",
    "- now the limits are obtained [ 60, 67], let's check the table.\n",
    "> - Around 40% of the records lie in the interval of 60 and 67(which is just a count of consecutive 7 integers out of 100).\n",
    "-This is the reason for the peak."
   ]
  },
  {
   "cell_type": "markdown",
   "id": "c7106119",
   "metadata": {},
   "source": [
    "#### Now, we'll check the values of outliers\n",
    "\n",
    "- The indexes of the outliers are;\n",
    "> - [ 42, 49, 120, 169, 206, 24, 134, 177]\n",
    "- Observing ths table with respect to the status,\n",
    "> - Students below the **lower bound are not placed** and **above the upper bound are placed**."
   ]
  },
  {
   "cell_type": "markdown",
   "id": "f65d936b",
   "metadata": {},
   "source": [
    "### hsc_b(12th board)"
   ]
  },
  {
   "cell_type": "markdown",
   "id": "eeae5e69",
   "metadata": {},
   "source": [
    "hsc_b\n",
    "- Others     131\n",
    "- Central     84"
   ]
  },
  {
   "cell_type": "markdown",
   "id": "9da8a848",
   "metadata": {},
   "source": [
    "- The difference between the 12th board is 47."
   ]
  },
  {
   "cell_type": "markdown",
   "id": "4e6543df",
   "metadata": {},
   "source": [
    "### hsc_s(12th branch)"
   ]
  },
  {
   "cell_type": "markdown",
   "id": "59305969",
   "metadata": {},
   "source": [
    "hsc_s\n",
    "- Commerce    113\n",
    "- Science      91\n",
    "- Arts         11"
   ]
  },
  {
   "cell_type": "markdown",
   "id": "aa295244",
   "metadata": {},
   "source": [
    "### degree_p(underGraduate degree percentage)"
   ]
  },
  {
   "cell_type": "markdown",
   "id": "cba7d63a",
   "metadata": {},
   "source": [
    "**MEAN MEDIAN PLOTING**"
   ]
  },
  {
   "cell_type": "markdown",
   "id": "4b268f2f",
   "metadata": {},
   "source": [
    "By seeing both the graphs, the gray line, which points the center point of the number line(x-axis) has shifted towards the right.\n",
    "- In other words the graph has shifted towards the left, which is because of the occupancy of values from 89 to 100 by the flat tail of the graph\n",
    "For instance, if the tail was'nt there, then the graph would have been symmetric and the center value(gray line) would been at the peak. \n",
    "\n",
    "Conclusively, it can be stated that,\n",
    "> ##### The values at the end might be an outlier(entry made by mistake) or the students might be inteligent to lie out of the box.\n",
    "\n",
    "There are certain inferences that are directing the graph to be in normal distribution.\n",
    "- Mean and Median are so close.\n",
    "- Median almost touches the peak. and,\n",
    "- The area around the 1st quartile region and 3rd quartile region seem to equal.\n",
    "Also, we should concentrate on the sharp peak that the graph produces."
   ]
  },
  {
   "cell_type": "markdown",
   "id": "3426a92e",
   "metadata": {},
   "source": [
    "**DISTPLOT**"
   ]
  },
  {
   "cell_type": "markdown",
   "id": "59fe9596",
   "metadata": {},
   "source": [
    "The reason for the sharp peak can be justified with this graph,\n",
    "- The values around 65 in degree_p are solely responsible for the sharp peak.\n",
    "\n",
    "Also,\n",
    "\n",
    "The assumed presence of outlier can be confirmed here with the graph,\n",
    "- We're able to see a small spike at 90 in degree_p, which is the reason for the long tail.\n",
    "\n",
    "and finally,\n",
    "\n",
    "We, can also see that, the graph starts growing only from the score of 50%.\n",
    "- This can be because of the pass score set by the undergraduate university. That is, those who scored below 50% are considered to not have completed their degree yet.\n",
    "\n",
    "A subtle note here,\n",
    "- the graph has a small minor bump both before the peak and after the peak.\n",
    "- There is possibility that this could be differenciated with groups."
   ]
  },
  {
   "cell_type": "markdown",
   "id": "909fafb0",
   "metadata": {},
   "source": [
    "**degree percentage > 85**\n",
    "> Let's have a note at this record, being a credible outlier or a mistake entry."
   ]
  },
  {
   "cell_type": "markdown",
   "id": "3b49e913",
   "metadata": {},
   "source": [
    "- Finally we got the limits of the peak [ 63, 67].\n",
    "> Around 32% of the records lie in the interval of 63 and 67(which is just a count of consecutive 4 integers out of 100).\n",
    "- This is the reason for the peak"
   ]
  },
  {
   "cell_type": "markdown",
   "id": "1460818c",
   "metadata": {},
   "source": [
    "- Standard Deviation\n",
    "    - 7.35874328733944"
   ]
  },
  {
   "cell_type": "markdown",
   "id": "3eb6fafd",
   "metadata": {},
   "source": [
    "The max obtained is 91 and the graph gets over by 88.44 as per standard deviation rules\n",
    "- which also drives the graph towards a normal distribution"
   ]
  },
  {
   "cell_type": "markdown",
   "id": "7bd49903",
   "metadata": {},
   "source": [
    "min:           50.0\n",
    "max:           91.0\n",
    "center value:  70.5\n",
    "mean:          66.37018604651163\n",
    "median:        66.0\n",
    "mode:        0    65.0"
   ]
  },
  {
   "cell_type": "markdown",
   "id": "16d7d969",
   "metadata": {},
   "source": [
    "Here are two justifications that can be made with respect to the earlier statements\n",
    "- The minimum score is 50\n",
    "- mean and median are so close"
   ]
  },
  {
   "cell_type": "markdown",
   "id": "248ba1b2",
   "metadata": {},
   "source": [
    "skewedness =  0.24\n",
    "kurtosis =  3.02\n",
    "#### Norms for normal distribution\n",
    "- skewedness = 0\n",
    "- kurtosis = 3\n",
    "#### Our graph result\n",
    "- As 0.24 > 0, left skewed\n",
    "- as 3.02 >= 3, slight sharp peak and thin tails"
   ]
  },
  {
   "cell_type": "markdown",
   "id": "c78ea349",
   "metadata": {},
   "source": [
    "**BOX PLOT**\n",
    "- Like we assumed earlier, the entry(91%) made might be an outlier or a brillient student"
   ]
  },
  {
   "cell_type": "markdown",
   "id": "5054defe",
   "metadata": {},
   "source": [
    "### degree_t(underGraduate degree title)"
   ]
  },
  {
   "cell_type": "markdown",
   "id": "6c7f63d7",
   "metadata": {},
   "source": [
    "degree_t\n",
    "- Comm&Mgmt    145\n",
    "- Sci&Tech      59\n",
    "- Others        11"
   ]
  },
  {
   "cell_type": "markdown",
   "id": "509a96d5",
   "metadata": {},
   "source": [
    "### workex(Work Experience)"
   ]
  },
  {
   "cell_type": "markdown",
   "id": "2b107ce2",
   "metadata": {},
   "source": [
    "workex\n",
    "- No     141\n",
    "- Yes     74"
   ]
  },
  {
   "cell_type": "markdown",
   "id": "6b8cbd7a",
   "metadata": {},
   "source": [
    "### etest_p(Entrance Test)"
   ]
  },
  {
   "cell_type": "markdown",
   "id": "998ab1f8",
   "metadata": {},
   "source": [
    "**MEAN MEDIAN PLOTING**"
   ]
  },
  {
   "cell_type": "markdown",
   "id": "7baed748",
   "metadata": {},
   "source": [
    "By, seeing the chart, its obvious that this is not in normal distribution.\n",
    "\n",
    "- The graph spikes up around 50 and falls down after 95. and,\n",
    "    - from 50 to 95 there is gradual declination\n",
    "    \n",
    "- We also see, small minor bumps after the peak, which might be because of some groups.\n",
    "    - we'll check them later\n",
    "    \n",
    "Fortunately, the mean and median are close to each other.\n",
    "\n",
    "First graph:\n",
    "- The standard deviation seem to be high, such that 3 times the std goes beyond the graph after or before the mean. Which is clearly not a sign for it to be in normal distribution.\n",
    "\n",
    "Second graph:\n",
    "- It seems that the group before the 2nd quartile(median) is large than the group after the median(2nd quartile)."
   ]
  },
  {
   "cell_type": "markdown",
   "id": "42ef7f88",
   "metadata": {},
   "source": [
    "**DIST PLOT**"
   ]
  },
  {
   "cell_type": "markdown",
   "id": "7add8903",
   "metadata": {},
   "source": [
    "From here, we can confirm that the entrance test scores strictly start from 50% only.\n",
    "\n",
    "- This might be because of the MBA institute, which was giving admission to students based on cutoff(50%) of the entrance test.\n",
    "\n",
    "Speaking about the difficulty of the test when compared to other exams(ssc, hsc, degree) that they have completed, this test seem to be the easiest among them.\n",
    "\n",
    "- This is because, The graph's relegation should have come to the end(100) smoothly, whereas it shows a sudden fall after ~98.\n",
    "    - Which means there are a lot of students who scored more than 80 or 90 percentage, who had almost a normal distribution graph for thier other exam scores.\n",
    "    \n",
    "To conclude,\n",
    "\n",
    "> - 50% percentage is the minimum cutoff set for the admissions for MBA\n",
    "> - The Entrance test is the easiest among other exams(ssc, hsc, degree) that they have taken earlier"
   ]
  },
  {
   "cell_type": "markdown",
   "id": "8c8fecbd",
   "metadata": {},
   "source": [
    "min:           50.0\n",
    "max:           98.0\n",
    "center value:  74.0\n",
    "mean:          72.10055813953488\n",
    "median:        71.0\n",
    "mode:        0    60.0"
   ]
  },
  {
   "cell_type": "markdown",
   "id": "e08b9b1e",
   "metadata": {},
   "source": [
    "skewedness =  0.28\n",
    "kurtosis =  1.91\n",
    "#### Norms for normal distribution\n",
    "- skewedness = 0\n",
    "- kurtosis = 3\n",
    "#### Our graph result\n",
    "- As 0.28 > 0, left skewed\n",
    "- as 1.91 << 3, very flat peak and thick tails"
   ]
  },
  {
   "cell_type": "markdown",
   "id": "51f07698",
   "metadata": {},
   "source": [
    "### mba_p(MBA degree percentage)"
   ]
  },
  {
   "cell_type": "markdown",
   "id": "25a69cb0",
   "metadata": {},
   "source": [
    "**MEAN MEDIAN PLOTING**"
   ]
  },
  {
   "cell_type": "markdown",
   "id": "5d9049ad",
   "metadata": {},
   "source": [
    "First of all, the graph is so clear and seem to be in normal distribution.\n",
    "- The center value(gray line) has well shifted towards the right, which means the graph is very well left shifted(skewed).\n",
    "\n",
    "Observing both the graphs, we can make a general inference\n",
    "\n",
    "- The graph mostly starts at 50%, goes all the way to the peak at 60% and relegates smoothly and ends at 80%. which can be explained as,\n",
    "    - **The postgraduate university might also have set the pass percentage as 50%** like undergraduate degree scores and entrance test scores. and,\n",
    "    - **This exam is expected to be the most difficult exams of a students education chronology** because, the graph almost ends before 80% itself, which means no student has crossed the score of ~80%.\n",
    "    \n",
    "First graph:\n",
    "\n",
    "- The mean is almost pointing to the peak, which is a positive sign for the graph to be in normal distribution.\n",
    "- The standard deviation is also expected to be apt for the graph. we'll check the numerically too.\n",
    "\n",
    "Second graph:\n",
    "\n",
    "- Both 2nd and 3rd quartile regions seem to be equal.\n",
    "Both mean and median are close"
   ]
  },
  {
   "cell_type": "markdown",
   "id": "9741cf5a",
   "metadata": {},
   "source": [
    "**DIST PLOT**"
   ]
  },
  {
   "cell_type": "markdown",
   "id": "94728eb4",
   "metadata": {},
   "source": [
    "The subjects which were uncertainly discussed, can be supported with evidence here,\n",
    "- The minimum value infact starts after 50% and the maximum ends before 80%."
   ]
  },
  {
   "cell_type": "markdown",
   "id": "cd77d693",
   "metadata": {},
   "source": [
    "- Standard Deviation\n",
    "    - 5.833384580683801"
   ]
  },
  {
   "cell_type": "markdown",
   "id": "1eace525",
   "metadata": {},
   "source": [
    "The max obtained is 77.89 and the graph gets over by 79.77(as per standard deviation rules).\n",
    "- which gives a reason for the graph to be in normal distribution"
   ]
  },
  {
   "cell_type": "markdown",
   "id": "f0c23c27",
   "metadata": {},
   "source": [
    "min:           51.21\n",
    "max:           77.89\n",
    "center value:  64.55\n",
    "mean:          62.278186046511635\n",
    "median:        62.0\n",
    "mode:        0    56.7\n"
   ]
  },
  {
   "cell_type": "markdown",
   "id": "940d0d01",
   "metadata": {},
   "source": [
    "- Mean and Median are close.\n",
    "- Minimum and Maximum are as expected."
   ]
  },
  {
   "cell_type": "markdown",
   "id": "2a02a8a0",
   "metadata": {},
   "source": [
    "skewedness =  0.31\n",
    "kurtosis =  2.51\n",
    "#### Norms for normal distribution\n",
    "- skewedness = 0\n",
    "- kurtosis = 3\n",
    "#### Our graph result\n",
    "- As 0.31 > 0, left skewed\n",
    "- As 2.51 < 3, slight flat peak and thick tails"
   ]
  },
  {
   "cell_type": "markdown",
   "id": "292e89aa",
   "metadata": {},
   "source": [
    "### mba_t(MBA degree title)"
   ]
  },
  {
   "cell_type": "markdown",
   "id": "c46f9900",
   "metadata": {},
   "source": [
    "mba_t\n",
    "- Mkt&Fin    120\n",
    "- Mkt&HR      95"
   ]
  },
  {
   "cell_type": "code",
   "execution_count": null,
   "id": "b8a7994a",
   "metadata": {},
   "outputs": [],
   "source": []
  }
 ],
 "metadata": {
  "kernelspec": {
   "display_name": "Python 3",
   "language": "python",
   "name": "python3"
  },
  "language_info": {
   "codemirror_mode": {
    "name": "ipython",
    "version": 3
   },
   "file_extension": ".py",
   "mimetype": "text/x-python",
   "name": "python",
   "nbconvert_exporter": "python",
   "pygments_lexer": "ipython3",
   "version": "3.8.8"
  }
 },
 "nbformat": 4,
 "nbformat_minor": 5
}
