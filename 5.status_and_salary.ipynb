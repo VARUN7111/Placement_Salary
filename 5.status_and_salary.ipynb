{
 "cells": [
  {
   "cell_type": "code",
   "execution_count": 1,
   "id": "efafb3cf",
   "metadata": {},
   "outputs": [],
   "source": [
    "import matplotlib.pyplot as plt\n",
    "import seaborn as sns\n",
    "import pandas as pd\n",
    "import numpy as np\n",
    "\n",
    "from scipy.stats import kurtosis,skew\n",
    "\n",
    "from matplotlib.colors import LinearSegmentedColormap\n",
    "\n",
    "from imblearn.over_sampling import SMOTE\n",
    "\n",
    "from sklearn.model_selection import train_test_split\n",
    "\n",
    "from sklearn.feature_selection import RFE\n",
    "from sklearn.linear_model import LogisticRegression\n",
    "\n",
    "import statsmodels.api as sm\n",
    "from statsmodels.genmod.generalized_linear_model import GLM\n",
    "from statsmodels.genmod import families\n",
    "\n",
    "from dython.nominal import associations\n",
    "\n",
    "import statsmodels.api as sm\n",
    "from statsmodels.formula.api import ols"
   ]
  },
  {
   "cell_type": "code",
   "execution_count": 2,
   "id": "9e1886f5",
   "metadata": {},
   "outputs": [],
   "source": [
    "import warnings\n",
    "warnings.filterwarnings('ignore')"
   ]
  },
  {
   "cell_type": "code",
   "execution_count": 3,
   "id": "fc651394",
   "metadata": {},
   "outputs": [
    {
     "data": {
      "text/html": [
       "<div>\n",
       "<style scoped>\n",
       "    .dataframe tbody tr th:only-of-type {\n",
       "        vertical-align: middle;\n",
       "    }\n",
       "\n",
       "    .dataframe tbody tr th {\n",
       "        vertical-align: top;\n",
       "    }\n",
       "\n",
       "    .dataframe thead th {\n",
       "        text-align: right;\n",
       "    }\n",
       "</style>\n",
       "<table border=\"1\" class=\"dataframe\">\n",
       "  <thead>\n",
       "    <tr style=\"text-align: right;\">\n",
       "      <th></th>\n",
       "      <th>gender</th>\n",
       "      <th>ssc_p</th>\n",
       "      <th>ssc_b</th>\n",
       "      <th>hsc_p</th>\n",
       "      <th>hsc_b</th>\n",
       "      <th>hsc_s</th>\n",
       "      <th>degree_p</th>\n",
       "      <th>degree_t</th>\n",
       "      <th>workex</th>\n",
       "      <th>etest_p</th>\n",
       "      <th>specialisation</th>\n",
       "      <th>mba_p</th>\n",
       "      <th>status</th>\n",
       "      <th>salary</th>\n",
       "    </tr>\n",
       "  </thead>\n",
       "  <tbody>\n",
       "    <tr>\n",
       "      <th>0</th>\n",
       "      <td>M</td>\n",
       "      <td>67.00</td>\n",
       "      <td>Others</td>\n",
       "      <td>91.00</td>\n",
       "      <td>Others</td>\n",
       "      <td>Commerce</td>\n",
       "      <td>58.00</td>\n",
       "      <td>Sci&amp;Tech</td>\n",
       "      <td>No</td>\n",
       "      <td>55.0</td>\n",
       "      <td>Mkt&amp;HR</td>\n",
       "      <td>58.80</td>\n",
       "      <td>Placed</td>\n",
       "      <td>270000.0</td>\n",
       "    </tr>\n",
       "    <tr>\n",
       "      <th>1</th>\n",
       "      <td>M</td>\n",
       "      <td>79.33</td>\n",
       "      <td>Central</td>\n",
       "      <td>78.33</td>\n",
       "      <td>Others</td>\n",
       "      <td>Science</td>\n",
       "      <td>77.48</td>\n",
       "      <td>Sci&amp;Tech</td>\n",
       "      <td>Yes</td>\n",
       "      <td>86.5</td>\n",
       "      <td>Mkt&amp;Fin</td>\n",
       "      <td>66.28</td>\n",
       "      <td>Placed</td>\n",
       "      <td>200000.0</td>\n",
       "    </tr>\n",
       "    <tr>\n",
       "      <th>2</th>\n",
       "      <td>M</td>\n",
       "      <td>65.00</td>\n",
       "      <td>Central</td>\n",
       "      <td>68.00</td>\n",
       "      <td>Central</td>\n",
       "      <td>Arts</td>\n",
       "      <td>64.00</td>\n",
       "      <td>Comm&amp;Mgmt</td>\n",
       "      <td>No</td>\n",
       "      <td>75.0</td>\n",
       "      <td>Mkt&amp;Fin</td>\n",
       "      <td>57.80</td>\n",
       "      <td>Placed</td>\n",
       "      <td>250000.0</td>\n",
       "    </tr>\n",
       "    <tr>\n",
       "      <th>3</th>\n",
       "      <td>M</td>\n",
       "      <td>56.00</td>\n",
       "      <td>Central</td>\n",
       "      <td>52.00</td>\n",
       "      <td>Central</td>\n",
       "      <td>Science</td>\n",
       "      <td>52.00</td>\n",
       "      <td>Sci&amp;Tech</td>\n",
       "      <td>No</td>\n",
       "      <td>66.0</td>\n",
       "      <td>Mkt&amp;HR</td>\n",
       "      <td>59.43</td>\n",
       "      <td>Not Placed</td>\n",
       "      <td>NaN</td>\n",
       "    </tr>\n",
       "    <tr>\n",
       "      <th>4</th>\n",
       "      <td>M</td>\n",
       "      <td>85.80</td>\n",
       "      <td>Central</td>\n",
       "      <td>73.60</td>\n",
       "      <td>Central</td>\n",
       "      <td>Commerce</td>\n",
       "      <td>73.30</td>\n",
       "      <td>Comm&amp;Mgmt</td>\n",
       "      <td>No</td>\n",
       "      <td>96.8</td>\n",
       "      <td>Mkt&amp;Fin</td>\n",
       "      <td>55.50</td>\n",
       "      <td>Placed</td>\n",
       "      <td>425000.0</td>\n",
       "    </tr>\n",
       "    <tr>\n",
       "      <th>...</th>\n",
       "      <td>...</td>\n",
       "      <td>...</td>\n",
       "      <td>...</td>\n",
       "      <td>...</td>\n",
       "      <td>...</td>\n",
       "      <td>...</td>\n",
       "      <td>...</td>\n",
       "      <td>...</td>\n",
       "      <td>...</td>\n",
       "      <td>...</td>\n",
       "      <td>...</td>\n",
       "      <td>...</td>\n",
       "      <td>...</td>\n",
       "      <td>...</td>\n",
       "    </tr>\n",
       "    <tr>\n",
       "      <th>210</th>\n",
       "      <td>M</td>\n",
       "      <td>80.60</td>\n",
       "      <td>Others</td>\n",
       "      <td>82.00</td>\n",
       "      <td>Others</td>\n",
       "      <td>Commerce</td>\n",
       "      <td>77.60</td>\n",
       "      <td>Comm&amp;Mgmt</td>\n",
       "      <td>No</td>\n",
       "      <td>91.0</td>\n",
       "      <td>Mkt&amp;Fin</td>\n",
       "      <td>74.49</td>\n",
       "      <td>Placed</td>\n",
       "      <td>400000.0</td>\n",
       "    </tr>\n",
       "    <tr>\n",
       "      <th>211</th>\n",
       "      <td>M</td>\n",
       "      <td>58.00</td>\n",
       "      <td>Others</td>\n",
       "      <td>60.00</td>\n",
       "      <td>Others</td>\n",
       "      <td>Science</td>\n",
       "      <td>72.00</td>\n",
       "      <td>Sci&amp;Tech</td>\n",
       "      <td>No</td>\n",
       "      <td>74.0</td>\n",
       "      <td>Mkt&amp;Fin</td>\n",
       "      <td>53.62</td>\n",
       "      <td>Placed</td>\n",
       "      <td>275000.0</td>\n",
       "    </tr>\n",
       "    <tr>\n",
       "      <th>212</th>\n",
       "      <td>M</td>\n",
       "      <td>67.00</td>\n",
       "      <td>Others</td>\n",
       "      <td>67.00</td>\n",
       "      <td>Others</td>\n",
       "      <td>Commerce</td>\n",
       "      <td>73.00</td>\n",
       "      <td>Comm&amp;Mgmt</td>\n",
       "      <td>Yes</td>\n",
       "      <td>59.0</td>\n",
       "      <td>Mkt&amp;Fin</td>\n",
       "      <td>69.72</td>\n",
       "      <td>Placed</td>\n",
       "      <td>295000.0</td>\n",
       "    </tr>\n",
       "    <tr>\n",
       "      <th>213</th>\n",
       "      <td>F</td>\n",
       "      <td>74.00</td>\n",
       "      <td>Others</td>\n",
       "      <td>66.00</td>\n",
       "      <td>Others</td>\n",
       "      <td>Commerce</td>\n",
       "      <td>58.00</td>\n",
       "      <td>Comm&amp;Mgmt</td>\n",
       "      <td>No</td>\n",
       "      <td>70.0</td>\n",
       "      <td>Mkt&amp;HR</td>\n",
       "      <td>60.23</td>\n",
       "      <td>Placed</td>\n",
       "      <td>204000.0</td>\n",
       "    </tr>\n",
       "    <tr>\n",
       "      <th>214</th>\n",
       "      <td>M</td>\n",
       "      <td>62.00</td>\n",
       "      <td>Central</td>\n",
       "      <td>58.00</td>\n",
       "      <td>Others</td>\n",
       "      <td>Science</td>\n",
       "      <td>53.00</td>\n",
       "      <td>Comm&amp;Mgmt</td>\n",
       "      <td>No</td>\n",
       "      <td>89.0</td>\n",
       "      <td>Mkt&amp;HR</td>\n",
       "      <td>60.22</td>\n",
       "      <td>Not Placed</td>\n",
       "      <td>NaN</td>\n",
       "    </tr>\n",
       "  </tbody>\n",
       "</table>\n",
       "<p>215 rows × 14 columns</p>\n",
       "</div>"
      ],
      "text/plain": [
       "    gender  ssc_p    ssc_b  hsc_p    hsc_b     hsc_s  degree_p   degree_t  \\\n",
       "0        M  67.00   Others  91.00   Others  Commerce     58.00   Sci&Tech   \n",
       "1        M  79.33  Central  78.33   Others   Science     77.48   Sci&Tech   \n",
       "2        M  65.00  Central  68.00  Central      Arts     64.00  Comm&Mgmt   \n",
       "3        M  56.00  Central  52.00  Central   Science     52.00   Sci&Tech   \n",
       "4        M  85.80  Central  73.60  Central  Commerce     73.30  Comm&Mgmt   \n",
       "..     ...    ...      ...    ...      ...       ...       ...        ...   \n",
       "210      M  80.60   Others  82.00   Others  Commerce     77.60  Comm&Mgmt   \n",
       "211      M  58.00   Others  60.00   Others   Science     72.00   Sci&Tech   \n",
       "212      M  67.00   Others  67.00   Others  Commerce     73.00  Comm&Mgmt   \n",
       "213      F  74.00   Others  66.00   Others  Commerce     58.00  Comm&Mgmt   \n",
       "214      M  62.00  Central  58.00   Others   Science     53.00  Comm&Mgmt   \n",
       "\n",
       "    workex  etest_p specialisation  mba_p      status    salary  \n",
       "0       No     55.0         Mkt&HR  58.80      Placed  270000.0  \n",
       "1      Yes     86.5        Mkt&Fin  66.28      Placed  200000.0  \n",
       "2       No     75.0        Mkt&Fin  57.80      Placed  250000.0  \n",
       "3       No     66.0         Mkt&HR  59.43  Not Placed       NaN  \n",
       "4       No     96.8        Mkt&Fin  55.50      Placed  425000.0  \n",
       "..     ...      ...            ...    ...         ...       ...  \n",
       "210     No     91.0        Mkt&Fin  74.49      Placed  400000.0  \n",
       "211     No     74.0        Mkt&Fin  53.62      Placed  275000.0  \n",
       "212    Yes     59.0        Mkt&Fin  69.72      Placed  295000.0  \n",
       "213     No     70.0         Mkt&HR  60.23      Placed  204000.0  \n",
       "214     No     89.0         Mkt&HR  60.22  Not Placed       NaN  \n",
       "\n",
       "[215 rows x 14 columns]"
      ]
     },
     "execution_count": 3,
     "metadata": {},
     "output_type": "execute_result"
    }
   ],
   "source": [
    "data = pd.read_csv('Campus Placement.csv')\n",
    "data"
   ]
  },
  {
   "cell_type": "code",
   "execution_count": 4,
   "id": "b1f82551",
   "metadata": {},
   "outputs": [],
   "source": [
    "data.rename(columns={'specialisation':'mba_t'}, inplace=True)"
   ]
  },
  {
   "cell_type": "code",
   "execution_count": 5,
   "id": "fd8daa0b",
   "metadata": {},
   "outputs": [],
   "source": [
    "data.fillna(0,inplace=True)"
   ]
  },
  {
   "cell_type": "markdown",
   "id": "0bcea51b",
   "metadata": {},
   "source": [
    "#### Function for value counts"
   ]
  },
  {
   "cell_type": "code",
   "execution_count": 6,
   "id": "07199063",
   "metadata": {},
   "outputs": [],
   "source": [
    "def valueCounts(lst):\n",
    "    for i in lst:\n",
    "        print(i)\n",
    "        print(data[i].value_counts())\n",
    "        print('')"
   ]
  },
  {
   "cell_type": "markdown",
   "id": "f2a4d131",
   "metadata": {},
   "source": [
    "#### status"
   ]
  },
  {
   "cell_type": "code",
   "execution_count": 7,
   "id": "31e311ce",
   "metadata": {},
   "outputs": [
    {
     "name": "stdout",
     "output_type": "stream",
     "text": [
      "status\n",
      "Placed        148\n",
      "Not Placed     67\n",
      "Name: status, dtype: int64\n",
      "\n"
     ]
    }
   ],
   "source": [
    "valueCounts(['status'])"
   ]
  },
  {
   "cell_type": "code",
   "execution_count": 8,
   "id": "5abdf1cb",
   "metadata": {},
   "outputs": [
    {
     "data": {
      "image/png": "[encoded data removed]",
      "text/plain": [
       "<Figure size 432x288 with 1 Axes>"
      ]
     },
     "metadata": {
      "needs_background": "light"
     },
     "output_type": "display_data"
    }
   ],
   "source": [
    "fig, ax = plt.subplots()\n",
    "\n",
    "ax. spines[\"right\"].set_visible(False)\n",
    "ax. spines[\"top\"].set_visible(False)\n",
    "ax. spines[\"bottom\"].set_visible(False)\n",
    "\n",
    "width = 0.5\n",
    "x = data['status'].value_counts().index\n",
    "y = data['status'].value_counts().values\n",
    " \n",
    "ax.barh(x, y, width, color = \"darkorange\")\n",
    " \n",
    "for i, v in enumerate(y):\n",
    "    ax.text(v + 3, i + .005, str(v),\n",
    "            color = 'dimgray', fontweight = 'bold')\n",
    "plt.show()"
   ]
  },
  {
   "cell_type": "markdown",
   "id": "7619a7fc",
   "metadata": {},
   "source": [
    "### salary"
   ]
  },
  {
   "cell_type": "code",
   "execution_count": 9,
   "id": "efaa1e21",
   "metadata": {},
   "outputs": [
    {
     "data": {
      "text/plain": [
       "<AxesSubplot:xlabel='salary', ylabel='Density'>"
      ]
     },
     "execution_count": 9,
     "metadata": {},
     "output_type": "execute_result"
    },
    {
     "data": {
      "image/png": "[encoded data removed]",
      "text/plain": [
       "<Figure size 720x360 with 1 Axes>"
      ]
     },
     "metadata": {
      "needs_background": "light"
     },
     "output_type": "display_data"
    }
   ],
   "source": [
    "fig = plt.figure(figsize=(10,5))\n",
    "plt.ticklabel_format(style='plain', axis='x')\n",
    "sns.distplot(data.salary, hist=True, bins = 40, color = 'darkorange')"
   ]
  },
  {
   "cell_type": "markdown",
   "id": "0b580c49",
   "metadata": {},
   "source": [
    "The 0's in data is disturbing the graph. So, let's take them out."
   ]
  },
  {
   "cell_type": "code",
   "execution_count": 10,
   "id": "612aa9d4",
   "metadata": {},
   "outputs": [],
   "source": [
    "df = data[data['salary'] != 0]"
   ]
  },
  {
   "cell_type": "code",
   "execution_count": 11,
   "id": "5a21c291",
   "metadata": {},
   "outputs": [
    {
     "data": {
      "text/plain": [
       "<AxesSubplot:xlabel='salary', ylabel='Density'>"
      ]
     },
     "execution_count": 11,
     "metadata": {},
     "output_type": "execute_result"
    },
    {
     "data": {
      "image/png": "[encoded data removed]",
      "text/plain": [
       "<Figure size 720x360 with 1 Axes>"
      ]
     },
     "metadata": {
      "needs_background": "light"
     },
     "output_type": "display_data"
    }
   ],
   "source": [
    "fig = plt.figure(figsize=(10,5))\n",
    "plt.ticklabel_format(style='plain', axis='x')\n",
    "sns.distplot(df.salary, hist=True, bins = 40, color = 'darkorange')"
   ]
  },
  {
   "cell_type": "markdown",
   "id": "7d254e86",
   "metadata": {},
   "source": [
    "The graph is extended in the right side with a very flat tail. Let's check them to confirm if they're outliers."
   ]
  },
  {
   "cell_type": "code",
   "execution_count": 12,
   "id": "ebcd4694",
   "metadata": {},
   "outputs": [
    {
     "data": {
      "text/html": [
       "<div>\n",
       "<style scoped>\n",
       "    .dataframe tbody tr th:only-of-type {\n",
       "        vertical-align: middle;\n",
       "    }\n",
       "\n",
       "    .dataframe tbody tr th {\n",
       "        vertical-align: top;\n",
       "    }\n",
       "\n",
       "    .dataframe thead th {\n",
       "        text-align: right;\n",
       "    }\n",
       "</style>\n",
       "<table border=\"1\" class=\"dataframe\">\n",
       "  <thead>\n",
       "    <tr style=\"text-align: right;\">\n",
       "      <th></th>\n",
       "      <th>gender</th>\n",
       "      <th>ssc_p</th>\n",
       "      <th>ssc_b</th>\n",
       "      <th>hsc_p</th>\n",
       "      <th>hsc_b</th>\n",
       "      <th>hsc_s</th>\n",
       "      <th>degree_p</th>\n",
       "      <th>degree_t</th>\n",
       "      <th>workex</th>\n",
       "      <th>etest_p</th>\n",
       "      <th>mba_t</th>\n",
       "      <th>mba_p</th>\n",
       "      <th>status</th>\n",
       "      <th>salary</th>\n",
       "    </tr>\n",
       "  </thead>\n",
       "  <tbody>\n",
       "    <tr>\n",
       "      <th>119</th>\n",
       "      <td>M</td>\n",
       "      <td>60.8</td>\n",
       "      <td>Central</td>\n",
       "      <td>68.40</td>\n",
       "      <td>Central</td>\n",
       "      <td>Commerce</td>\n",
       "      <td>64.6</td>\n",
       "      <td>Comm&amp;Mgmt</td>\n",
       "      <td>Yes</td>\n",
       "      <td>82.66</td>\n",
       "      <td>Mkt&amp;Fin</td>\n",
       "      <td>64.34</td>\n",
       "      <td>Placed</td>\n",
       "      <td>940000.0</td>\n",
       "    </tr>\n",
       "    <tr>\n",
       "      <th>150</th>\n",
       "      <td>M</td>\n",
       "      <td>71.0</td>\n",
       "      <td>Central</td>\n",
       "      <td>58.66</td>\n",
       "      <td>Central</td>\n",
       "      <td>Science</td>\n",
       "      <td>58.0</td>\n",
       "      <td>Sci&amp;Tech</td>\n",
       "      <td>Yes</td>\n",
       "      <td>56.00</td>\n",
       "      <td>Mkt&amp;Fin</td>\n",
       "      <td>61.30</td>\n",
       "      <td>Placed</td>\n",
       "      <td>690000.0</td>\n",
       "    </tr>\n",
       "    <tr>\n",
       "      <th>177</th>\n",
       "      <td>F</td>\n",
       "      <td>73.0</td>\n",
       "      <td>Central</td>\n",
       "      <td>97.00</td>\n",
       "      <td>Others</td>\n",
       "      <td>Commerce</td>\n",
       "      <td>79.0</td>\n",
       "      <td>Comm&amp;Mgmt</td>\n",
       "      <td>Yes</td>\n",
       "      <td>89.00</td>\n",
       "      <td>Mkt&amp;Fin</td>\n",
       "      <td>70.81</td>\n",
       "      <td>Placed</td>\n",
       "      <td>650000.0</td>\n",
       "    </tr>\n",
       "  </tbody>\n",
       "</table>\n",
       "</div>"
      ],
      "text/plain": [
       "    gender  ssc_p    ssc_b  hsc_p    hsc_b     hsc_s  degree_p   degree_t  \\\n",
       "119      M   60.8  Central  68.40  Central  Commerce      64.6  Comm&Mgmt   \n",
       "150      M   71.0  Central  58.66  Central   Science      58.0   Sci&Tech   \n",
       "177      F   73.0  Central  97.00   Others  Commerce      79.0  Comm&Mgmt   \n",
       "\n",
       "    workex  etest_p    mba_t  mba_p  status    salary  \n",
       "119    Yes    82.66  Mkt&Fin  64.34  Placed  940000.0  \n",
       "150    Yes    56.00  Mkt&Fin  61.30  Placed  690000.0  \n",
       "177    Yes    89.00  Mkt&Fin  70.81  Placed  650000.0  "
      ]
     },
     "execution_count": 12,
     "metadata": {},
     "output_type": "execute_result"
    }
   ],
   "source": [
    "df[df['salary'] > 500000]"
   ]
  },
  {
   "cell_type": "markdown",
   "id": "a7de7bb8",
   "metadata": {},
   "source": [
    "They look like outliers. Now let's see the graph without them"
   ]
  },
  {
   "cell_type": "code",
   "execution_count": 13,
   "id": "33c309f4",
   "metadata": {},
   "outputs": [],
   "source": [
    "df1 = df[df['salary']<510000]"
   ]
  },
  {
   "cell_type": "code",
   "execution_count": 14,
   "id": "6fe89051",
   "metadata": {},
   "outputs": [
    {
     "data": {
      "text/plain": [
       "<AxesSubplot:xlabel='salary', ylabel='Density'>"
      ]
     },
     "execution_count": 14,
     "metadata": {},
     "output_type": "execute_result"
    },
    {
     "data": {
      "image/png": "[encoded data removed]",
      "text/plain": [
       "<Figure size 720x360 with 1 Axes>"
      ]
     },
     "metadata": {
      "needs_background": "light"
     },
     "output_type": "display_data"
    }
   ],
   "source": [
    "fig = plt.figure(figsize=(10,5))\n",
    "plt.ticklabel_format(style='plain', axis='x')\n",
    "sns.distplot(df1.salary, hist=True, bins = 40, color = 'darkorange')"
   ]
  },
  {
   "cell_type": "markdown",
   "id": "d80050d8",
   "metadata": {},
   "source": [
    "First, let's just focus on the histogram ignoring the kde line \n",
    "1. From 200k to 300k the graph rises and falls very steaply.\n",
    "2. Sharply at 300k there is an abnormal frequency of students.\n",
    "3. Again, from 300k to 450k, we see a small hill.\n",
    "4. Finally, at 500k there is a good rise.     \n",
    "\n",
    "The first point is normal but, The other three points are to be focused and summarized."
   ]
  },
  {
   "cell_type": "code",
   "execution_count": 15,
   "id": "877cc2fd",
   "metadata": {},
   "outputs": [
    {
     "data": {
      "text/plain": [
       "<AxesSubplot:xlabel='salary', ylabel='Density'>"
      ]
     },
     "execution_count": 15,
     "metadata": {},
     "output_type": "execute_result"
    },
    {
     "data": {
      "image/png": "[encoded data removed]",
      "text/plain": [
       "<Figure size 576x360 with 1 Axes>"
      ]
     },
     "metadata": {
      "needs_background": "light"
     },
     "output_type": "display_data"
    }
   ],
   "source": [
    "plt.figure(figsize=(8, 5))\n",
    "plt.axvline(x=300000, ymin=0.0, ymax=0.8, ls='dotted', color='maroon', label='Central',linewidth = 1.5)\n",
    "plt.axvline(x=310000, ymin=0.0, ymax=0.8, ls='dotted', color='maroon', label='Central',linewidth = 1.5)\n",
    "sns.distplot(df1.salary, hist=True, bins = 30, color = 'darkorange')"
   ]
  },
  {
   "cell_type": "markdown",
   "id": "1981efbf",
   "metadata": {},
   "source": [
    "we got the limits"
   ]
  },
  {
   "cell_type": "code",
   "execution_count": 16,
   "id": "d04acbe2",
   "metadata": {},
   "outputs": [
    {
     "data": {
      "text/plain": [
       "(22, 14)"
      ]
     },
     "execution_count": 16,
     "metadata": {},
     "output_type": "execute_result"
    }
   ],
   "source": [
    "d = df1[df1['salary'] >= 300000]\n",
    "d[d['salary']<=310000].shape"
   ]
  },
  {
   "cell_type": "markdown",
   "id": "43c6a4a1",
   "metadata": {},
   "source": [
    "From 300k to 450k, the small hill might be due to some groups"
   ]
  },
  {
   "cell_type": "code",
   "execution_count": 17,
   "id": "3de29adc",
   "metadata": {},
   "outputs": [
    {
     "data": {
      "text/html": [
       "<div>\n",
       "<style scoped>\n",
       "    .dataframe tbody tr th:only-of-type {\n",
       "        vertical-align: middle;\n",
       "    }\n",
       "\n",
       "    .dataframe tbody tr th {\n",
       "        vertical-align: top;\n",
       "    }\n",
       "\n",
       "    .dataframe thead th {\n",
       "        text-align: right;\n",
       "    }\n",
       "</style>\n",
       "<table border=\"1\" class=\"dataframe\">\n",
       "  <thead>\n",
       "    <tr style=\"text-align: right;\">\n",
       "      <th></th>\n",
       "      <th>gender</th>\n",
       "      <th>ssc_p</th>\n",
       "      <th>ssc_b</th>\n",
       "      <th>hsc_p</th>\n",
       "      <th>hsc_b</th>\n",
       "      <th>hsc_s</th>\n",
       "      <th>degree_p</th>\n",
       "      <th>degree_t</th>\n",
       "      <th>workex</th>\n",
       "      <th>etest_p</th>\n",
       "      <th>mba_t</th>\n",
       "      <th>mba_p</th>\n",
       "      <th>status</th>\n",
       "      <th>salary</th>\n",
       "    </tr>\n",
       "  </thead>\n",
       "  <tbody>\n",
       "    <tr>\n",
       "      <th>77</th>\n",
       "      <td>M</td>\n",
       "      <td>64.00</td>\n",
       "      <td>Others</td>\n",
       "      <td>80.00</td>\n",
       "      <td>Others</td>\n",
       "      <td>Science</td>\n",
       "      <td>65.00</td>\n",
       "      <td>Sci&amp;Tech</td>\n",
       "      <td>Yes</td>\n",
       "      <td>69.0</td>\n",
       "      <td>Mkt&amp;Fin</td>\n",
       "      <td>57.65</td>\n",
       "      <td>Placed</td>\n",
       "      <td>500000.0</td>\n",
       "    </tr>\n",
       "    <tr>\n",
       "      <th>163</th>\n",
       "      <td>M</td>\n",
       "      <td>63.00</td>\n",
       "      <td>Others</td>\n",
       "      <td>67.00</td>\n",
       "      <td>Others</td>\n",
       "      <td>Science</td>\n",
       "      <td>64.00</td>\n",
       "      <td>Sci&amp;Tech</td>\n",
       "      <td>No</td>\n",
       "      <td>75.0</td>\n",
       "      <td>Mkt&amp;Fin</td>\n",
       "      <td>66.46</td>\n",
       "      <td>Placed</td>\n",
       "      <td>500000.0</td>\n",
       "    </tr>\n",
       "    <tr>\n",
       "      <th>174</th>\n",
       "      <td>M</td>\n",
       "      <td>73.24</td>\n",
       "      <td>Others</td>\n",
       "      <td>50.83</td>\n",
       "      <td>Others</td>\n",
       "      <td>Science</td>\n",
       "      <td>64.27</td>\n",
       "      <td>Sci&amp;Tech</td>\n",
       "      <td>Yes</td>\n",
       "      <td>64.0</td>\n",
       "      <td>Mkt&amp;Fin</td>\n",
       "      <td>66.23</td>\n",
       "      <td>Placed</td>\n",
       "      <td>500000.0</td>\n",
       "    </tr>\n",
       "  </tbody>\n",
       "</table>\n",
       "</div>"
      ],
      "text/plain": [
       "    gender  ssc_p   ssc_b  hsc_p   hsc_b    hsc_s  degree_p  degree_t workex  \\\n",
       "77       M  64.00  Others  80.00  Others  Science     65.00  Sci&Tech    Yes   \n",
       "163      M  63.00  Others  67.00  Others  Science     64.00  Sci&Tech     No   \n",
       "174      M  73.24  Others  50.83  Others  Science     64.27  Sci&Tech    Yes   \n",
       "\n",
       "     etest_p    mba_t  mba_p  status    salary  \n",
       "77      69.0  Mkt&Fin  57.65  Placed  500000.0  \n",
       "163     75.0  Mkt&Fin  66.46  Placed  500000.0  \n",
       "174     64.0  Mkt&Fin  66.23  Placed  500000.0  "
      ]
     },
     "execution_count": 17,
     "metadata": {},
     "output_type": "execute_result"
    }
   ],
   "source": [
    "df[df['salary'] == 500000]"
   ]
  },
  {
   "cell_type": "markdown",
   "id": "6dc98b5b",
   "metadata": {},
   "source": [
    "This is only rise of 3 records, So, lets just leave it as it is."
   ]
  },
  {
   "cell_type": "code",
   "execution_count": 18,
   "id": "9e108421",
   "metadata": {},
   "outputs": [
    {
     "data": {
      "image/png": "[encoded data removed]",
      "text/plain": [
       "<Figure size 1080x288 with 2 Axes>"
      ]
     },
     "metadata": {
      "needs_background": "light"
     },
     "output_type": "display_data"
    }
   ],
   "source": [
    "x = df1.salary.values\n",
    "fig, axes = plt.subplots(ncols=2, figsize=(15, 4))\n",
    "for ax in axes:\n",
    "    sns.kdeplot(x, shade=False, color='darkorange', ax=ax)\n",
    "    kdeline = ax.lines[0]\n",
    "    xs = kdeline.get_xdata()\n",
    "    ys = kdeline.get_ydata()\n",
    "    if ax == axes[0]:\n",
    "        middle = x.mean()\n",
    "        sdev = x.std()\n",
    "        left = middle - sdev\n",
    "        right = middle + sdev\n",
    "        ax.set_title('Showing mean and std_dev')\n",
    "    else:\n",
    "        left, middle, right = np.percentile(x, [25, 50, 75])\n",
    "        ax.set_title('Showing median and quartiles')\n",
    "    ax.vlines(middle, 0, np.interp(middle, xs, ys), color='darkorange', ls=':')\n",
    "    center_value = (((max(df1.salary) - min(df1.salary))/2)+min(df1.salary))\n",
    "    ax.vlines(center_value, 0, np.interp(center_value, xs, ys), color='dimgray', ls='-')\n",
    "    ax.ticklabel_format(style='plain', axis = 'x')\n",
    "    ax.fill_between(xs, 0, ys, facecolor='darkorange', alpha=0.2)\n",
    "    ax.fill_between(xs, 0, ys, where=(left <= xs) & (xs <= right), interpolate=True, facecolor='darkorange', alpha=0.2)\n",
    "    # ax.set_ylim(ymin=0)\n",
    "plt.show()"
   ]
  },
  {
   "cell_type": "markdown",
   "id": "0bbc575f",
   "metadata": {},
   "source": [
    "- Mean and Median are far from each other\n",
    "- the center value(gray line) is very well right shifted, which tells us the graph is shifted to the left\n",
    "- we expect 3 different groups to be involved in the graph because, there are 3 peaks"
   ]
  },
  {
   "cell_type": "code",
   "execution_count": 19,
   "id": "0ea42ec7",
   "metadata": {},
   "outputs": [
    {
     "name": "stdout",
     "output_type": "stream",
     "text": [
      "min:           200000.0\n",
      "max:           500000.0\n",
      "center value:  350000.0\n",
      "mean:          278903.4482758621\n",
      "median:        264000.0\n",
      "mode:        0    300000.0\n",
      "Name: salary, dtype: float64\n"
     ]
    }
   ],
   "source": [
    "print('min:          ',min(df1.salary))\n",
    "print('max:          ',max(df1.salary))\n",
    "print('center value: ',(((max(df1.salary) - min(df1.salary))/2)+min(df1.salary)))\n",
    "print('mean:         ', df1.salary.mean())\n",
    "print('median:       ',df1.salary.median())\n",
    "print('mode:       ',df1.salary.mode())"
   ]
  },
  {
   "cell_type": "code",
   "execution_count": 20,
   "id": "b26d9a38",
   "metadata": {},
   "outputs": [
    {
     "name": "stdout",
     "output_type": "stream",
     "text": [
      "skewedness =  1.48\n",
      "kurtosis =  5.33\n"
     ]
    }
   ],
   "source": [
    "print('skewedness = ',round(skew(df1.salary.values, axis=0, bias=True),2))\n",
    "print('kurtosis = ', round(kurtosis(df1.salary.values, fisher=False),2))"
   ]
  },
  {
   "cell_type": "markdown",
   "id": "378aed15",
   "metadata": {},
   "source": [
    "#### Norms for normal distribution\n",
    "- skewedness = 0\n",
    "- kurtosis = 3\n",
    "\n",
    "#### Our graph result\n",
    "- As 1.48 > 0, very well left skewed\n",
    "- as 5.33 > 3, very sharp peak and very thin tails"
   ]
  },
  {
   "cell_type": "code",
   "execution_count": 21,
   "id": "27d20a71",
   "metadata": {
    "scrolled": true
   },
   "outputs": [
    {
     "data": {
      "text/plain": [
       "<AxesSubplot:xlabel='salary'>"
      ]
     },
     "execution_count": 21,
     "metadata": {},
     "output_type": "execute_result"
    },
    {
     "data": {
      "image/png": "[encoded data removed]",
      "text/plain": [
       "<Figure size 432x288 with 1 Axes>"
      ]
     },
     "metadata": {
      "needs_background": "light"
     },
     "output_type": "display_data"
    }
   ],
   "source": [
    "sns.boxplot(df1.salary,color = 'orange')"
   ]
  },
  {
   "cell_type": "markdown",
   "id": "3d0ca488",
   "metadata": {},
   "source": [
    "## **Assumptions**"
   ]
  },
  {
   "cell_type": "markdown",
   "id": "a0a9cf0a",
   "metadata": {},
   "source": [
    "## cramer's V\n",
    "- #### Categorical to Categorical"
   ]
  },
  {
   "cell_type": "markdown",
   "id": "eaa98886",
   "metadata": {},
   "source": [
    "  - [x] Sensitive to, \n",
    "    - [x]  Larger dataset\n",
    "        - Considerably good dataset\n",
    "    - [x]  Small dataset\n",
    "        - Considerably good dataset\n",
    "    - [x] Skewed dataset\n",
    "        - Not highly skewed\n",
    "- [x] Should not have large no of categories\n",
    "    - Doesn't have many no of categories\n",
    "- [x] It is Symmetrical (No differenciation between **independent** and **dependent**)\n",
    "    - We can use Theil's U for it be work in asymmetric manner\n",
    "        - We'll see both"
   ]
  },
  {
   "cell_type": "markdown",
   "id": "d55ce312",
   "metadata": {},
   "source": [
    "## Logistic Regression\n",
    "- #### Categorical(DV) to Continuous(IV)"
   ]
  },
  {
   "cell_type": "markdown",
   "id": "a9213c24",
   "metadata": {},
   "source": [
    "- [x] Binary logistic regression requires the dependent variable to be binary.\n",
    "    - It is binary\n",
    "- [x] Only the meaningful variables should be included.\n",
    "- [x] Affected by strongly influencial outliers\n",
    "    - There are no influencial outliers\n",
    "- [x] The independent variables should be independent of each other. That is, the model should have little or no multicollinearity.\n",
    "    - Very less colinearity between columns(As seen in the pairplot)\n",
    "- [x] The independent variables are linearly related to the log odds.\n",
    "    - We'll check them during the course\n",
    "- [x] Logistic regression requires quite large sample sizes.\n",
    "     - It is a good dataset"
   ]
  },
  {
   "cell_type": "markdown",
   "id": "8e4a0c91",
   "metadata": {},
   "source": [
    "## Pearson's Correlation coeficient\n",
    "- #### Continuous to Continuous"
   ]
  },
  {
   "cell_type": "markdown",
   "id": "f2757d97",
   "metadata": {},
   "source": [
    "- [ ] No distiguishing between independent and dependent\n",
    "- [ ] It cannot determine the nonlinear relationships between variables\n",
    "- [ ] Sensitive to outliers\n",
    "- [ ] Sensitive to high Skewedness and high Kurtosis\n",
    "- [x] Should be towards normal \n",
    "    - [ ] Can use Spearman instead(Does not assume normality)"
   ]
  },
  {
   "cell_type": "markdown",
   "id": "ca50300b",
   "metadata": {},
   "source": [
    "## Anova\n",
    "- #### Continuous(DV) to Categorical(IV)"
   ]
  },
  {
   "cell_type": "markdown",
   "id": "bab49df1",
   "metadata": {},
   "source": [
    "- [ ] One-way Anova only for single dependent variable\n",
    "- [ ] It can tell us one pair is significant but, cannot tell which one is!\n",
    "- [ ] Normal Distribution within groups\n",
    "- [ ] Sample's standard deviation's should not have a large difference\n",
    "- [ ] Samples to be independent, if not do repeated tests"
   ]
  },
  {
   "cell_type": "code",
   "execution_count": 22,
   "id": "e90dca5b",
   "metadata": {},
   "outputs": [
    {
     "data": {
      "text/plain": [
       "Index(['gender', 'ssc_p', 'ssc_b', 'hsc_p', 'hsc_b', 'hsc_s', 'degree_p',\n",
       "       'degree_t', 'workex', 'etest_p', 'mba_t', 'mba_p', 'status', 'salary'],\n",
       "      dtype='object')"
      ]
     },
     "execution_count": 22,
     "metadata": {},
     "output_type": "execute_result"
    }
   ],
   "source": [
    "data.columns"
   ]
  },
  {
   "cell_type": "markdown",
   "id": "137bdf9a",
   "metadata": {},
   "source": [
    "## Create Dummies"
   ]
  },
  {
   "cell_type": "code",
   "execution_count": 23,
   "id": "a2681cc4",
   "metadata": {},
   "outputs": [],
   "source": [
    "data_copy = data.copy()\n",
    "\n",
    "cat_vars=['gender', 'ssc_b', 'hsc_b', 'hsc_s','degree_t', 'workex', 'mba_t']\n",
    "for var in cat_vars:\n",
    "    cat_list='var'+'_'+var\n",
    "    cat_list = pd.get_dummies(data_copy[var], prefix=var)\n",
    "    data1=data_copy.join(cat_list)\n",
    "    data_copy = data1\n",
    "    \n",
    "cat_vars=['gender', 'ssc_b', 'hsc_b', 'hsc_s','degree_t', 'workex', 'mba_t']\n",
    "data_vars=data_copy.columns.values.tolist()\n",
    "to_keep=[i for i in data_vars if i not in cat_vars]"
   ]
  },
  {
   "cell_type": "code",
   "execution_count": 24,
   "id": "98c473ca",
   "metadata": {},
   "outputs": [
    {
     "data": {
      "text/plain": [
       "Index(['ssc_p', 'hsc_p', 'degree_p', 'etest_p', 'mba_p', 'status', 'salary',\n",
       "       'gender_F', 'gender_M', 'ssc_b_Central', 'ssc_b_Others',\n",
       "       'hsc_b_Central', 'hsc_b_Others', 'hsc_s_Arts', 'hsc_s_Commerce',\n",
       "       'hsc_s_Science', 'degree_t_Comm&Mgmt', 'degree_t_Others',\n",
       "       'degree_t_Sci&Tech', 'workex_No', 'workex_Yes', 'mba_t_Mkt&Fin',\n",
       "       'mba_t_Mkt&HR'],\n",
       "      dtype='object')"
      ]
     },
     "execution_count": 24,
     "metadata": {},
     "output_type": "execute_result"
    }
   ],
   "source": [
    "data_final=data_copy[to_keep]\n",
    "data_final.columns"
   ]
  },
  {
   "cell_type": "markdown",
   "id": "d76e8e81",
   "metadata": {},
   "source": [
    "## SMOTE"
   ]
  },
  {
   "cell_type": "code",
   "execution_count": 25,
   "id": "f92a9df9",
   "metadata": {},
   "outputs": [],
   "source": [
    "X = data_final[['ssc_p', 'hsc_p', 'degree_p', 'etest_p', 'mba_p',\n",
    "       'gender_F', 'gender_M', 'ssc_b_Central', 'ssc_b_Others',\n",
    "       'hsc_b_Central', 'hsc_b_Others', 'hsc_s_Arts', 'hsc_s_Commerce',\n",
    "       'hsc_s_Science', 'degree_t_Comm&Mgmt', 'degree_t_Others',\n",
    "       'degree_t_Sci&Tech', 'workex_No', 'workex_Yes', 'mba_t_Mkt&Fin',\n",
    "       'mba_t_Mkt&HR']]\n",
    "\n",
    "y = data_final['status']"
   ]
  },
  {
   "cell_type": "code",
   "execution_count": 26,
   "id": "603fa7dc",
   "metadata": {},
   "outputs": [
    {
     "name": "stdout",
     "output_type": "stream",
     "text": [
      "length of data before oversampling is  150\n",
      "length of data after oversampling is  204\n",
      "\n",
      "Number of Placed in data before oversampling is  102\n",
      "Number of Not Placed in data before oversampling is  48\n",
      "\n",
      "Number of Placed in oversampled data 102\n",
      "Number of Not Placed in oversampled data 102\n",
      "\n",
      "Proportion of Placed data in oversampled data is  0.5\n",
      "Proportion of Not Placed data in oversampled data is  0.5\n"
     ]
    }
   ],
   "source": [
    "os = SMOTE(random_state=0)\n",
    "X_train, X_test, y_train, y_test = train_test_split(X, y, test_size=0.3, random_state=0)\n",
    "columns = X_train.columns\n",
    "os_data_X,os_data_y=os.fit_resample(X_train, y_train.ravel())\n",
    "os_data_X = pd.DataFrame(data=os_data_X,columns=columns )\n",
    "os_data_y= pd.DataFrame(data=os_data_y,columns=['y'])\n",
    "\n",
    "# we can Check the numbers of our data\n",
    "print(\"length of data before oversampling is \",len(X_train))\n",
    "print(\"length of data after oversampling is \",len(os_data_X))\n",
    "print('')\n",
    "print(\"Number of Placed in data before oversampling is \", len(y_train[y_train=='Placed']))\n",
    "print(\"Number of Not Placed in data before oversampling is \", len(y_train[y_train=='Not Placed']))\n",
    "print('')\n",
    "print(\"Number of Placed in oversampled data\",len(os_data_y[os_data_y['y']=='Placed']))\n",
    "print(\"Number of Not Placed in oversampled data\",len(os_data_y[os_data_y['y']=='Not Placed']))\n",
    "print('')\n",
    "print(\"Proportion of Placed data in oversampled data is \",len(os_data_y[os_data_y['y']=='Placed'])/len(os_data_X))\n",
    "print(\"Proportion of Not Placed data in oversampled data is \",len(os_data_y[os_data_y['y']=='Not Placed'])/len(os_data_X))"
   ]
  },
  {
   "cell_type": "code",
   "execution_count": 27,
   "id": "21d0dc80",
   "metadata": {},
   "outputs": [
    {
     "name": "stdout",
     "output_type": "stream",
     "text": [
      "(150, 21) (65, 21)\n",
      "(150,) (65,)\n"
     ]
    }
   ],
   "source": [
    "print(X_train.shape,X_test.shape)\n",
    "print(y_train.shape,y_test.shape)"
   ]
  },
  {
   "cell_type": "code",
   "execution_count": 28,
   "id": "0fffbefd",
   "metadata": {},
   "outputs": [
    {
     "name": "stdout",
     "output_type": "stream",
     "text": [
      "(204, 21)\n",
      "(204, 1)\n"
     ]
    }
   ],
   "source": [
    "print(os_data_X.shape)\n",
    "print(os_data_y.shape)"
   ]
  },
  {
   "cell_type": "markdown",
   "id": "4c008b3d",
   "metadata": {},
   "source": [
    "## STATUS DEPENDENCIES"
   ]
  },
  {
   "cell_type": "markdown",
   "id": "40df1610",
   "metadata": {},
   "source": [
    "### Logistic Regression"
   ]
  },
  {
   "cell_type": "markdown",
   "id": "435d6e9c",
   "metadata": {},
   "source": [
    "#### Checking Linearity with log-odds for only Continuous variables"
   ]
  },
  {
   "cell_type": "code",
   "execution_count": 29,
   "id": "ad46ad55",
   "metadata": {},
   "outputs": [
    {
     "data": {
      "text/html": [
       "<div>\n",
       "<style scoped>\n",
       "    .dataframe tbody tr th:only-of-type {\n",
       "        vertical-align: middle;\n",
       "    }\n",
       "\n",
       "    .dataframe tbody tr th {\n",
       "        vertical-align: top;\n",
       "    }\n",
       "\n",
       "    .dataframe thead th {\n",
       "        text-align: right;\n",
       "    }\n",
       "</style>\n",
       "<table border=\"1\" class=\"dataframe\">\n",
       "  <thead>\n",
       "    <tr style=\"text-align: right;\">\n",
       "      <th></th>\n",
       "      <th>ssc_p</th>\n",
       "      <th>hsc_p</th>\n",
       "      <th>degree_p</th>\n",
       "      <th>etest_p</th>\n",
       "      <th>mba_p</th>\n",
       "      <th>gender_F</th>\n",
       "      <th>gender_M</th>\n",
       "      <th>ssc_b_Central</th>\n",
       "      <th>ssc_b_Others</th>\n",
       "      <th>hsc_b_Central</th>\n",
       "      <th>...</th>\n",
       "      <th>degree_t_Sci&amp;Tech</th>\n",
       "      <th>workex_No</th>\n",
       "      <th>workex_Yes</th>\n",
       "      <th>mba_t_Mkt&amp;Fin</th>\n",
       "      <th>mba_t_Mkt&amp;HR</th>\n",
       "      <th>ssc_p:Log_ssc_p</th>\n",
       "      <th>hsc_p:Log_hsc_p</th>\n",
       "      <th>degree_p:Log_degree_p</th>\n",
       "      <th>etest_p:Log_etest_p</th>\n",
       "      <th>mba_p:Log_mba_p</th>\n",
       "    </tr>\n",
       "  </thead>\n",
       "  <tbody>\n",
       "    <tr>\n",
       "      <th>0</th>\n",
       "      <td>67.00</td>\n",
       "      <td>91.00</td>\n",
       "      <td>58.00</td>\n",
       "      <td>55.0</td>\n",
       "      <td>58.80</td>\n",
       "      <td>0</td>\n",
       "      <td>1</td>\n",
       "      <td>0</td>\n",
       "      <td>1</td>\n",
       "      <td>0</td>\n",
       "      <td>...</td>\n",
       "      <td>1</td>\n",
       "      <td>1</td>\n",
       "      <td>0</td>\n",
       "      <td>0</td>\n",
       "      <td>1</td>\n",
       "      <td>281.714405</td>\n",
       "      <td>410.488215</td>\n",
       "      <td>235.505695</td>\n",
       "      <td>220.403325</td>\n",
       "      <td>239.559541</td>\n",
       "    </tr>\n",
       "    <tr>\n",
       "      <th>1</th>\n",
       "      <td>79.33</td>\n",
       "      <td>78.33</td>\n",
       "      <td>77.48</td>\n",
       "      <td>86.5</td>\n",
       "      <td>66.28</td>\n",
       "      <td>0</td>\n",
       "      <td>1</td>\n",
       "      <td>1</td>\n",
       "      <td>0</td>\n",
       "      <td>0</td>\n",
       "      <td>...</td>\n",
       "      <td>1</td>\n",
       "      <td>0</td>\n",
       "      <td>1</td>\n",
       "      <td>1</td>\n",
       "      <td>0</td>\n",
       "      <td>346.958986</td>\n",
       "      <td>341.591699</td>\n",
       "      <td>337.039537</td>\n",
       "      <td>385.802492</td>\n",
       "      <td>277.970909</td>\n",
       "    </tr>\n",
       "    <tr>\n",
       "      <th>2</th>\n",
       "      <td>65.00</td>\n",
       "      <td>68.00</td>\n",
       "      <td>64.00</td>\n",
       "      <td>75.0</td>\n",
       "      <td>57.80</td>\n",
       "      <td>0</td>\n",
       "      <td>1</td>\n",
       "      <td>1</td>\n",
       "      <td>0</td>\n",
       "      <td>1</td>\n",
       "      <td>...</td>\n",
       "      <td>0</td>\n",
       "      <td>1</td>\n",
       "      <td>0</td>\n",
       "      <td>1</td>\n",
       "      <td>0</td>\n",
       "      <td>271.335173</td>\n",
       "      <td>286.926524</td>\n",
       "      <td>266.168517</td>\n",
       "      <td>323.811609</td>\n",
       "      <td>234.493951</td>\n",
       "    </tr>\n",
       "    <tr>\n",
       "      <th>3</th>\n",
       "      <td>56.00</td>\n",
       "      <td>52.00</td>\n",
       "      <td>52.00</td>\n",
       "      <td>66.0</td>\n",
       "      <td>59.43</td>\n",
       "      <td>0</td>\n",
       "      <td>1</td>\n",
       "      <td>1</td>\n",
       "      <td>0</td>\n",
       "      <td>1</td>\n",
       "      <td>...</td>\n",
       "      <td>1</td>\n",
       "      <td>1</td>\n",
       "      <td>0</td>\n",
       "      <td>0</td>\n",
       "      <td>1</td>\n",
       "      <td>225.419695</td>\n",
       "      <td>205.464673</td>\n",
       "      <td>205.464673</td>\n",
       "      <td>276.517213</td>\n",
       "      <td>242.759613</td>\n",
       "    </tr>\n",
       "    <tr>\n",
       "      <th>4</th>\n",
       "      <td>85.80</td>\n",
       "      <td>73.60</td>\n",
       "      <td>73.30</td>\n",
       "      <td>96.8</td>\n",
       "      <td>55.50</td>\n",
       "      <td>0</td>\n",
       "      <td>1</td>\n",
       "      <td>1</td>\n",
       "      <td>0</td>\n",
       "      <td>1</td>\n",
       "      <td>...</td>\n",
       "      <td>0</td>\n",
       "      <td>1</td>\n",
       "      <td>0</td>\n",
       "      <td>1</td>\n",
       "      <td>0</td>\n",
       "      <td>381.983231</td>\n",
       "      <td>316.380274</td>\n",
       "      <td>314.791293</td>\n",
       "      <td>442.632229</td>\n",
       "      <td>222.909258</td>\n",
       "    </tr>\n",
       "  </tbody>\n",
       "</table>\n",
       "<p>5 rows × 26 columns</p>\n",
       "</div>"
      ],
      "text/plain": [
       "   ssc_p  hsc_p  degree_p  etest_p  mba_p  gender_F  gender_M  ssc_b_Central  \\\n",
       "0  67.00  91.00     58.00     55.0  58.80         0         1              0   \n",
       "1  79.33  78.33     77.48     86.5  66.28         0         1              1   \n",
       "2  65.00  68.00     64.00     75.0  57.80         0         1              1   \n",
       "3  56.00  52.00     52.00     66.0  59.43         0         1              1   \n",
       "4  85.80  73.60     73.30     96.8  55.50         0         1              1   \n",
       "\n",
       "   ssc_b_Others  hsc_b_Central  ...  degree_t_Sci&Tech  workex_No  workex_Yes  \\\n",
       "0             1              0  ...                  1          1           0   \n",
       "1             0              0  ...                  1          0           1   \n",
       "2             0              1  ...                  0          1           0   \n",
       "3             0              1  ...                  1          1           0   \n",
       "4             0              1  ...                  0          1           0   \n",
       "\n",
       "   mba_t_Mkt&Fin  mba_t_Mkt&HR  ssc_p:Log_ssc_p  hsc_p:Log_hsc_p  \\\n",
       "0              0             1       281.714405       410.488215   \n",
       "1              1             0       346.958986       341.591699   \n",
       "2              1             0       271.335173       286.926524   \n",
       "3              0             1       225.419695       205.464673   \n",
       "4              1             0       381.983231       316.380274   \n",
       "\n",
       "   degree_p:Log_degree_p  etest_p:Log_etest_p  mba_p:Log_mba_p  \n",
       "0             235.505695           220.403325       239.559541  \n",
       "1             337.039537           385.802492       277.970909  \n",
       "2             266.168517           323.811609       234.493951  \n",
       "3             205.464673           276.517213       242.759613  \n",
       "4             314.791293           442.632229       222.909258  \n",
       "\n",
       "[5 rows x 26 columns]"
      ]
     },
     "execution_count": 29,
     "metadata": {},
     "output_type": "execute_result"
    }
   ],
   "source": [
    "X1 = data_final[['ssc_p', 'hsc_p', 'degree_p', 'etest_p', 'mba_p',\n",
    "       'gender_F', 'gender_M', 'ssc_b_Central', 'ssc_b_Others',\n",
    "       'hsc_b_Central', 'hsc_b_Others', 'hsc_s_Arts', 'hsc_s_Commerce',\n",
    "       'hsc_s_Science', 'degree_t_Comm&Mgmt', 'degree_t_Others',\n",
    "       'degree_t_Sci&Tech', 'workex_No', 'workex_Yes', 'mba_t_Mkt&Fin',\n",
    "       'mba_t_Mkt&HR']].copy()  # lt = logit transform\n",
    "\n",
    "# Define continuous variables\n",
    "continuous_var = ['ssc_p', 'hsc_p', 'degree_p', 'etest_p', 'mba_p']\n",
    "\n",
    "# Add logit transform interaction terms (natural log) for continuous variables e.g. Age * Log(Age)\n",
    "for var in continuous_var:\n",
    "    X1[f'{var}:Log_{var}'] = X1[var].apply(lambda x: x * np.log(x)) #np.log = natural log\n",
    "\n",
    "X1.head()"
   ]
  },
  {
   "cell_type": "code",
   "execution_count": 30,
   "id": "7ccb3f8a",
   "metadata": {},
   "outputs": [
    {
     "data": {
      "text/plain": [
       "['ssc_p',\n",
       " 'hsc_p',\n",
       " 'degree_p',\n",
       " 'etest_p',\n",
       " 'mba_p',\n",
       " 'ssc_p:Log_ssc_p',\n",
       " 'hsc_p:Log_hsc_p',\n",
       " 'degree_p:Log_degree_p',\n",
       " 'etest_p:Log_etest_p',\n",
       " 'mba_p:Log_mba_p']"
      ]
     },
     "execution_count": 30,
     "metadata": {},
     "output_type": "execute_result"
    }
   ],
   "source": [
    "# Keep columns related to continuous variables\n",
    "cols_to_keep = continuous_var + X1.columns.tolist()[-len(continuous_var):]\n",
    "cols_to_keep"
   ]
  },
  {
   "cell_type": "code",
   "execution_count": 31,
   "id": "8a263257",
   "metadata": {},
   "outputs": [],
   "source": [
    "dataset = data_final['status'].replace('Not Placed', 1).replace('Placed', 0)"
   ]
  },
  {
   "cell_type": "code",
   "execution_count": 32,
   "id": "564bcadd",
   "metadata": {},
   "outputs": [
    {
     "data": {
      "text/plain": [
       "0      0\n",
       "1      0\n",
       "2      0\n",
       "3      1\n",
       "4      0\n",
       "      ..\n",
       "210    0\n",
       "211    0\n",
       "212    0\n",
       "213    0\n",
       "214    1\n",
       "Name: status, Length: 215, dtype: int64"
      ]
     },
     "execution_count": 32,
     "metadata": {},
     "output_type": "execute_result"
    }
   ],
   "source": [
    "dataset"
   ]
  },
  {
   "cell_type": "code",
   "execution_count": 33,
   "id": "02101641",
   "metadata": {},
   "outputs": [
    {
     "name": "stdout",
     "output_type": "stream",
     "text": [
      "                 Generalized Linear Model Regression Results                  \n",
      "==============================================================================\n",
      "Dep. Variable:                 status   No. Observations:                  215\n",
      "Model:                            GLM   Df Residuals:                      204\n",
      "Model Family:                Binomial   Df Model:                           10\n",
      "Link Function:                  Logit   Scale:                          1.0000\n",
      "Method:                          IRLS   Log-Likelihood:                -62.291\n",
      "Date:                Wed, 13 Jul 2022   Deviance:                       124.58\n",
      "Time:                        18:41:00   Pearson chi2:                     146.\n",
      "No. Iterations:                     7   Pseudo R-squ. (CS):             0.4838\n",
      "Covariance Type:            nonrobust                                         \n",
      "=========================================================================================\n",
      "                            coef    std err          z      P>|z|      [0.025      0.975]\n",
      "-----------------------------------------------------------------------------------------\n",
      "ssc_p                     0.3350      2.063      0.162      0.871      -3.709       4.379\n",
      "hsc_p                    -2.6515      1.438     -1.843      0.065      -5.471       0.168\n",
      "degree_p                 -0.7399      3.851     -0.192      0.848      -8.288       6.808\n",
      "etest_p                   0.4165      1.169      0.356      0.722      -1.876       2.709\n",
      "mba_p                    -0.9123      3.738     -0.244      0.807      -8.239       6.415\n",
      "ssc_p:Log_ssc_p          -0.1000      0.400     -0.250      0.803      -0.885       0.685\n",
      "hsc_p:Log_hsc_p           0.4916      0.276      1.783      0.075      -0.049       1.032\n",
      "degree_p:Log_degree_p     0.1161      0.743      0.156      0.876      -1.340       1.572\n",
      "etest_p:Log_etest_p      -0.0771      0.222     -0.348      0.728      -0.512       0.358\n",
      "mba_p:Log_mba_p           0.2159      0.727      0.297      0.767      -1.209       1.641\n",
      "const                    54.9261     64.173      0.856      0.392     -70.850     180.702\n",
      "=========================================================================================\n"
     ]
    }
   ],
   "source": [
    "# Redefine independent variables to include interaction terms\n",
    "X_lt = X1[cols_to_keep]\n",
    "y_lt = dataset\n",
    "\n",
    "# Add constant\n",
    "X_lt_constant = sm.add_constant(X_lt, prepend=False)\n",
    "  \n",
    "# Build model and fit the data (using statsmodel's Logit)\n",
    "logit_results = GLM(y_lt, X_lt_constant, family=families.Binomial()).fit()\n",
    "\n",
    "# Display summary results\n",
    "print(logit_results.summary())"
   ]
  },
  {
   "cell_type": "markdown",
   "id": "b7544b52",
   "metadata": {},
   "source": [
    "We're concentrating on the P values here,\n",
    "- There is no values under P which are below 0.05, which tells us no columns is going through any non linearirity and there is no statistical significance anywhere\n",
    "> - Which inturn adheres to the assumptions."
   ]
  },
  {
   "cell_type": "markdown",
   "id": "566b9306",
   "metadata": {},
   "source": [
    "### RFE with all variables"
   ]
  },
  {
   "cell_type": "code",
   "execution_count": 34,
   "id": "eb72c532",
   "metadata": {},
   "outputs": [
    {
     "name": "stdout",
     "output_type": "stream",
     "text": [
      "[False False False False False False False False False False False False\n",
      " False False False False  True False False False False]\n",
      "[11 15 20 16 13 18 19  6  5 14 10  9  8  7  2 21  1 12  3  4 17]\n"
     ]
    }
   ],
   "source": [
    "data_final_vars=data_final.columns.values.tolist()\n",
    "y=['y']\n",
    "X=[i for i in data_final_vars if i not in y]\n",
    "logreg = LogisticRegression()\n",
    "rfe = RFE(estimator = logreg, n_features_to_select = 1)\n",
    "rfe = rfe.fit(os_data_X, os_data_y.values.ravel())\n",
    "print(rfe.support_)\n",
    "print(rfe.ranking_)"
   ]
  },
  {
   "cell_type": "code",
   "execution_count": 35,
   "id": "333bc9f9",
   "metadata": {},
   "outputs": [],
   "source": [
    "rank_series = rfe.ranking_.tolist()\n",
    "col_series = ['ssc_p', 'hsc_p', 'degree_p', 'etest_p', 'mba_p',\n",
    "       'gender_F', 'gender_M', 'ssc_b_Central', 'ssc_b_Others',\n",
    "       'hsc_b_Central', 'hsc_b_Others', 'hsc_s_Arts', 'hsc_s_Commerce',\n",
    "       'hsc_s_Science', 'degree_t_Comm&Mgmt', 'degree_t_Others',\n",
    "       'degree_t_Sci&Tech', 'workex_No', 'workex_Yes', 'mba_t_Mkt&Fin',\n",
    "       'mba_t_Mkt&HR']"
   ]
  },
  {
   "cell_type": "code",
   "execution_count": 48,
   "id": "edc321c8",
   "metadata": {},
   "outputs": [
    {
     "data": {
      "image/png": "[encoded data removed]",
      "text/plain": [
       "<Figure size 1152x648 with 1 Axes>"
      ]
     },
     "metadata": {
      "needs_background": "light"
     },
     "output_type": "display_data"
    }
   ],
   "source": [
    "#Figure Size\n",
    "fig, ax = plt.subplots(figsize =(16, 9))\n",
    " \n",
    "# Horizontal Bar Plot\n",
    "ax.barh(col_series, rank_series)\n",
    " \n",
    "# Remove axes splines\n",
    "for s in ['top', 'bottom', 'left', 'right']:\n",
    "    ax.spines[s].set_visible(False)\n",
    " \n",
    "# Remove x, y Ticks\n",
    "ax.xaxis.set_ticks_position('none')\n",
    "ax.yaxis.set_ticks_position('none')\n",
    " \n",
    "# Add padding between axes and labels\n",
    "ax.xaxis.set_tick_params(pad = 5)\n",
    "ax.yaxis.set_tick_params(pad = 10)\n",
    " \n",
    "# Add x, y gridlines\n",
    "ax.grid(b = True, color ='grey',\n",
    "        linestyle ='-.', linewidth = 0.5,\n",
    "        alpha = 0.2)\n",
    " \n",
    "# Show top values\n",
    "ax.invert_yaxis()\n",
    " \n",
    "# Add annotation to bars\n",
    "for i in ax.patches:\n",
    "    plt.text(i.get_width()+0.2, i.get_y()+0.5,\n",
    "             str(round((i.get_width()), 2)),\n",
    "             fontsize = 10, fontweight ='bold',\n",
    "             color ='grey')\n",
    " \n",
    "# Add Plot Title\n",
    "ax.set_title('Feature Importance',\n",
    "             loc ='left', )\n",
    " \n",
    "# Add Text watermark\n",
    "fig.text(0.9, 0.15, 'Varun', fontsize = 12,\n",
    "         color ='grey', ha ='right', va ='bottom',\n",
    "         alpha = 0.7)\n",
    " \n",
    "# Show Plot\n",
    "plt.show()"
   ]
  },
  {
   "cell_type": "code",
   "execution_count": 37,
   "id": "1fd629a2",
   "metadata": {},
   "outputs": [
    {
     "data": {
      "text/plain": [
       "['degree_t_Sci&Tech',\n",
       " 'degree_t_Comm&Mgmt',\n",
       " 'workex_Yes',\n",
       " 'mba_t_Mkt&Fin',\n",
       " 'ssc_b_Others',\n",
       " 'ssc_b_Central',\n",
       " 'hsc_s_Arts',\n",
       " 'ssc_p',\n",
       " 'workex_No',\n",
       " 'mba_p',\n",
       " 'hsc_p',\n",
       " 'hsc_b_Central',\n",
       " 'hsc_s_Commerce',\n",
       " 'hsc_b_Others',\n",
       " 'hsc_s_Science']"
      ]
     },
     "execution_count": 37,
     "metadata": {},
     "output_type": "execute_result"
    }
   ],
   "source": [
    "all_top_15 = ['degree_t_Sci&Tech','degree_t_Comm&Mgmt','workex_Yes', 'mba_t_Mkt&Fin', 'ssc_b_Others', 'ssc_b_Central', 'hsc_s_Arts', 'ssc_p', 'workex_No', 'mba_p', 'hsc_p', 'hsc_b_Central', 'hsc_s_Commerce', 'hsc_b_Others', 'hsc_s_Science']\n",
    "all_top_15"
   ]
  },
  {
   "cell_type": "markdown",
   "id": "dda3c5ad",
   "metadata": {},
   "source": [
    "### RFE with only Continuous variable"
   ]
  },
  {
   "cell_type": "code",
   "execution_count": 38,
   "id": "e4a42dde",
   "metadata": {},
   "outputs": [
    {
     "name": "stdout",
     "output_type": "stream",
     "text": [
      "[ True False False False False]\n",
      "[1 4 2 5 3]\n"
     ]
    }
   ],
   "source": [
    "data_final_vars=data_final.columns.values.tolist()\n",
    "y=['y']\n",
    "X=[i for i in data_final_vars if i not in y]\n",
    "logreg = LogisticRegression()\n",
    "rfe = RFE(estimator = logreg, n_features_to_select = 1)\n",
    "os_data_X_con = os_data_X.iloc[:,:5]\n",
    "rfe = rfe.fit(os_data_X_con, os_data_y.values.ravel())\n",
    "print(rfe.support_)\n",
    "print(rfe.ranking_)"
   ]
  },
  {
   "cell_type": "code",
   "execution_count": 39,
   "id": "04b14017",
   "metadata": {},
   "outputs": [],
   "source": [
    "rank_series = rfe.ranking_.tolist()\n",
    "col_series = ['ssc_p', 'hsc_p', 'degree_p', 'etest_p', 'mba_p']"
   ]
  },
  {
   "cell_type": "code",
   "execution_count": 47,
   "id": "e1c0345f",
   "metadata": {},
   "outputs": [
    {
     "data": {
      "image/png": "[encoded data removed]",
      "text/plain": [
       "<Figure size 720x432 with 1 Axes>"
      ]
     },
     "metadata": {
      "needs_background": "light"
     },
     "output_type": "display_data"
    }
   ],
   "source": [
    "# Figure Size\n",
    "fig, ax = plt.subplots(figsize =(10, 6))\n",
    " \n",
    "# Horizontal Bar Plot\n",
    "ax.barh(col_series, rank_series)\n",
    " \n",
    "# Remove axes splines\n",
    "for s in ['top', 'bottom', 'left', 'right']:\n",
    "    ax.spines[s].set_visible(False)\n",
    " \n",
    "# Remove x, y Ticks\n",
    "ax.xaxis.set_ticks_position('none')\n",
    "ax.yaxis.set_ticks_position('none')\n",
    " \n",
    "# Add padding between axes and labels\n",
    "ax.xaxis.set_tick_params(pad = 5)\n",
    "ax.yaxis.set_tick_params(pad = 10)\n",
    " \n",
    "# Add x, y gridlines\n",
    "ax.grid(b = True, color ='grey',\n",
    "        linestyle ='-.', linewidth = 0.5,\n",
    "        alpha = 0.2)\n",
    " \n",
    "# Show top values\n",
    "ax.invert_yaxis()\n",
    " \n",
    "# Add annotation to bars\n",
    "for i in ax.patches:\n",
    "    plt.text(i.get_width()+0.2, i.get_y()+0.5,\n",
    "             str(round((i.get_width()), 2)),\n",
    "             fontsize = 10, fontweight ='bold',\n",
    "             color ='grey')\n",
    " \n",
    "# Add Plot Title\n",
    "ax.set_title('Categorical Feature Importance',\n",
    "             loc ='left', )\n",
    " \n",
    "# Add Text watermark\n",
    "fig.text(0.9, 0.15, 'Varun', fontsize = 12,\n",
    "         color ='grey', ha ='right', va ='bottom',\n",
    "         alpha = 0.7)\n",
    " \n",
    "# Show Plot\n",
    "plt.show()"
   ]
  },
  {
   "cell_type": "code",
   "execution_count": 41,
   "id": "1239d5f9",
   "metadata": {},
   "outputs": [
    {
     "data": {
      "text/plain": [
       "['ssc_p', 'degree_p', 'mba_p', 'hsc_p', 'etest_p']"
      ]
     },
     "execution_count": 41,
     "metadata": {},
     "output_type": "execute_result"
    }
   ],
   "source": [
    "con_top = ['ssc_p', 'degree_p','mba_p', 'hsc_p', 'etest_p']\n",
    "con_top"
   ]
  },
  {
   "cell_type": "markdown",
   "id": "99a9cde9",
   "metadata": {},
   "source": [
    "### RFE with only Categorical variable"
   ]
  },
  {
   "cell_type": "code",
   "execution_count": 42,
   "id": "0c016ea5",
   "metadata": {},
   "outputs": [
    {
     "name": "stdout",
     "output_type": "stream",
     "text": [
      "[False False False False False False False False False False False  True\n",
      " False False False False]\n",
      "[10  9  8  7  5  4 13 12 11  2 15  1 16  3  6 14]\n"
     ]
    }
   ],
   "source": [
    "data_final_vars=data_final.columns.values.tolist()\n",
    "y=['y']\n",
    "X=[i for i in data_final_vars if i not in y]\n",
    "logreg = LogisticRegression()\n",
    "rfe = RFE(estimator = logreg, n_features_to_select = 1)\n",
    "os_data_X_cat = os_data_X.iloc[:,5:]\n",
    "rfe = rfe.fit(os_data_X_cat, os_data_y.values.ravel())\n",
    "print(rfe.support_)\n",
    "print(rfe.ranking_)"
   ]
  },
  {
   "cell_type": "code",
   "execution_count": 43,
   "id": "8f9eb7ee",
   "metadata": {},
   "outputs": [],
   "source": [
    "rank_series = rfe.ranking_.tolist()\n",
    "col_series = ['gender_F', 'gender_M', 'ssc_b_Central', 'ssc_b_Others',\n",
    "       'hsc_b_Central', 'hsc_b_Others', 'hsc_s_Arts', 'hsc_s_Commerce',\n",
    "       'hsc_s_Science', 'degree_t_Comm&Mgmt', 'degree_t_Others',\n",
    "       'degree_t_Sci&Tech', 'workex_No', 'workex_Yes', 'mba_t_Mkt&Fin',\n",
    "       'mba_t_Mkt&HR']"
   ]
  },
  {
   "cell_type": "code",
   "execution_count": 46,
   "id": "b228bf1e",
   "metadata": {},
   "outputs": [
    {
     "data": {
      "image/png": "[encoded data removed]",
      "text/plain": [
       "<Figure size 864x576 with 1 Axes>"
      ]
     },
     "metadata": {
      "needs_background": "light"
     },
     "output_type": "display_data"
    }
   ],
   "source": [
    "# Figure Size\n",
    "fig, ax = plt.subplots(figsize =(12, 8))\n",
    " \n",
    "# Horizontal Bar Plot\n",
    "ax.barh(col_series, rank_series)\n",
    " \n",
    "# Remove axes splines\n",
    "for s in ['top', 'bottom', 'left', 'right']:\n",
    "    ax.spines[s].set_visible(False)\n",
    " \n",
    "# Remove x, y Ticks\n",
    "ax.xaxis.set_ticks_position('none')\n",
    "ax.yaxis.set_ticks_position('none')\n",
    " \n",
    "# Add padding between axes and labels\n",
    "ax.xaxis.set_tick_params(pad = 5)\n",
    "ax.yaxis.set_tick_params(pad = 10)\n",
    " \n",
    "# Add x, y gridlines\n",
    "ax.grid(b = True, color ='grey',\n",
    "        linestyle ='-.', linewidth = 0.5,\n",
    "        alpha = 0.2)\n",
    " \n",
    "# Show top values\n",
    "ax.invert_yaxis()\n",
    " \n",
    "# Add annotation to bars\n",
    "for i in ax.patches:\n",
    "    plt.text(i.get_width()+0.2, i.get_y()+0.5,\n",
    "             str(round((i.get_width()), 2)),\n",
    "             fontsize = 10, fontweight ='bold',\n",
    "             color ='grey')\n",
    " \n",
    "# Add Plot Title\n",
    "ax.set_title('Categorical Feature Importance',\n",
    "             loc ='left', )\n",
    " \n",
    "# Add Text watermark\n",
    "fig.text(0.9, 0.15, 'Varun', fontsize = 12,\n",
    "         color ='grey', ha ='right', va ='bottom',\n",
    "         alpha = 0.7)\n",
    " \n",
    "# Show Plot\n",
    "plt.show()"
   ]
  },
  {
   "cell_type": "markdown",
   "id": "1f6dc685",
   "metadata": {},
   "source": [
    "Here, we seem to get a consolidated order as, \n",
    "- [degree_t, workex, hsc_b, mba_t]"
   ]
  },
  {
   "cell_type": "markdown",
   "id": "202c5a94",
   "metadata": {},
   "source": [
    "### Cramer's V"
   ]
  },
  {
   "cell_type": "markdown",
   "id": "95d68af3",
   "metadata": {},
   "source": [
    "##### dython library = https://github.com/shakedzy/dython/blob/master/docs/modules/nominal.md"
   ]
  },
  {
   "cell_type": "code",
   "execution_count": 49,
   "id": "cc169db0",
   "metadata": {},
   "outputs": [],
   "source": [
    "dataset1 = data.iloc[:,[0,2,4,5,7,8,10,12]]"
   ]
  },
  {
   "cell_type": "code",
   "execution_count": 82,
   "id": "17f29e16",
   "metadata": {},
   "outputs": [
    {
     "data": {
      "image/png": "[encoded data removed]",
      "text/plain": [
       "<Figure size 1080x432 with 2 Axes>"
      ]
     },
     "metadata": {
      "needs_background": "light"
     },
     "output_type": "display_data"
    },
    {
     "data": {
      "text/plain": [
       "{'corr':                 gender (nom)  ssc_b (nom)  hsc_b (nom)  hsc_s (nom)  \\\n",
       " gender (nom)        1.000000     0.000000     0.000000     0.000000   \n",
       " ssc_b (nom)         0.000000     1.000000     0.593778     0.000000   \n",
       " hsc_b (nom)         0.000000     0.593778     1.000000     0.124432   \n",
       " hsc_s (nom)         0.000000     0.000000     0.124432     1.000000   \n",
       " degree_t (nom)      0.066937     0.031800     0.096690     0.529416   \n",
       " workex (nom)        0.030717     0.000000     0.000000     0.000000   \n",
       " mba_t (nom)         0.068079     0.000000     0.000000     0.143933   \n",
       " status (nom)        0.041977     0.000000     0.000000     0.000000   \n",
       " \n",
       "                 degree_t (nom)  workex (nom)  mba_t (nom)  status (nom)  \n",
       " gender (nom)          0.066937      0.030717     0.068079      0.041977  \n",
       " ssc_b (nom)           0.031800      0.000000     0.000000      0.000000  \n",
       " hsc_b (nom)           0.096690      0.000000     0.000000      0.000000  \n",
       " hsc_s (nom)           0.529416      0.000000     0.143933      0.000000  \n",
       " degree_t (nom)        1.000000      0.043156     0.067910      0.066968  \n",
       " workex (nom)          0.043156      1.000000     0.168331      0.257142  \n",
       " mba_t (nom)           0.067910      0.168331     1.000000      0.231167  \n",
       " status (nom)          0.066968      0.257142     0.231167      1.000000  ,\n",
       " 'ax': <AxesSubplot:>}"
      ]
     },
     "execution_count": 82,
     "metadata": {},
     "output_type": "execute_result"
    }
   ],
   "source": [
    "associations(dataset1, nominal_columns=['gender', 'ssc_b', 'hsc_b', 'hsc_s',\n",
    "       'degree_t', 'workex', 'mba_t', 'status'], mark_columns=True,\n",
    "             nom_nom_assoc='cramer', ax=None, figsize=(15,6), annot=True, fmt='.2f', \n",
    "             cmap='twilight_shifted', sv_color='silver', cbar=True, vmax=1.0, vmin=0.00, plot=True, title=None)"
   ]
  },
  {
   "cell_type": "markdown",
   "id": "091b736c",
   "metadata": {},
   "source": [
    "Order of Significance\n",
    "- [workex, mba_t, degree_t, gender]"
   ]
  },
  {
   "cell_type": "code",
   "execution_count": 71,
   "id": "c6dce690",
   "metadata": {},
   "outputs": [
    {
     "data": {
      "image/png": "[encoded data removed]",
      "text/plain": [
       "<Figure size 1080x432 with 2 Axes>"
      ]
     },
     "metadata": {
      "needs_background": "light"
     },
     "output_type": "display_data"
    },
    {
     "data": {
      "text/plain": [
       "{'corr':                 gender (nom)  ssc_b (nom)  hsc_b (nom)  hsc_s (nom)  \\\n",
       " gender (nom)        1.000000     0.000291     0.003331     0.006841   \n",
       " ssc_b (nom)         0.000274     1.000000     0.299906     0.002539   \n",
       " hsc_b (nom)         0.003234     0.309301     1.000000     0.018360   \n",
       " hsc_s (nom)         0.005203     0.002052     0.014383     1.000000   \n",
       " degree_t (nom)      0.008766     0.006688     0.011893     0.377405   \n",
       " workex (nom)        0.005710     0.001292     0.001147     0.003751   \n",
       " mba_t (nom)         0.008190     0.001939     0.000004     0.022016   \n",
       " status (nom)        0.006545     0.001123     0.000231     0.003936   \n",
       " \n",
       "                 degree_t (nom)  workex (nom)  mba_t (nom)  status (nom)  \n",
       " gender (nom)          0.010426      0.005659     0.008654      0.006251  \n",
       " ssc_b (nom)           0.007488      0.001205     0.001929      0.001010  \n",
       " hsc_b (nom)           0.013734      0.001104     0.000004      0.000214  \n",
       " hsc_s (nom)           0.341401      0.002828     0.017693      0.002859  \n",
       " degree_t (nom)        1.000000      0.007133     0.008997      0.008230  \n",
       " workex (nom)          0.008560      1.000000     0.028948      0.064636  \n",
       " mba_t (nom)           0.010128      0.027151     1.000000      0.045848  \n",
       " status (nom)          0.010249      0.067071     0.050724      1.000000  ,\n",
       " 'ax': <AxesSubplot:>}"
      ]
     },
     "execution_count": 71,
     "metadata": {},
     "output_type": "execute_result"
    }
   ],
   "source": [
    "associations(dataset1, nominal_columns=['gender', 'ssc_b', 'hsc_b', 'hsc_s',\n",
    "       'degree_t', 'workex', 'mba_t', 'status'], mark_columns=True,\n",
    "             nom_nom_assoc='theil', ax=None, figsize=(15,6), annot=True, fmt='.2f', \n",
    "             cmap='twilight_shifted', sv_color='silver', cbar=True, vmax=1.0, vmin=0.00, plot=True, title=None)"
   ]
  },
  {
   "cell_type": "markdown",
   "id": "d2f76603",
   "metadata": {},
   "source": [
    "Though we've made both Cramer's V and Thiel's U, we can stick on with the results of Cramer's V. This is because, the symmetry is not broken in thiel's anyways. So, its better to consider Cramer's"
   ]
  },
  {
   "cell_type": "markdown",
   "id": "1e539e58",
   "metadata": {},
   "source": [
    "## Salary"
   ]
  },
  {
   "cell_type": "markdown",
   "id": "cedd6097",
   "metadata": {},
   "source": [
    "### Pearson's Coefficient Correlation"
   ]
  },
  {
   "cell_type": "code",
   "execution_count": 75,
   "id": "7f0b0e47",
   "metadata": {},
   "outputs": [
    {
     "data": {
      "text/plain": [
       "<AxesSubplot:>"
      ]
     },
     "execution_count": 75,
     "metadata": {},
     "output_type": "execute_result"
    },
    {
     "data": {
      "image/png": "[encoded data removed]",
      "text/plain": [
       "<Figure size 432x288 with 2 Axes>"
      ]
     },
     "metadata": {
      "needs_background": "light"
     },
     "output_type": "display_data"
    }
   ],
   "source": [
    "sns.heatmap(df.corr(method = 'pearson') , annot = True , cmap = 'PiYG')"
   ]
  },
  {
   "cell_type": "markdown",
   "id": "1ecf8b69",
   "metadata": {},
   "source": [
    "### Spearman's Coefficient Correlation"
   ]
  },
  {
   "cell_type": "code",
   "execution_count": 76,
   "id": "ca0b94f4",
   "metadata": {},
   "outputs": [
    {
     "data": {
      "text/plain": [
       "<AxesSubplot:>"
      ]
     },
     "execution_count": 76,
     "metadata": {},
     "output_type": "execute_result"
    },
    {
     "data": {
      "image/png": "[encoded data removed]",
      "text/plain": [
       "<Figure size 432x288 with 2 Axes>"
      ]
     },
     "metadata": {
      "needs_background": "light"
     },
     "output_type": "display_data"
    }
   ],
   "source": [
    "sns.heatmap(df.corr(method = 'spearman') , annot = True , cmap = 'PiYG')"
   ]
  },
  {
   "cell_type": "markdown",
   "id": "b2d302fa",
   "metadata": {},
   "source": [
    "Considering both the correlation matrix, the values we obtained are almost giving the same order according to coefficients but,\n",
    "- As far as the dependent variable salary is considered to not be in normal distribution, Spearman's coefficient should be given preference for the significance evaluation.\n",
    "\n",
    "> The order of significance is given by [etest_p, mba_p, ssc_p, hsc_p, degree_p]     \n",
    "\n",
    "> Conclusively, [etest_p, mba_p, ssc_p] are considered to be most significant"
   ]
  },
  {
   "cell_type": "markdown",
   "id": "47fa7d27",
   "metadata": {},
   "source": [
    "### Anova"
   ]
  },
  {
   "cell_type": "code",
   "execution_count": 77,
   "id": "f6258303",
   "metadata": {},
   "outputs": [],
   "source": [
    "lst = []\n",
    "\n",
    "model_gender = ols('salary ~ gender', data=data).fit()\n",
    "aovRes = sm.stats.anova_lm(model_gender, typ=2)\n",
    "lst.append(aovRes['PR(>F)']['gender'])\n",
    "\n",
    "model_ssc_b = ols('salary ~ ssc_b', data=data).fit()\n",
    "aovRes = sm.stats.anova_lm(model_ssc_b, typ=2)\n",
    "lst.append(aovRes['PR(>F)']['ssc_b'])\n",
    "\n",
    "model_hsc_b = ols('salary ~ hsc_b', data=data).fit()\n",
    "aovRes = sm.stats.anova_lm(model_hsc_b, typ=2)\n",
    "lst.append(aovRes['PR(>F)']['hsc_b'])\n",
    "\n",
    "model_hsc_s = ols('salary ~ hsc_s', data=data).fit()\n",
    "aovRes = sm.stats.anova_lm(model_hsc_s, typ=2)\n",
    "lst.append(aovRes['PR(>F)']['hsc_s'])\n",
    "\n",
    "model_degree_t = ols('salary ~ degree_t', data=data).fit()\n",
    "aovRes = sm.stats.anova_lm(model_degree_t, typ=2)\n",
    "lst.append(aovRes['PR(>F)']['degree_t'])\n",
    "\n",
    "model_workex = ols('salary ~ workex', data=data).fit()\n",
    "aovRes = sm.stats.anova_lm(model_workex, typ=2)\n",
    "lst.append(aovRes['PR(>F)']['workex'])\n",
    "\n",
    "model_mba_t = ols('salary ~ mba_t', data=data).fit()\n",
    "aovRes = sm.stats.anova_lm(model_mba_t, typ=2)\n",
    "lst.append(aovRes['PR(>F)']['mba_t'])"
   ]
  },
  {
   "cell_type": "code",
   "execution_count": 78,
   "id": "4b75d131",
   "metadata": {},
   "outputs": [
    {
     "data": {
      "text/plain": [
       "[0.03599560646745157,\n",
       " 0.6139510180995321,\n",
       " 0.8663592108618725,\n",
       " 0.38104960487007955,\n",
       " 0.18753016536343384,\n",
       " 8.589295809231207e-06,\n",
       " 4.136345489431701e-05]"
      ]
     },
     "execution_count": 78,
     "metadata": {},
     "output_type": "execute_result"
    }
   ],
   "source": [
    "lst"
   ]
  },
  {
   "cell_type": "code",
   "execution_count": 79,
   "id": "d26f2e67",
   "metadata": {},
   "outputs": [
    {
     "data": {
      "text/plain": [
       "['0.0359956',\n",
       " '0.6139510',\n",
       " '0.8663592',\n",
       " '0.3810496',\n",
       " '0.1875302',\n",
       " '0.0000086',\n",
       " '0.0000414']"
      ]
     },
     "execution_count": 79,
     "metadata": {},
     "output_type": "execute_result"
    }
   ],
   "source": [
    "lst = ['%.7f' % elem for elem in lst ]\n",
    "lst"
   ]
  },
  {
   "cell_type": "code",
   "execution_count": 80,
   "id": "b019e8da",
   "metadata": {},
   "outputs": [
    {
     "data": {
      "text/plain": [
       "{'workex': 8.6e-06,\n",
       " 'mba_t': 4.14e-05,\n",
       " 'gender': 0.0359956,\n",
       " 'degree_t': 0.1875302,\n",
       " 'hsc_s': 0.3810496,\n",
       " 'ssc_b': 0.613951,\n",
       " 'hsc_b': 0.8663592}"
      ]
     },
     "execution_count": 80,
     "metadata": {},
     "output_type": "execute_result"
    }
   ],
   "source": [
    "dict1 = {'workex':0.0000086,\n",
    "         'mba_t':0.0000414,\n",
    "         'gender':0.0359956,\n",
    "         'degree_t':0.1875302,\n",
    "         'hsc_s':0.3810496,\n",
    "         'ssc_b':0.6139510,\n",
    "         'hsc_b':0.8663592\n",
    "        }\n",
    "dict1"
   ]
  },
  {
   "cell_type": "markdown",
   "id": "de56a1cd",
   "metadata": {},
   "source": [
    "The first 3 attributes has a p-value less than the usual threshold(0.05), which are **workex, mba_t and gender**. This tells us that among all categorical variables, these variables are more significant in explaining the dependent variable **salary**\n"
   ]
  },
  {
   "cell_type": "markdown",
   "id": "536671df",
   "metadata": {},
   "source": [
    "So, finally,\n",
    "> **Placement status highly depends on**\n",
    "    > - workex, mba_t, degree_t, gender, ssc_p, degree_p, mba_p     \n",
    "    \n",
    "> **Salary highly depends on**\n",
    "    > - workex, mba_t, gender, etest_p, mba_p, ssc_p"
   ]
  },
  {
   "cell_type": "code",
   "execution_count": null,
   "id": "927302c4",
   "metadata": {},
   "outputs": [],
   "source": []
  }
 ],
 "metadata": {
  "kernelspec": {
   "display_name": "Python 3 (ipykernel)",
   "language": "python",
   "name": "python3"
  },
  "language_info": {
   "codemirror_mode": {
    "name": "ipython",
    "version": 3
   },
   "file_extension": ".py",
   "mimetype": "text/x-python",
   "name": "python",
   "nbconvert_exporter": "python",
   "pygments_lexer": "ipython3",
   "version": "3.8.8"
  }
 },
 "nbformat": 4,
 "nbformat_minor": 5
}
