{
 "cells": [
  {
   "cell_type": "code",
   "execution_count": 1,
   "id": "538a9107",
   "metadata": {},
   "outputs": [],
   "source": [
    "import pandas as pd\n",
    "import numpy as np\n",
    "import seaborn as sns\n",
    "import matplotlib.pyplot as plt"
   ]
  },
  {
   "cell_type": "code",
   "execution_count": 4,
   "id": "c4046fcb",
   "metadata": {},
   "outputs": [
    {
     "data": {
      "text/html": [
       "<div>\n",
       "<style scoped>\n",
       "    .dataframe tbody tr th:only-of-type {\n",
       "        vertical-align: middle;\n",
       "    }\n",
       "\n",
       "    .dataframe tbody tr th {\n",
       "        vertical-align: top;\n",
       "    }\n",
       "\n",
       "    .dataframe thead th {\n",
       "        text-align: right;\n",
       "    }\n",
       "</style>\n",
       "<table border=\"1\" class=\"dataframe\">\n",
       "  <thead>\n",
       "    <tr style=\"text-align: right;\">\n",
       "      <th></th>\n",
       "      <th>gender</th>\n",
       "      <th>ssc_p</th>\n",
       "      <th>ssc_b</th>\n",
       "      <th>hsc_p</th>\n",
       "      <th>hsc_b</th>\n",
       "      <th>hsc_s</th>\n",
       "      <th>degree_p</th>\n",
       "      <th>degree_t</th>\n",
       "      <th>workex</th>\n",
       "      <th>etest_p</th>\n",
       "      <th>specialisation</th>\n",
       "      <th>mba_p</th>\n",
       "      <th>status</th>\n",
       "      <th>salary</th>\n",
       "    </tr>\n",
       "  </thead>\n",
       "  <tbody>\n",
       "    <tr>\n",
       "      <th>0</th>\n",
       "      <td>M</td>\n",
       "      <td>67.00</td>\n",
       "      <td>Others</td>\n",
       "      <td>91.00</td>\n",
       "      <td>Others</td>\n",
       "      <td>Commerce</td>\n",
       "      <td>58.00</td>\n",
       "      <td>Sci&amp;Tech</td>\n",
       "      <td>No</td>\n",
       "      <td>55.0</td>\n",
       "      <td>Mkt&amp;HR</td>\n",
       "      <td>58.80</td>\n",
       "      <td>Placed</td>\n",
       "      <td>270000.0</td>\n",
       "    </tr>\n",
       "    <tr>\n",
       "      <th>1</th>\n",
       "      <td>M</td>\n",
       "      <td>79.33</td>\n",
       "      <td>Central</td>\n",
       "      <td>78.33</td>\n",
       "      <td>Others</td>\n",
       "      <td>Science</td>\n",
       "      <td>77.48</td>\n",
       "      <td>Sci&amp;Tech</td>\n",
       "      <td>Yes</td>\n",
       "      <td>86.5</td>\n",
       "      <td>Mkt&amp;Fin</td>\n",
       "      <td>66.28</td>\n",
       "      <td>Placed</td>\n",
       "      <td>200000.0</td>\n",
       "    </tr>\n",
       "    <tr>\n",
       "      <th>2</th>\n",
       "      <td>M</td>\n",
       "      <td>65.00</td>\n",
       "      <td>Central</td>\n",
       "      <td>68.00</td>\n",
       "      <td>Central</td>\n",
       "      <td>Arts</td>\n",
       "      <td>64.00</td>\n",
       "      <td>Comm&amp;Mgmt</td>\n",
       "      <td>No</td>\n",
       "      <td>75.0</td>\n",
       "      <td>Mkt&amp;Fin</td>\n",
       "      <td>57.80</td>\n",
       "      <td>Placed</td>\n",
       "      <td>250000.0</td>\n",
       "    </tr>\n",
       "    <tr>\n",
       "      <th>3</th>\n",
       "      <td>M</td>\n",
       "      <td>56.00</td>\n",
       "      <td>Central</td>\n",
       "      <td>52.00</td>\n",
       "      <td>Central</td>\n",
       "      <td>Science</td>\n",
       "      <td>52.00</td>\n",
       "      <td>Sci&amp;Tech</td>\n",
       "      <td>No</td>\n",
       "      <td>66.0</td>\n",
       "      <td>Mkt&amp;HR</td>\n",
       "      <td>59.43</td>\n",
       "      <td>Not Placed</td>\n",
       "      <td>NaN</td>\n",
       "    </tr>\n",
       "    <tr>\n",
       "      <th>4</th>\n",
       "      <td>M</td>\n",
       "      <td>85.80</td>\n",
       "      <td>Central</td>\n",
       "      <td>73.60</td>\n",
       "      <td>Central</td>\n",
       "      <td>Commerce</td>\n",
       "      <td>73.30</td>\n",
       "      <td>Comm&amp;Mgmt</td>\n",
       "      <td>No</td>\n",
       "      <td>96.8</td>\n",
       "      <td>Mkt&amp;Fin</td>\n",
       "      <td>55.50</td>\n",
       "      <td>Placed</td>\n",
       "      <td>425000.0</td>\n",
       "    </tr>\n",
       "  </tbody>\n",
       "</table>\n",
       "</div>"
      ],
      "text/plain": [
       "  gender  ssc_p    ssc_b  hsc_p    hsc_b     hsc_s  degree_p   degree_t  \\\n",
       "0      M  67.00   Others  91.00   Others  Commerce     58.00   Sci&Tech   \n",
       "1      M  79.33  Central  78.33   Others   Science     77.48   Sci&Tech   \n",
       "2      M  65.00  Central  68.00  Central      Arts     64.00  Comm&Mgmt   \n",
       "3      M  56.00  Central  52.00  Central   Science     52.00   Sci&Tech   \n",
       "4      M  85.80  Central  73.60  Central  Commerce     73.30  Comm&Mgmt   \n",
       "\n",
       "  workex  etest_p specialisation  mba_p      status    salary  \n",
       "0     No     55.0         Mkt&HR  58.80      Placed  270000.0  \n",
       "1    Yes     86.5        Mkt&Fin  66.28      Placed  200000.0  \n",
       "2     No     75.0        Mkt&Fin  57.80      Placed  250000.0  \n",
       "3     No     66.0         Mkt&HR  59.43  Not Placed       NaN  \n",
       "4     No     96.8        Mkt&Fin  55.50      Placed  425000.0  "
      ]
     },
     "execution_count": 4,
     "metadata": {},
     "output_type": "execute_result"
    }
   ],
   "source": [
    "data = pd.read_csv(\"Campus Placement.csv\")\n",
    "data.head()"
   ]
  },
  {
   "cell_type": "markdown",
   "id": "15e0c160",
   "metadata": {},
   "source": [
    "## Column Description"
   ]
  },
  {
   "cell_type": "markdown",
   "id": "bc2dbac2",
   "metadata": {},
   "source": [
    "-   gender\n",
    "-   ssc_p -> 10th class percentage\n",
    "-   ssc_b -> 10th class board\n",
    "-   hsc_p -> 12th class percentage\n",
    "-   hsc_b -> 12th class board\n",
    "-   hsc_s -> 12th class branch\n",
    "-   degree_p -> undergraduate degree percentage\n",
    "-   degree_t -> degree branch\n",
    "-   workex -> work experience\n",
    "-   etest_p -> Entrance test percentage\n",
    "-   specialisation -> MBA branch\n",
    "-   mba_p -> MBA percentage\n",
    "-   status -> placement status\n",
    "-   salary -> quoted salary"
   ]
  },
  {
   "cell_type": "markdown",
   "id": "49e64cef",
   "metadata": {},
   "source": [
    "## Univariate Analysis"
   ]
  },
  {
   "cell_type": "markdown",
   "id": "fe9c66f0",
   "metadata": {},
   "source": [
    "### Gender"
   ]
  },
  {
   "cell_type": "markdown",
   "id": "e99308b1",
   "metadata": {},
   "source": [
    "gender\n",
    "M    139\n",
    "F     76\n",
    "- The ratio between the category [Male,Female] is slightly imbalanced, because the difference betwee them is 63."
   ]
  },
  {
   "cell_type": "markdown",
   "id": "9d7c09c1",
   "metadata": {},
   "source": [
    "### ssc_p(10th percentage)"
   ]
  },
  {
   "cell_type": "markdown",
   "id": "08906841",
   "metadata": {},
   "source": [
    "- **DIST PLOT**\n",
    "> - The students with above 40 in their ssc score, are only given admission to the college."
   ]
  },
  {
   "cell_type": "markdown",
   "id": "57cb9fb6",
   "metadata": {},
   "source": [
    "- **MEAN AND MEDIAN PLOTING**\n",
    "- According to the above graphs \n",
    "    - students scoring below the mean(67) are **less** when compared to students scoring above the mean(67)\n",
    "- majority of the students scored above the mean(67)\n",
    "> - The majority of the group are with good score students(:: 2nd graph, the are of the region between median and 75 percentile is significantly high) \n",
    "<br><br/>\n",
    "> - The center value of the graph(x axis) is supposed to be the **mean, median, mode and peak** for a normal distribution graph but here the **mode and peak** are almost at the center but **mean and median** are drifted towards right, which means that the values are dense over the right side"
   ]
  },
  {
   "cell_type": "markdown",
   "id": "f2964589",
   "metadata": {},
   "source": [
    "min:           40.89\n",
    "max:           89.4\n",
    "center value:  65.14500000000001\n",
    "mean:          67.30339534883721\n",
    "median:        67.0\n",
    "- The last point of the above cell is verified numerically\n",
    "    - mean and median are almost the same and the center value is less than the mean "
   ]
  },
  {
   "cell_type": "markdown",
   "id": "f91333db",
   "metadata": {},
   "source": [
    "median:  67.0\n",
    "mean:  67.30339534883721\n",
    "- this is a indication that the values are directed towards a normal distribution\n",
    "    - Because, the mean and median are almost same."
   ]
  },
  {
   "cell_type": "markdown",
   "id": "5ab7679c",
   "metadata": {},
   "source": [
    "skewedness =  -0.13\n",
    "kurtosis =  2.38\n",
    "#### Norms for normal distribution\n",
    "- skewedness = 0\n",
    "- kurtosis = 3\n",
    "#### Our graph result\n",
    "- As -0.13 < 0, right skewed\n",
    "- as 2.38 < 3, flat peak and thick tails"
   ]
  },
  {
   "cell_type": "markdown",
   "id": "bca7d91f",
   "metadata": {},
   "source": [
    "- **BOX PLOT**\n",
    "    - As we already said, the graph seemed to be in normal distribution, so the are no outliers"
   ]
  },
  {
   "cell_type": "markdown",
   "id": "17421c9b",
   "metadata": {},
   "source": [
    "### ssc_b(10th board)"
   ]
  },
  {
   "cell_type": "markdown",
   "id": "903c396a",
   "metadata": {},
   "source": [
    "ssc_b\n",
    "Central    116\n",
    "Others      99\n",
    "- The ratio between the category is comparitively acceptable and balanced, because the difference betwee them is only 17"
   ]
  },
  {
   "cell_type": "markdown",
   "id": "c3ec357a",
   "metadata": {},
   "source": [
    "### hsc_p(12th percentage)"
   ]
  },
  {
   "cell_type": "markdown",
   "id": "392cee5e",
   "metadata": {},
   "source": [
    "- **DISTPLOT**\n",
    "> - The reason for the peak is the sudden spike values around 60 to 65"
   ]
  },
  {
   "cell_type": "markdown",
   "id": "f649f603",
   "metadata": {},
   "source": [
    "- **MEAN AND MEDIAN PLOTING**\n",
    "    - The frequency around the peak seem to be high. i.e..around 55 to 77 \n",
    "    - The standard deviation seem to be very high, let's check them numerically"
   ]
  },
  {
   "cell_type": "markdown",
   "id": "2405810c",
   "metadata": {},
   "source": [
    "std:  10.89750915750298\n",
    "- For a normal distribution, within 3 standard deviations after the mean, the graph should get over. So, let's calculate them\n",
    "\n",
    "99.02569026320663\n",
    "97.7\n",
    "- The values are under standard dstribution only"
   ]
  },
  {
   "cell_type": "markdown",
   "id": "50671d67",
   "metadata": {},
   "source": [
    "median:  65.0\n",
    "mean:  66.33316279069768\n",
    "- mean and median seem to have a slight difference, which indicates the absence of normal distribution"
   ]
  },
  {
   "cell_type": "markdown",
   "id": "a5b9b208",
   "metadata": {},
   "source": [
    "skewedness =  0.16\n",
    "kurtosis =  3.41\n",
    "### Norms for normal distribution\n",
    "- skewedness = 0\n",
    "- kurtosis = 3\n",
    "### Our graph result\n",
    "- As 0.16 > 0, left skewed (slightly).\n",
    "- As 3.41 > 3, sharp peak and thin tails."
   ]
  },
  {
   "cell_type": "markdown",
   "id": "f10806b6",
   "metadata": {},
   "source": []
  },
  {
   "cell_type": "markdown",
   "id": "300e2289",
   "metadata": {},
   "source": [
    "min:           37.0\n",
    "max:           97.7\n",
    "center value:  67.35\n",
    "mean:          66.33316279069768\n",
    "median:        65.0"
   ]
  },
  {
   "cell_type": "code",
   "execution_count": null,
   "id": "035cb799",
   "metadata": {},
   "outputs": [],
   "source": []
  }
 ],
 "metadata": {
  "kernelspec": {
   "display_name": "Python 3",
   "language": "python",
   "name": "python3"
  },
  "language_info": {
   "codemirror_mode": {
    "name": "ipython",
    "version": 3
   },
   "file_extension": ".py",
   "mimetype": "text/x-python",
   "name": "python",
   "nbconvert_exporter": "python",
   "pygments_lexer": "ipython3",
   "version": "3.8.8"
  }
 },
 "nbformat": 4,
 "nbformat_minor": 5
}
