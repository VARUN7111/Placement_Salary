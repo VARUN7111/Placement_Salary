{
 "cells": [
  {
   "cell_type": "markdown",
   "id": "50e54275",
   "metadata": {},
   "source": [
    "# **Placements**"
   ]
  },
  {
   "cell_type": "code",
   "execution_count": 1,
   "id": "efafb3cf",
   "metadata": {},
   "outputs": [],
   "source": [
    "import matplotlib.pyplot as plt\n",
    "import seaborn as sns\n",
    "import pandas as pd\n",
    "import numpy as np\n",
    "\n",
    "from scipy.stats import kurtosis,skew\n",
    "\n",
    "from matplotlib.colors import LinearSegmentedColormap"
   ]
  },
  {
   "cell_type": "code",
   "execution_count": 2,
   "id": "fc651394",
   "metadata": {},
   "outputs": [
    {
     "data": {
      "text/html": [
       "<div>\n",
       "<style scoped>\n",
       "    .dataframe tbody tr th:only-of-type {\n",
       "        vertical-align: middle;\n",
       "    }\n",
       "\n",
       "    .dataframe tbody tr th {\n",
       "        vertical-align: top;\n",
       "    }\n",
       "\n",
       "    .dataframe thead th {\n",
       "        text-align: right;\n",
       "    }\n",
       "</style>\n",
       "<table border=\"1\" class=\"dataframe\">\n",
       "  <thead>\n",
       "    <tr style=\"text-align: right;\">\n",
       "      <th></th>\n",
       "      <th>gender</th>\n",
       "      <th>ssc_p</th>\n",
       "      <th>ssc_b</th>\n",
       "      <th>hsc_p</th>\n",
       "      <th>hsc_b</th>\n",
       "      <th>hsc_s</th>\n",
       "      <th>degree_p</th>\n",
       "      <th>degree_t</th>\n",
       "      <th>workex</th>\n",
       "      <th>etest_p</th>\n",
       "      <th>specialisation</th>\n",
       "      <th>mba_p</th>\n",
       "      <th>status</th>\n",
       "      <th>salary</th>\n",
       "    </tr>\n",
       "  </thead>\n",
       "  <tbody>\n",
       "    <tr>\n",
       "      <th>0</th>\n",
       "      <td>M</td>\n",
       "      <td>67.00</td>\n",
       "      <td>Others</td>\n",
       "      <td>91.00</td>\n",
       "      <td>Others</td>\n",
       "      <td>Commerce</td>\n",
       "      <td>58.00</td>\n",
       "      <td>Sci&amp;Tech</td>\n",
       "      <td>No</td>\n",
       "      <td>55.0</td>\n",
       "      <td>Mkt&amp;HR</td>\n",
       "      <td>58.80</td>\n",
       "      <td>Placed</td>\n",
       "      <td>270000.0</td>\n",
       "    </tr>\n",
       "    <tr>\n",
       "      <th>1</th>\n",
       "      <td>M</td>\n",
       "      <td>79.33</td>\n",
       "      <td>Central</td>\n",
       "      <td>78.33</td>\n",
       "      <td>Others</td>\n",
       "      <td>Science</td>\n",
       "      <td>77.48</td>\n",
       "      <td>Sci&amp;Tech</td>\n",
       "      <td>Yes</td>\n",
       "      <td>86.5</td>\n",
       "      <td>Mkt&amp;Fin</td>\n",
       "      <td>66.28</td>\n",
       "      <td>Placed</td>\n",
       "      <td>200000.0</td>\n",
       "    </tr>\n",
       "    <tr>\n",
       "      <th>2</th>\n",
       "      <td>M</td>\n",
       "      <td>65.00</td>\n",
       "      <td>Central</td>\n",
       "      <td>68.00</td>\n",
       "      <td>Central</td>\n",
       "      <td>Arts</td>\n",
       "      <td>64.00</td>\n",
       "      <td>Comm&amp;Mgmt</td>\n",
       "      <td>No</td>\n",
       "      <td>75.0</td>\n",
       "      <td>Mkt&amp;Fin</td>\n",
       "      <td>57.80</td>\n",
       "      <td>Placed</td>\n",
       "      <td>250000.0</td>\n",
       "    </tr>\n",
       "    <tr>\n",
       "      <th>3</th>\n",
       "      <td>M</td>\n",
       "      <td>56.00</td>\n",
       "      <td>Central</td>\n",
       "      <td>52.00</td>\n",
       "      <td>Central</td>\n",
       "      <td>Science</td>\n",
       "      <td>52.00</td>\n",
       "      <td>Sci&amp;Tech</td>\n",
       "      <td>No</td>\n",
       "      <td>66.0</td>\n",
       "      <td>Mkt&amp;HR</td>\n",
       "      <td>59.43</td>\n",
       "      <td>Not Placed</td>\n",
       "      <td>NaN</td>\n",
       "    </tr>\n",
       "    <tr>\n",
       "      <th>4</th>\n",
       "      <td>M</td>\n",
       "      <td>85.80</td>\n",
       "      <td>Central</td>\n",
       "      <td>73.60</td>\n",
       "      <td>Central</td>\n",
       "      <td>Commerce</td>\n",
       "      <td>73.30</td>\n",
       "      <td>Comm&amp;Mgmt</td>\n",
       "      <td>No</td>\n",
       "      <td>96.8</td>\n",
       "      <td>Mkt&amp;Fin</td>\n",
       "      <td>55.50</td>\n",
       "      <td>Placed</td>\n",
       "      <td>425000.0</td>\n",
       "    </tr>\n",
       "    <tr>\n",
       "      <th>...</th>\n",
       "      <td>...</td>\n",
       "      <td>...</td>\n",
       "      <td>...</td>\n",
       "      <td>...</td>\n",
       "      <td>...</td>\n",
       "      <td>...</td>\n",
       "      <td>...</td>\n",
       "      <td>...</td>\n",
       "      <td>...</td>\n",
       "      <td>...</td>\n",
       "      <td>...</td>\n",
       "      <td>...</td>\n",
       "      <td>...</td>\n",
       "      <td>...</td>\n",
       "    </tr>\n",
       "    <tr>\n",
       "      <th>210</th>\n",
       "      <td>M</td>\n",
       "      <td>80.60</td>\n",
       "      <td>Others</td>\n",
       "      <td>82.00</td>\n",
       "      <td>Others</td>\n",
       "      <td>Commerce</td>\n",
       "      <td>77.60</td>\n",
       "      <td>Comm&amp;Mgmt</td>\n",
       "      <td>No</td>\n",
       "      <td>91.0</td>\n",
       "      <td>Mkt&amp;Fin</td>\n",
       "      <td>74.49</td>\n",
       "      <td>Placed</td>\n",
       "      <td>400000.0</td>\n",
       "    </tr>\n",
       "    <tr>\n",
       "      <th>211</th>\n",
       "      <td>M</td>\n",
       "      <td>58.00</td>\n",
       "      <td>Others</td>\n",
       "      <td>60.00</td>\n",
       "      <td>Others</td>\n",
       "      <td>Science</td>\n",
       "      <td>72.00</td>\n",
       "      <td>Sci&amp;Tech</td>\n",
       "      <td>No</td>\n",
       "      <td>74.0</td>\n",
       "      <td>Mkt&amp;Fin</td>\n",
       "      <td>53.62</td>\n",
       "      <td>Placed</td>\n",
       "      <td>275000.0</td>\n",
       "    </tr>\n",
       "    <tr>\n",
       "      <th>212</th>\n",
       "      <td>M</td>\n",
       "      <td>67.00</td>\n",
       "      <td>Others</td>\n",
       "      <td>67.00</td>\n",
       "      <td>Others</td>\n",
       "      <td>Commerce</td>\n",
       "      <td>73.00</td>\n",
       "      <td>Comm&amp;Mgmt</td>\n",
       "      <td>Yes</td>\n",
       "      <td>59.0</td>\n",
       "      <td>Mkt&amp;Fin</td>\n",
       "      <td>69.72</td>\n",
       "      <td>Placed</td>\n",
       "      <td>295000.0</td>\n",
       "    </tr>\n",
       "    <tr>\n",
       "      <th>213</th>\n",
       "      <td>F</td>\n",
       "      <td>74.00</td>\n",
       "      <td>Others</td>\n",
       "      <td>66.00</td>\n",
       "      <td>Others</td>\n",
       "      <td>Commerce</td>\n",
       "      <td>58.00</td>\n",
       "      <td>Comm&amp;Mgmt</td>\n",
       "      <td>No</td>\n",
       "      <td>70.0</td>\n",
       "      <td>Mkt&amp;HR</td>\n",
       "      <td>60.23</td>\n",
       "      <td>Placed</td>\n",
       "      <td>204000.0</td>\n",
       "    </tr>\n",
       "    <tr>\n",
       "      <th>214</th>\n",
       "      <td>M</td>\n",
       "      <td>62.00</td>\n",
       "      <td>Central</td>\n",
       "      <td>58.00</td>\n",
       "      <td>Others</td>\n",
       "      <td>Science</td>\n",
       "      <td>53.00</td>\n",
       "      <td>Comm&amp;Mgmt</td>\n",
       "      <td>No</td>\n",
       "      <td>89.0</td>\n",
       "      <td>Mkt&amp;HR</td>\n",
       "      <td>60.22</td>\n",
       "      <td>Not Placed</td>\n",
       "      <td>NaN</td>\n",
       "    </tr>\n",
       "  </tbody>\n",
       "</table>\n",
       "<p>215 rows × 14 columns</p>\n",
       "</div>"
      ],
      "text/plain": [
       "    gender  ssc_p    ssc_b  hsc_p    hsc_b     hsc_s  degree_p   degree_t  \\\n",
       "0        M  67.00   Others  91.00   Others  Commerce     58.00   Sci&Tech   \n",
       "1        M  79.33  Central  78.33   Others   Science     77.48   Sci&Tech   \n",
       "2        M  65.00  Central  68.00  Central      Arts     64.00  Comm&Mgmt   \n",
       "3        M  56.00  Central  52.00  Central   Science     52.00   Sci&Tech   \n",
       "4        M  85.80  Central  73.60  Central  Commerce     73.30  Comm&Mgmt   \n",
       "..     ...    ...      ...    ...      ...       ...       ...        ...   \n",
       "210      M  80.60   Others  82.00   Others  Commerce     77.60  Comm&Mgmt   \n",
       "211      M  58.00   Others  60.00   Others   Science     72.00   Sci&Tech   \n",
       "212      M  67.00   Others  67.00   Others  Commerce     73.00  Comm&Mgmt   \n",
       "213      F  74.00   Others  66.00   Others  Commerce     58.00  Comm&Mgmt   \n",
       "214      M  62.00  Central  58.00   Others   Science     53.00  Comm&Mgmt   \n",
       "\n",
       "    workex  etest_p specialisation  mba_p      status    salary  \n",
       "0       No     55.0         Mkt&HR  58.80      Placed  270000.0  \n",
       "1      Yes     86.5        Mkt&Fin  66.28      Placed  200000.0  \n",
       "2       No     75.0        Mkt&Fin  57.80      Placed  250000.0  \n",
       "3       No     66.0         Mkt&HR  59.43  Not Placed       NaN  \n",
       "4       No     96.8        Mkt&Fin  55.50      Placed  425000.0  \n",
       "..     ...      ...            ...    ...         ...       ...  \n",
       "210     No     91.0        Mkt&Fin  74.49      Placed  400000.0  \n",
       "211     No     74.0        Mkt&Fin  53.62      Placed  275000.0  \n",
       "212    Yes     59.0        Mkt&Fin  69.72      Placed  295000.0  \n",
       "213     No     70.0         Mkt&HR  60.23      Placed  204000.0  \n",
       "214     No     89.0         Mkt&HR  60.22  Not Placed       NaN  \n",
       "\n",
       "[215 rows x 14 columns]"
      ]
     },
     "execution_count": 2,
     "metadata": {},
     "output_type": "execute_result"
    }
   ],
   "source": [
    "data = pd.read_csv('Campus Placement.csv')\n",
    "data"
   ]
  },
  {
   "cell_type": "markdown",
   "id": "971114a4",
   "metadata": {},
   "source": [
    "### Column Description"
   ]
  },
  {
   "cell_type": "markdown",
   "id": "dad864cf",
   "metadata": {},
   "source": [
    "-   gender\n",
    "-   ssc_p -> 10th class percentage\n",
    "-   ssc_b -> 10th class board\n",
    "-   hsc_p -> 12th class percentage\n",
    "-   hsc_b -> 12th class board\n",
    "-   hsc_s -> 12th class branch\n",
    "-   degree_p -> undergraduate degree percentage\n",
    "-   degree_t -> degree branch\n",
    "-   workex -> work experience\n",
    "-   etest_p -> Entrance test percentage\n",
    "-   specialisation -> MBA branch\n",
    "-   mba_p -> MBA percentage\n",
    "-   status -> placement status\n",
    "-   salary -> quoted salary"
   ]
  },
  {
   "cell_type": "code",
   "execution_count": 3,
   "id": "b1f82551",
   "metadata": {},
   "outputs": [],
   "source": [
    "data.rename(columns={'specialisation':'mba_t'}, inplace=True)"
   ]
  },
  {
   "cell_type": "code",
   "execution_count": 4,
   "id": "62033193",
   "metadata": {},
   "outputs": [
    {
     "data": {
      "text/plain": [
       "0"
      ]
     },
     "execution_count": 4,
     "metadata": {},
     "output_type": "execute_result"
    }
   ],
   "source": [
    "data.duplicated().sum()"
   ]
  },
  {
   "cell_type": "code",
   "execution_count": 5,
   "id": "4855c666",
   "metadata": {},
   "outputs": [
    {
     "name": "stdout",
     "output_type": "stream",
     "text": [
      "<class 'pandas.core.frame.DataFrame'>\n",
      "RangeIndex: 215 entries, 0 to 214\n",
      "Data columns (total 14 columns):\n",
      " #   Column    Non-Null Count  Dtype  \n",
      "---  ------    --------------  -----  \n",
      " 0   gender    215 non-null    object \n",
      " 1   ssc_p     215 non-null    float64\n",
      " 2   ssc_b     215 non-null    object \n",
      " 3   hsc_p     215 non-null    float64\n",
      " 4   hsc_b     215 non-null    object \n",
      " 5   hsc_s     215 non-null    object \n",
      " 6   degree_p  215 non-null    float64\n",
      " 7   degree_t  215 non-null    object \n",
      " 8   workex    215 non-null    object \n",
      " 9   etest_p   215 non-null    float64\n",
      " 10  mba_t     215 non-null    object \n",
      " 11  mba_p     215 non-null    float64\n",
      " 12  status    215 non-null    object \n",
      " 13  salary    148 non-null    float64\n",
      "dtypes: float64(6), object(8)\n",
      "memory usage: 23.6+ KB\n"
     ]
    }
   ],
   "source": [
    "data.info()"
   ]
  },
  {
   "cell_type": "markdown",
   "id": "df7df56b",
   "metadata": {},
   "source": [
    "1. salary has null values"
   ]
  },
  {
   "cell_type": "code",
   "execution_count": 6,
   "id": "fd8daa0b",
   "metadata": {},
   "outputs": [],
   "source": [
    "data.fillna(0,inplace=True)"
   ]
  },
  {
   "cell_type": "markdown",
   "id": "8df38e3a",
   "metadata": {},
   "source": [
    "Filling them with zeros, which is acceptable technically and avoid NaN's"
   ]
  },
  {
   "cell_type": "code",
   "execution_count": 7,
   "id": "d6904e56",
   "metadata": {},
   "outputs": [
    {
     "data": {
      "text/plain": [
       "0"
      ]
     },
     "execution_count": 7,
     "metadata": {},
     "output_type": "execute_result"
    }
   ],
   "source": [
    "data['salary'].isna().sum()"
   ]
  },
  {
   "cell_type": "code",
   "execution_count": 8,
   "id": "252df5b0",
   "metadata": {
    "scrolled": true
   },
   "outputs": [
    {
     "data": {
      "text/html": [
       "<div>\n",
       "<style scoped>\n",
       "    .dataframe tbody tr th:only-of-type {\n",
       "        vertical-align: middle;\n",
       "    }\n",
       "\n",
       "    .dataframe tbody tr th {\n",
       "        vertical-align: top;\n",
       "    }\n",
       "\n",
       "    .dataframe thead th {\n",
       "        text-align: right;\n",
       "    }\n",
       "</style>\n",
       "<table border=\"1\" class=\"dataframe\">\n",
       "  <thead>\n",
       "    <tr style=\"text-align: right;\">\n",
       "      <th></th>\n",
       "      <th>ssc_p</th>\n",
       "      <th>hsc_p</th>\n",
       "      <th>degree_p</th>\n",
       "      <th>etest_p</th>\n",
       "      <th>mba_p</th>\n",
       "      <th>salary</th>\n",
       "    </tr>\n",
       "  </thead>\n",
       "  <tbody>\n",
       "    <tr>\n",
       "      <th>count</th>\n",
       "      <td>215.000000</td>\n",
       "      <td>215.000000</td>\n",
       "      <td>215.000000</td>\n",
       "      <td>215.000000</td>\n",
       "      <td>215.000000</td>\n",
       "      <td>215.000000</td>\n",
       "    </tr>\n",
       "    <tr>\n",
       "      <th>mean</th>\n",
       "      <td>67.303395</td>\n",
       "      <td>66.333163</td>\n",
       "      <td>66.370186</td>\n",
       "      <td>72.100558</td>\n",
       "      <td>62.278186</td>\n",
       "      <td>198702.325581</td>\n",
       "    </tr>\n",
       "    <tr>\n",
       "      <th>std</th>\n",
       "      <td>10.827205</td>\n",
       "      <td>10.897509</td>\n",
       "      <td>7.358743</td>\n",
       "      <td>13.275956</td>\n",
       "      <td>5.833385</td>\n",
       "      <td>154780.926716</td>\n",
       "    </tr>\n",
       "    <tr>\n",
       "      <th>min</th>\n",
       "      <td>40.890000</td>\n",
       "      <td>37.000000</td>\n",
       "      <td>50.000000</td>\n",
       "      <td>50.000000</td>\n",
       "      <td>51.210000</td>\n",
       "      <td>0.000000</td>\n",
       "    </tr>\n",
       "    <tr>\n",
       "      <th>25%</th>\n",
       "      <td>60.600000</td>\n",
       "      <td>60.900000</td>\n",
       "      <td>61.000000</td>\n",
       "      <td>60.000000</td>\n",
       "      <td>57.945000</td>\n",
       "      <td>0.000000</td>\n",
       "    </tr>\n",
       "    <tr>\n",
       "      <th>50%</th>\n",
       "      <td>67.000000</td>\n",
       "      <td>65.000000</td>\n",
       "      <td>66.000000</td>\n",
       "      <td>71.000000</td>\n",
       "      <td>62.000000</td>\n",
       "      <td>240000.000000</td>\n",
       "    </tr>\n",
       "    <tr>\n",
       "      <th>75%</th>\n",
       "      <td>75.700000</td>\n",
       "      <td>73.000000</td>\n",
       "      <td>72.000000</td>\n",
       "      <td>83.500000</td>\n",
       "      <td>66.255000</td>\n",
       "      <td>282500.000000</td>\n",
       "    </tr>\n",
       "    <tr>\n",
       "      <th>max</th>\n",
       "      <td>89.400000</td>\n",
       "      <td>97.700000</td>\n",
       "      <td>91.000000</td>\n",
       "      <td>98.000000</td>\n",
       "      <td>77.890000</td>\n",
       "      <td>940000.000000</td>\n",
       "    </tr>\n",
       "  </tbody>\n",
       "</table>\n",
       "</div>"
      ],
      "text/plain": [
       "            ssc_p       hsc_p    degree_p     etest_p       mba_p  \\\n",
       "count  215.000000  215.000000  215.000000  215.000000  215.000000   \n",
       "mean    67.303395   66.333163   66.370186   72.100558   62.278186   \n",
       "std     10.827205   10.897509    7.358743   13.275956    5.833385   \n",
       "min     40.890000   37.000000   50.000000   50.000000   51.210000   \n",
       "25%     60.600000   60.900000   61.000000   60.000000   57.945000   \n",
       "50%     67.000000   65.000000   66.000000   71.000000   62.000000   \n",
       "75%     75.700000   73.000000   72.000000   83.500000   66.255000   \n",
       "max     89.400000   97.700000   91.000000   98.000000   77.890000   \n",
       "\n",
       "              salary  \n",
       "count     215.000000  \n",
       "mean   198702.325581  \n",
       "std    154780.926716  \n",
       "min         0.000000  \n",
       "25%         0.000000  \n",
       "50%    240000.000000  \n",
       "75%    282500.000000  \n",
       "max    940000.000000  "
      ]
     },
     "execution_count": 8,
     "metadata": {},
     "output_type": "execute_result"
    }
   ],
   "source": [
    "data.describe()"
   ]
  },
  {
   "cell_type": "markdown",
   "id": "f9cbec25",
   "metadata": {},
   "source": [
    "# Univariate Analysis"
   ]
  },
  {
   "cell_type": "markdown",
   "id": "0bcea51b",
   "metadata": {},
   "source": [
    "#### Function for value counts"
   ]
  },
  {
   "cell_type": "code",
   "execution_count": 9,
   "id": "07199063",
   "metadata": {},
   "outputs": [],
   "source": [
    "def valueCounts(lst):\n",
    "    for i in lst:\n",
    "        print(i)\n",
    "        print(data[i].value_counts())\n",
    "        print('')"
   ]
  },
  {
   "cell_type": "markdown",
   "id": "d8d01297",
   "metadata": {},
   "source": [
    "### Gender"
   ]
  },
  {
   "cell_type": "code",
   "execution_count": 10,
   "id": "32211ba3",
   "metadata": {},
   "outputs": [
    {
     "name": "stdout",
     "output_type": "stream",
     "text": [
      "gender\n",
      "M    139\n",
      "F     76\n",
      "Name: gender, dtype: int64\n",
      "\n"
     ]
    }
   ],
   "source": [
    "valueCounts(['gender'])"
   ]
  },
  {
   "cell_type": "code",
   "execution_count": 11,
   "id": "74010c99",
   "metadata": {},
   "outputs": [
    {
     "data": {
      "image/png": "[encoded data removed]",
      "text/plain": [
       "<Figure size 432x288 with 1 Axes>"
      ]
     },
     "metadata": {
      "needs_background": "light"
     },
     "output_type": "display_data"
    }
   ],
   "source": [
    "fig, ax = plt.subplots()\n",
    "\n",
    "ax. spines[\"right\"].set_visible(False)\n",
    "ax. spines[\"top\"].set_visible(False)\n",
    "ax. spines[\"bottom\"].set_visible(False)\n",
    "\n",
    "width = 0.5\n",
    "x = data['gender'].value_counts().index\n",
    "y = data['gender'].value_counts().values\n",
    " \n",
    "ax.barh(x, y, width, color = \"darkorange\")\n",
    " \n",
    "for i, v in enumerate(y):\n",
    "    ax.text(v + 3, i + .005, str(v),\n",
    "            color = 'dimgray', fontweight = 'bold')\n",
    "plt.show()"
   ]
  },
  {
   "cell_type": "markdown",
   "id": "933e8437",
   "metadata": {},
   "source": [
    "### ssc_p(10th percentage)"
   ]
  },
  {
   "cell_type": "code",
   "execution_count": 12,
   "id": "536ef1e1",
   "metadata": {},
   "outputs": [
    {
     "name": "stderr",
     "output_type": "stream",
     "text": [
      "e:\\virtualenv\\lib\\site-packages\\seaborn\\distributions.py:2619: FutureWarning: `distplot` is a deprecated function and will be removed in a future version. Please adapt your code to use either `displot` (a figure-level function with similar flexibility) or `histplot` (an axes-level function for histograms).\n",
      "  warnings.warn(msg, FutureWarning)\n"
     ]
    },
    {
     "data": {
      "text/plain": [
       "<AxesSubplot:xlabel='ssc_p', ylabel='Density'>"
      ]
     },
     "execution_count": 12,
     "metadata": {},
     "output_type": "execute_result"
    },
    {
     "data": {
      "image/png": "[encoded data removed]",
      "text/plain": [
       "<Figure size 432x288 with 1 Axes>"
      ]
     },
     "metadata": {
      "needs_background": "light"
     },
     "output_type": "display_data"
    }
   ],
   "source": [
    "sns.distplot(data.ssc_p, hist=True, color = 'darkorange')"
   ]
  },
  {
   "cell_type": "markdown",
   "id": "7ae99ca3",
   "metadata": {},
   "source": [
    "> - The students with above 40 as their ssc score, only are given admission to the college"
   ]
  },
  {
   "cell_type": "code",
   "execution_count": 13,
   "id": "cfd14bf9",
   "metadata": {},
   "outputs": [
    {
     "data": {
      "image/png": "[encoded data removed]",
      "text/plain": [
       "<Figure size 1080x288 with 2 Axes>"
      ]
     },
     "metadata": {
      "needs_background": "light"
     },
     "output_type": "display_data"
    }
   ],
   "source": [
    "x = data.ssc_p.values\n",
    "fig, axes = plt.subplots(ncols=2, figsize=(15, 4))\n",
    "for ax in axes:\n",
    "    sns.kdeplot(x, shade=False, color='darkorange', ax=ax)\n",
    "    kdeline = ax.lines[0]\n",
    "    xs = kdeline.get_xdata()\n",
    "    ys = kdeline.get_ydata()\n",
    "    if ax == axes[0]:\n",
    "        middle = x.mean()\n",
    "        sdev = x.std()\n",
    "        left = middle - sdev\n",
    "        right = middle + sdev\n",
    "        ax.set_title('Showing mean and std_dev')\n",
    "    else:\n",
    "        left, middle, right = np.percentile(x, [25, 50, 75])\n",
    "        ax.set_title('Showing median and quartiles')\n",
    "    ax.vlines(middle, 0, np.interp(middle, xs, ys), color='darkorange', ls=':')\n",
    "    center_value = (((max(data.ssc_p) - min(data.ssc_p))/2)+min(data.ssc_p))\n",
    "    ax.vlines(center_value, 0, np.interp(center_value, xs, ys), color='dimgray', ls='-')\n",
    "    ax.fill_between(xs, 0, ys, facecolor='darkorange', alpha=0.2)\n",
    "    ax.fill_between(xs, 0, ys, where=(left <= xs) & (xs <= right), interpolate=True, facecolor='darkorange', alpha=0.2)\n",
    "    # ax.set_ylim(ymin=0)\n",
    "plt.show()"
   ]
  },
  {
   "cell_type": "markdown",
   "id": "395fa6a2",
   "metadata": {},
   "source": [
    "- According to the above graphs \n",
    "    - students scoring below the mean(67) are **less** when compared to students scoring above the mean(67)\n",
    "- majority of the students scored above the mean(67)\n",
    "> - The majority of the group are with good score students(:: 2nd graph, the are of the region between median and 75 percentile is significantly high) \n",
    "<br><br/>\n",
    "> - The center value of the graph(x axis) is supposed to be the **mean, median, mode and peak** for a normal distribution graph but here the **mode and peak** are almost at the center but **mean and median** are drifted towards right, which means that the values are dense over the right side"
   ]
  },
  {
   "cell_type": "code",
   "execution_count": 14,
   "id": "e43a2ed6",
   "metadata": {},
   "outputs": [
    {
     "name": "stdout",
     "output_type": "stream",
     "text": [
      "min:           40.89\n",
      "max:           89.4\n",
      "center value:  65.14500000000001\n",
      "mean:          67.30339534883721\n",
      "median:        67.0\n"
     ]
    }
   ],
   "source": [
    "print('min:          ',min(data.ssc_p))\n",
    "print('max:          ',max(data.ssc_p))\n",
    "print('center value: ',(((max(data.ssc_p) - min(data.ssc_p))/2)+min(data.ssc_p)))\n",
    "print('mean:         ', data.ssc_p.mean())\n",
    "print('median:       ',data.ssc_p.median())"
   ]
  },
  {
   "cell_type": "markdown",
   "id": "376e79fb",
   "metadata": {},
   "source": [
    "- The last point of the above cell is verified numerically\n",
    "    - mean and median are almost the same and the center value is less than the mean "
   ]
  },
  {
   "cell_type": "code",
   "execution_count": 15,
   "id": "2734b7f5",
   "metadata": {},
   "outputs": [
    {
     "name": "stdout",
     "output_type": "stream",
     "text": [
      "median:  67.0\n",
      "mean:  67.30339534883721\n"
     ]
    }
   ],
   "source": [
    "print('median: ',data.ssc_p.median())\n",
    "print('mean: ', data.ssc_p.mean())"
   ]
  },
  {
   "cell_type": "markdown",
   "id": "485a387a",
   "metadata": {},
   "source": [
    "- this is a indication that the values are directed towards a normal distribution \n",
    "    - Because, the mean and median are almost same."
   ]
  },
  {
   "cell_type": "code",
   "execution_count": 16,
   "id": "ebad3e2e",
   "metadata": {},
   "outputs": [
    {
     "name": "stdout",
     "output_type": "stream",
     "text": [
      "skewedness =  -0.13\n",
      "kurtosis =  2.38\n"
     ]
    }
   ],
   "source": [
    "print('skewedness = ',round(skew(data.ssc_p.values, axis=0, bias=True),2))\n",
    "print('kurtosis = ', round(kurtosis(data.ssc_p.values, fisher=False),2))"
   ]
  },
  {
   "cell_type": "markdown",
   "id": "1c0fae88",
   "metadata": {},
   "source": [
    "#### Norms for normal distribution\n",
    "- skewedness = 0\n",
    "- kurtosis = 3\n",
    "\n",
    "#### Our graph result\n",
    "- As -0.13 < 0, right skewed\n",
    "- as 2.38 < 3, flat peak and thick tails"
   ]
  },
  {
   "cell_type": "code",
   "execution_count": 17,
   "id": "269bc360",
   "metadata": {},
   "outputs": [
    {
     "name": "stderr",
     "output_type": "stream",
     "text": [
      "e:\\virtualenv\\lib\\site-packages\\seaborn\\_decorators.py:36: FutureWarning: Pass the following variable as a keyword arg: x. From version 0.12, the only valid positional argument will be `data`, and passing other arguments without an explicit keyword will result in an error or misinterpretation.\n",
      "  warnings.warn(\n"
     ]
    },
    {
     "data": {
      "text/plain": [
       "<AxesSubplot:xlabel='ssc_p'>"
      ]
     },
     "execution_count": 17,
     "metadata": {},
     "output_type": "execute_result"
    },
    {
     "data": {
      "image/png": "[encoded data removed]",
      "text/plain": [
       "<Figure size 432x288 with 1 Axes>"
      ]
     },
     "metadata": {
      "needs_background": "light"
     },
     "output_type": "display_data"
    }
   ],
   "source": [
    "sns.boxplot(data.ssc_p,color = 'orange', saturation = 1)"
   ]
  },
  {
   "cell_type": "markdown",
   "id": "d1e51e82",
   "metadata": {},
   "source": [
    "As we already said, the graph seemed to be in normal distribution, so the are no **outliers** "
   ]
  },
  {
   "cell_type": "markdown",
   "id": "443ee6a5",
   "metadata": {},
   "source": [
    "### ssc_b(10th board)"
   ]
  },
  {
   "cell_type": "code",
   "execution_count": 18,
   "id": "1cacdabb",
   "metadata": {},
   "outputs": [
    {
     "name": "stdout",
     "output_type": "stream",
     "text": [
      "ssc_b\n",
      "Central    116\n",
      "Others      99\n",
      "Name: ssc_b, dtype: int64\n",
      "\n"
     ]
    }
   ],
   "source": [
    "valueCounts(['ssc_b'])"
   ]
  },
  {
   "cell_type": "markdown",
   "id": "c7611337",
   "metadata": {},
   "source": [
    "The ratio between the category is comparitively acceptable and balanced, because the difference betwee them is only 17 "
   ]
  },
  {
   "cell_type": "code",
   "execution_count": 19,
   "id": "1b5e5628",
   "metadata": {},
   "outputs": [
    {
     "data": {
      "image/png": "[encoded data removed]",
      "text/plain": [
       "<Figure size 432x288 with 1 Axes>"
      ]
     },
     "metadata": {
      "needs_background": "light"
     },
     "output_type": "display_data"
    }
   ],
   "source": [
    "fig, ax = plt.subplots()\n",
    "\n",
    "ax. spines[\"right\"].set_visible(False)\n",
    "ax. spines[\"top\"].set_visible(False)\n",
    "ax. spines[\"bottom\"].set_visible(False)\n",
    "\n",
    "width = 0.5\n",
    "x = data['ssc_b'].value_counts().index\n",
    "y = data['ssc_b'].value_counts().values\n",
    " \n",
    "ax.barh(x, y, width, color = \"Darkorange\")\n",
    " \n",
    "for i, v in enumerate(y):\n",
    "    ax.text(v + 3, i + .005, str(v),\n",
    "            color = 'dimgray', fontweight = 'bold')\n",
    "plt.show()"
   ]
  },
  {
   "cell_type": "markdown",
   "id": "71bc592c",
   "metadata": {},
   "source": [
    "## hsc_p(12th percentage)"
   ]
  },
  {
   "cell_type": "code",
   "execution_count": 20,
   "id": "0295645c",
   "metadata": {
    "scrolled": true
   },
   "outputs": [
    {
     "name": "stderr",
     "output_type": "stream",
     "text": [
      "e:\\virtualenv\\lib\\site-packages\\seaborn\\distributions.py:2619: FutureWarning: `distplot` is a deprecated function and will be removed in a future version. Please adapt your code to use either `displot` (a figure-level function with similar flexibility) or `histplot` (an axes-level function for histograms).\n",
      "  warnings.warn(msg, FutureWarning)\n"
     ]
    },
    {
     "data": {
      "text/plain": [
       "<AxesSubplot:xlabel='hsc_p', ylabel='Density'>"
      ]
     },
     "execution_count": 20,
     "metadata": {},
     "output_type": "execute_result"
    },
    {
     "data": {
      "image/png": "[encoded data removed]",
      "text/plain": [
       "<Figure size 432x288 with 1 Axes>"
      ]
     },
     "metadata": {
      "needs_background": "light"
     },
     "output_type": "display_data"
    }
   ],
   "source": [
    "sns.distplot(data.hsc_p, hist=True, bins = 20, color = 'darkorange')"
   ]
  },
  {
   "cell_type": "markdown",
   "id": "6ea5066d",
   "metadata": {},
   "source": [
    "The reason for the peak is the sudden spike values around 60 to 65"
   ]
  },
  {
   "cell_type": "code",
   "execution_count": 21,
   "id": "7a30f494",
   "metadata": {},
   "outputs": [
    {
     "data": {
      "image/png": "[encoded data removed]",
      "text/plain": [
       "<Figure size 1080x288 with 2 Axes>"
      ]
     },
     "metadata": {
      "needs_background": "light"
     },
     "output_type": "display_data"
    }
   ],
   "source": [
    "x = data.hsc_p.values\n",
    "fig, axes = plt.subplots(ncols=2, figsize=(15, 4))\n",
    "for ax in axes:\n",
    "    sns.kdeplot(x, shade=False, color='darkorange', ax=ax)\n",
    "    kdeline = ax.lines[0]\n",
    "    xs = kdeline.get_xdata()\n",
    "    ys = kdeline.get_ydata()\n",
    "    if ax == axes[0]:\n",
    "        middle = x.mean()\n",
    "        sdev = x.std()\n",
    "        left = middle - sdev\n",
    "        right = middle + sdev\n",
    "        ax.set_title('Showing mean and std_dev')\n",
    "    else:\n",
    "        left, middle, right = np.percentile(x, [25, 50, 75])\n",
    "        ax.set_title('Showing median and quartiles')\n",
    "    ax.vlines(middle, 0, np.interp(middle, xs, ys), color='darkorange', ls=':')\n",
    "    center_value = (((max(data.hsc_p) - min(data.hsc_p))/2)+min(data.hsc_p))\n",
    "    ax.vlines(center_value, 0, np.interp(center_value, xs, ys), color='dimgray', ls='-')\n",
    "    ax.fill_between(xs, 0, ys, facecolor='darkorange', alpha=0.2)\n",
    "    ax.fill_between(xs, 0, ys, where=(left <= xs) & (xs <= right), interpolate=True, facecolor='darkorange', alpha=0.2)\n",
    "    # ax.set_ylim(ymin=0)\n",
    "plt.show()"
   ]
  },
  {
   "cell_type": "markdown",
   "id": "e87eb20c",
   "metadata": {},
   "source": [
    "The frequency around the peak seem to be high. i.e..around 55 to 77\n",
    "<br><br/>\n",
    "The standard deviation seem to be very high, let's check them numerically"
   ]
  },
  {
   "cell_type": "code",
   "execution_count": 22,
   "id": "09e58dad",
   "metadata": {},
   "outputs": [
    {
     "name": "stdout",
     "output_type": "stream",
     "text": [
      "std:  10.89750915750298\n"
     ]
    }
   ],
   "source": [
    "print('std: ', data.hsc_p.std())"
   ]
  },
  {
   "cell_type": "markdown",
   "id": "eb659178",
   "metadata": {},
   "source": [
    "For a normal distribution, within 3 standard deviations after the mean, the graph should get over. So, let's calculate them"
   ]
  },
  {
   "cell_type": "code",
   "execution_count": 23,
   "id": "8bd9cb42",
   "metadata": {
    "scrolled": true
   },
   "outputs": [
    {
     "name": "stdout",
     "output_type": "stream",
     "text": [
      "99.02569026320663\n"
     ]
    },
    {
     "data": {
      "text/plain": [
       "97.7"
      ]
     },
     "execution_count": 23,
     "metadata": {},
     "output_type": "execute_result"
    }
   ],
   "source": [
    "print(data.hsc_p.mean()+3*data.hsc_p.std())\n",
    "max(data.hsc_p)"
   ]
  },
  {
   "cell_type": "markdown",
   "id": "0d23afea",
   "metadata": {},
   "source": [
    "The values are under standard dstribution only"
   ]
  },
  {
   "cell_type": "code",
   "execution_count": 24,
   "id": "be1e6598",
   "metadata": {},
   "outputs": [
    {
     "name": "stdout",
     "output_type": "stream",
     "text": [
      "median:  65.0\n",
      "mean:  66.33316279069768\n"
     ]
    }
   ],
   "source": [
    "print('median: ',data.hsc_p.median())\n",
    "print('mean: ', data.hsc_p.mean())"
   ]
  },
  {
   "cell_type": "markdown",
   "id": "ccd5cccc",
   "metadata": {},
   "source": [
    "mean and median seem to have a slight difference, which indicates the absence of normal distribution"
   ]
  },
  {
   "cell_type": "code",
   "execution_count": 25,
   "id": "a593cd86",
   "metadata": {},
   "outputs": [
    {
     "name": "stdout",
     "output_type": "stream",
     "text": [
      "skewedness =  0.16\n",
      "kurtosis =  3.41\n"
     ]
    }
   ],
   "source": [
    "print('skewedness = ',round(skew(data.hsc_p.values, axis=0, bias=True),2))\n",
    "print('kurtosis = ', round(kurtosis(data.hsc_p.values, fisher=False),2))"
   ]
  },
  {
   "cell_type": "markdown",
   "id": "7e877d7a",
   "metadata": {},
   "source": [
    "#### Norms for normal distribution\n",
    "- skewedness = 0\n",
    "- kurtosis = 3\n",
    "\n",
    "#### Our graph result\n",
    "- As 0.16 > 0, left skewed (slightly)\n",
    "- as 3.41 > 3, sharp peak and thin tails"
   ]
  },
  {
   "cell_type": "code",
   "execution_count": 26,
   "id": "4535b663",
   "metadata": {},
   "outputs": [
    {
     "name": "stdout",
     "output_type": "stream",
     "text": [
      "min:           37.0\n",
      "max:           97.7\n",
      "center value:  67.35\n",
      "mean:          66.33316279069768\n",
      "median:        65.0\n"
     ]
    }
   ],
   "source": [
    "print('min:          ',min(data.hsc_p))\n",
    "print('max:          ',max(data.hsc_p))\n",
    "print('center value: ',(((max(data.hsc_p) - min(data.hsc_p))/2)+min(data.hsc_p)))\n",
    "print('mean:         ', data.hsc_p.mean())\n",
    "print('median:       ',data.hsc_p.median())"
   ]
  },
  {
   "cell_type": "code",
   "execution_count": 27,
   "id": "abc9b368",
   "metadata": {},
   "outputs": [
    {
     "name": "stderr",
     "output_type": "stream",
     "text": [
      "e:\\virtualenv\\lib\\site-packages\\seaborn\\_decorators.py:36: FutureWarning: Pass the following variable as a keyword arg: x. From version 0.12, the only valid positional argument will be `data`, and passing other arguments without an explicit keyword will result in an error or misinterpretation.\n",
      "  warnings.warn(\n"
     ]
    },
    {
     "data": {
      "text/plain": [
       "<AxesSubplot:xlabel='hsc_p'>"
      ]
     },
     "execution_count": 27,
     "metadata": {},
     "output_type": "execute_result"
    },
    {
     "data": {
      "image/png": "[encoded data removed]",
      "text/plain": [
       "<Figure size 432x288 with 1 Axes>"
      ]
     },
     "metadata": {
      "needs_background": "light"
     },
     "output_type": "display_data"
    }
   ],
   "source": [
    "sns.boxplot(data.hsc_p, color ='orange', saturation = 1)"
   ]
  },
  {
   "cell_type": "markdown",
   "id": "85695a4f",
   "metadata": {},
   "source": [
    "- There are outliers due to the peak in the graph\n",
    "    - we shall check the values of the *peak* and *outliers*"
   ]
  },
  {
   "cell_type": "markdown",
   "id": "8ec554bb",
   "metadata": {},
   "source": [
    "#### First, we'll check the peak "
   ]
  },
  {
   "cell_type": "code",
   "execution_count": 28,
   "id": "7f5157f5",
   "metadata": {},
   "outputs": [
    {
     "name": "stderr",
     "output_type": "stream",
     "text": [
      "e:\\virtualenv\\lib\\site-packages\\seaborn\\distributions.py:2619: FutureWarning: `distplot` is a deprecated function and will be removed in a future version. Please adapt your code to use either `displot` (a figure-level function with similar flexibility) or `histplot` (an axes-level function for histograms).\n",
      "  warnings.warn(msg, FutureWarning)\n"
     ]
    },
    {
     "data": {
      "text/plain": [
       "<AxesSubplot:xlabel='hsc_p', ylabel='Density'>"
      ]
     },
     "execution_count": 28,
     "metadata": {},
     "output_type": "execute_result"
    },
    {
     "data": {
      "image/png": "[encoded data removed]",
      "text/plain": [
       "<Figure size 576x360 with 1 Axes>"
      ]
     },
     "metadata": {
      "needs_background": "light"
     },
     "output_type": "display_data"
    }
   ],
   "source": [
    "plt.figure(figsize=(8, 5))\n",
    "plt.axvline(x=60, ymin=0.0, ymax=0.8, ls='dotted', color='maroon', label='Central',linewidth = 2.0)\n",
    "plt.axvline(x=67, ymin=0.0, ymax=0.8, ls='dotted', color='maroon', label='Central',linewidth = 2.0)\n",
    "sns.distplot(data.hsc_p, hist=True, bins = 40, color = 'darkorange')"
   ]
  },
  {
   "cell_type": "markdown",
   "id": "20662cfe",
   "metadata": {},
   "source": [
    "now the limits are obtained, let's check the table"
   ]
  },
  {
   "cell_type": "code",
   "execution_count": 29,
   "id": "070a565c",
   "metadata": {},
   "outputs": [
    {
     "data": {
      "text/html": [
       "<div>\n",
       "<style scoped>\n",
       "    .dataframe tbody tr th:only-of-type {\n",
       "        vertical-align: middle;\n",
       "    }\n",
       "\n",
       "    .dataframe tbody tr th {\n",
       "        vertical-align: top;\n",
       "    }\n",
       "\n",
       "    .dataframe thead th {\n",
       "        text-align: right;\n",
       "    }\n",
       "</style>\n",
       "<table border=\"1\" class=\"dataframe\">\n",
       "  <thead>\n",
       "    <tr style=\"text-align: right;\">\n",
       "      <th></th>\n",
       "      <th>gender</th>\n",
       "      <th>ssc_p</th>\n",
       "      <th>ssc_b</th>\n",
       "      <th>hsc_p</th>\n",
       "      <th>hsc_b</th>\n",
       "      <th>hsc_s</th>\n",
       "      <th>degree_p</th>\n",
       "      <th>degree_t</th>\n",
       "      <th>workex</th>\n",
       "      <th>etest_p</th>\n",
       "      <th>mba_t</th>\n",
       "      <th>mba_p</th>\n",
       "      <th>status</th>\n",
       "      <th>salary</th>\n",
       "    </tr>\n",
       "  </thead>\n",
       "  <tbody>\n",
       "    <tr>\n",
       "      <th>7</th>\n",
       "      <td>M</td>\n",
       "      <td>82.0</td>\n",
       "      <td>Central</td>\n",
       "      <td>64.0</td>\n",
       "      <td>Central</td>\n",
       "      <td>Science</td>\n",
       "      <td>66.0</td>\n",
       "      <td>Sci&amp;Tech</td>\n",
       "      <td>Yes</td>\n",
       "      <td>67.00</td>\n",
       "      <td>Mkt&amp;Fin</td>\n",
       "      <td>62.14</td>\n",
       "      <td>Placed</td>\n",
       "      <td>252000.0</td>\n",
       "    </tr>\n",
       "    <tr>\n",
       "      <th>10</th>\n",
       "      <td>M</td>\n",
       "      <td>58.0</td>\n",
       "      <td>Central</td>\n",
       "      <td>61.0</td>\n",
       "      <td>Central</td>\n",
       "      <td>Commerce</td>\n",
       "      <td>60.0</td>\n",
       "      <td>Comm&amp;Mgmt</td>\n",
       "      <td>Yes</td>\n",
       "      <td>62.00</td>\n",
       "      <td>Mkt&amp;HR</td>\n",
       "      <td>60.85</td>\n",
       "      <td>Placed</td>\n",
       "      <td>260000.0</td>\n",
       "    </tr>\n",
       "    <tr>\n",
       "      <th>16</th>\n",
       "      <td>M</td>\n",
       "      <td>63.0</td>\n",
       "      <td>Central</td>\n",
       "      <td>66.2</td>\n",
       "      <td>Central</td>\n",
       "      <td>Commerce</td>\n",
       "      <td>65.6</td>\n",
       "      <td>Comm&amp;Mgmt</td>\n",
       "      <td>Yes</td>\n",
       "      <td>60.00</td>\n",
       "      <td>Mkt&amp;Fin</td>\n",
       "      <td>62.54</td>\n",
       "      <td>Placed</td>\n",
       "      <td>300000.0</td>\n",
       "    </tr>\n",
       "    <tr>\n",
       "      <th>17</th>\n",
       "      <td>F</td>\n",
       "      <td>55.0</td>\n",
       "      <td>Central</td>\n",
       "      <td>67.0</td>\n",
       "      <td>Central</td>\n",
       "      <td>Commerce</td>\n",
       "      <td>64.0</td>\n",
       "      <td>Comm&amp;Mgmt</td>\n",
       "      <td>No</td>\n",
       "      <td>60.00</td>\n",
       "      <td>Mkt&amp;Fin</td>\n",
       "      <td>67.28</td>\n",
       "      <td>Not Placed</td>\n",
       "      <td>0.0</td>\n",
       "    </tr>\n",
       "    <tr>\n",
       "      <th>18</th>\n",
       "      <td>F</td>\n",
       "      <td>63.0</td>\n",
       "      <td>Central</td>\n",
       "      <td>66.0</td>\n",
       "      <td>Central</td>\n",
       "      <td>Commerce</td>\n",
       "      <td>64.0</td>\n",
       "      <td>Comm&amp;Mgmt</td>\n",
       "      <td>No</td>\n",
       "      <td>68.00</td>\n",
       "      <td>Mkt&amp;HR</td>\n",
       "      <td>64.08</td>\n",
       "      <td>Not Placed</td>\n",
       "      <td>0.0</td>\n",
       "    </tr>\n",
       "    <tr>\n",
       "      <th>...</th>\n",
       "      <td>...</td>\n",
       "      <td>...</td>\n",
       "      <td>...</td>\n",
       "      <td>...</td>\n",
       "      <td>...</td>\n",
       "      <td>...</td>\n",
       "      <td>...</td>\n",
       "      <td>...</td>\n",
       "      <td>...</td>\n",
       "      <td>...</td>\n",
       "      <td>...</td>\n",
       "      <td>...</td>\n",
       "      <td>...</td>\n",
       "      <td>...</td>\n",
       "    </tr>\n",
       "    <tr>\n",
       "      <th>205</th>\n",
       "      <td>M</td>\n",
       "      <td>61.0</td>\n",
       "      <td>Others</td>\n",
       "      <td>62.0</td>\n",
       "      <td>Others</td>\n",
       "      <td>Commerce</td>\n",
       "      <td>65.0</td>\n",
       "      <td>Comm&amp;Mgmt</td>\n",
       "      <td>No</td>\n",
       "      <td>62.00</td>\n",
       "      <td>Mkt&amp;Fin</td>\n",
       "      <td>56.81</td>\n",
       "      <td>Placed</td>\n",
       "      <td>250000.0</td>\n",
       "    </tr>\n",
       "    <tr>\n",
       "      <th>208</th>\n",
       "      <td>F</td>\n",
       "      <td>43.0</td>\n",
       "      <td>Central</td>\n",
       "      <td>60.0</td>\n",
       "      <td>Others</td>\n",
       "      <td>Science</td>\n",
       "      <td>65.0</td>\n",
       "      <td>Comm&amp;Mgmt</td>\n",
       "      <td>No</td>\n",
       "      <td>92.66</td>\n",
       "      <td>Mkt&amp;HR</td>\n",
       "      <td>62.92</td>\n",
       "      <td>Not Placed</td>\n",
       "      <td>0.0</td>\n",
       "    </tr>\n",
       "    <tr>\n",
       "      <th>211</th>\n",
       "      <td>M</td>\n",
       "      <td>58.0</td>\n",
       "      <td>Others</td>\n",
       "      <td>60.0</td>\n",
       "      <td>Others</td>\n",
       "      <td>Science</td>\n",
       "      <td>72.0</td>\n",
       "      <td>Sci&amp;Tech</td>\n",
       "      <td>No</td>\n",
       "      <td>74.00</td>\n",
       "      <td>Mkt&amp;Fin</td>\n",
       "      <td>53.62</td>\n",
       "      <td>Placed</td>\n",
       "      <td>275000.0</td>\n",
       "    </tr>\n",
       "    <tr>\n",
       "      <th>212</th>\n",
       "      <td>M</td>\n",
       "      <td>67.0</td>\n",
       "      <td>Others</td>\n",
       "      <td>67.0</td>\n",
       "      <td>Others</td>\n",
       "      <td>Commerce</td>\n",
       "      <td>73.0</td>\n",
       "      <td>Comm&amp;Mgmt</td>\n",
       "      <td>Yes</td>\n",
       "      <td>59.00</td>\n",
       "      <td>Mkt&amp;Fin</td>\n",
       "      <td>69.72</td>\n",
       "      <td>Placed</td>\n",
       "      <td>295000.0</td>\n",
       "    </tr>\n",
       "    <tr>\n",
       "      <th>213</th>\n",
       "      <td>F</td>\n",
       "      <td>74.0</td>\n",
       "      <td>Others</td>\n",
       "      <td>66.0</td>\n",
       "      <td>Others</td>\n",
       "      <td>Commerce</td>\n",
       "      <td>58.0</td>\n",
       "      <td>Comm&amp;Mgmt</td>\n",
       "      <td>No</td>\n",
       "      <td>70.00</td>\n",
       "      <td>Mkt&amp;HR</td>\n",
       "      <td>60.23</td>\n",
       "      <td>Placed</td>\n",
       "      <td>204000.0</td>\n",
       "    </tr>\n",
       "  </tbody>\n",
       "</table>\n",
       "<p>86 rows × 14 columns</p>\n",
       "</div>"
      ],
      "text/plain": [
       "    gender  ssc_p    ssc_b  hsc_p    hsc_b     hsc_s  degree_p   degree_t  \\\n",
       "7        M   82.0  Central   64.0  Central   Science      66.0   Sci&Tech   \n",
       "10       M   58.0  Central   61.0  Central  Commerce      60.0  Comm&Mgmt   \n",
       "16       M   63.0  Central   66.2  Central  Commerce      65.6  Comm&Mgmt   \n",
       "17       F   55.0  Central   67.0  Central  Commerce      64.0  Comm&Mgmt   \n",
       "18       F   63.0  Central   66.0  Central  Commerce      64.0  Comm&Mgmt   \n",
       "..     ...    ...      ...    ...      ...       ...       ...        ...   \n",
       "205      M   61.0   Others   62.0   Others  Commerce      65.0  Comm&Mgmt   \n",
       "208      F   43.0  Central   60.0   Others   Science      65.0  Comm&Mgmt   \n",
       "211      M   58.0   Others   60.0   Others   Science      72.0   Sci&Tech   \n",
       "212      M   67.0   Others   67.0   Others  Commerce      73.0  Comm&Mgmt   \n",
       "213      F   74.0   Others   66.0   Others  Commerce      58.0  Comm&Mgmt   \n",
       "\n",
       "    workex  etest_p    mba_t  mba_p      status    salary  \n",
       "7      Yes    67.00  Mkt&Fin  62.14      Placed  252000.0  \n",
       "10     Yes    62.00   Mkt&HR  60.85      Placed  260000.0  \n",
       "16     Yes    60.00  Mkt&Fin  62.54      Placed  300000.0  \n",
       "17      No    60.00  Mkt&Fin  67.28  Not Placed       0.0  \n",
       "18      No    68.00   Mkt&HR  64.08  Not Placed       0.0  \n",
       "..     ...      ...      ...    ...         ...       ...  \n",
       "205     No    62.00  Mkt&Fin  56.81      Placed  250000.0  \n",
       "208     No    92.66   Mkt&HR  62.92  Not Placed       0.0  \n",
       "211     No    74.00  Mkt&Fin  53.62      Placed  275000.0  \n",
       "212    Yes    59.00  Mkt&Fin  69.72      Placed  295000.0  \n",
       "213     No    70.00   Mkt&HR  60.23      Placed  204000.0  \n",
       "\n",
       "[86 rows x 14 columns]"
      ]
     },
     "execution_count": 29,
     "metadata": {},
     "output_type": "execute_result"
    }
   ],
   "source": [
    "df1 = data[data['hsc_p'] <= 67]\n",
    "df2 = df1[df1['hsc_p'] >= 60]\n",
    "df2"
   ]
  },
  {
   "cell_type": "code",
   "execution_count": 30,
   "id": "907819c3",
   "metadata": {},
   "outputs": [
    {
     "data": {
      "text/plain": [
       "40.0"
      ]
     },
     "execution_count": 30,
     "metadata": {},
     "output_type": "execute_result"
    }
   ],
   "source": [
    "(86*100)/215"
   ]
  },
  {
   "cell_type": "markdown",
   "id": "4bd6affb",
   "metadata": {},
   "source": [
    "> Around **40%** of the records lie in the interval of 60 and 67(which is just a count of consecutive 7 integers out of 100).\n",
    "- This is the reason for the peak"
   ]
  },
  {
   "cell_type": "markdown",
   "id": "dfa25c3a",
   "metadata": {},
   "source": [
    "#### Now, we'll check the values of outliers"
   ]
  },
  {
   "cell_type": "code",
   "execution_count": 31,
   "id": "6ab8ce1a",
   "metadata": {},
   "outputs": [
    {
     "data": {
      "text/html": [
       "<div>\n",
       "<style scoped>\n",
       "    .dataframe tbody tr th:only-of-type {\n",
       "        vertical-align: middle;\n",
       "    }\n",
       "\n",
       "    .dataframe tbody tr th {\n",
       "        vertical-align: top;\n",
       "    }\n",
       "\n",
       "    .dataframe thead th {\n",
       "        text-align: right;\n",
       "    }\n",
       "</style>\n",
       "<table border=\"1\" class=\"dataframe\">\n",
       "  <thead>\n",
       "    <tr style=\"text-align: right;\">\n",
       "      <th></th>\n",
       "      <th>gender</th>\n",
       "      <th>ssc_p</th>\n",
       "      <th>ssc_b</th>\n",
       "      <th>hsc_p</th>\n",
       "      <th>hsc_b</th>\n",
       "      <th>hsc_s</th>\n",
       "      <th>degree_p</th>\n",
       "      <th>degree_t</th>\n",
       "      <th>workex</th>\n",
       "      <th>etest_p</th>\n",
       "      <th>mba_t</th>\n",
       "      <th>mba_p</th>\n",
       "      <th>status</th>\n",
       "      <th>salary</th>\n",
       "    </tr>\n",
       "  </thead>\n",
       "  <tbody>\n",
       "    <tr>\n",
       "      <th>42</th>\n",
       "      <td>M</td>\n",
       "      <td>49.00</td>\n",
       "      <td>Others</td>\n",
       "      <td>39.00</td>\n",
       "      <td>Central</td>\n",
       "      <td>Science</td>\n",
       "      <td>65.00</td>\n",
       "      <td>Others</td>\n",
       "      <td>No</td>\n",
       "      <td>63.00</td>\n",
       "      <td>Mkt&amp;Fin</td>\n",
       "      <td>51.21</td>\n",
       "      <td>Not Placed</td>\n",
       "      <td>0.0</td>\n",
       "    </tr>\n",
       "    <tr>\n",
       "      <th>49</th>\n",
       "      <td>F</td>\n",
       "      <td>50.00</td>\n",
       "      <td>Others</td>\n",
       "      <td>37.00</td>\n",
       "      <td>Others</td>\n",
       "      <td>Arts</td>\n",
       "      <td>52.00</td>\n",
       "      <td>Others</td>\n",
       "      <td>No</td>\n",
       "      <td>65.00</td>\n",
       "      <td>Mkt&amp;HR</td>\n",
       "      <td>56.11</td>\n",
       "      <td>Not Placed</td>\n",
       "      <td>0.0</td>\n",
       "    </tr>\n",
       "    <tr>\n",
       "      <th>120</th>\n",
       "      <td>M</td>\n",
       "      <td>58.00</td>\n",
       "      <td>Others</td>\n",
       "      <td>40.00</td>\n",
       "      <td>Others</td>\n",
       "      <td>Science</td>\n",
       "      <td>59.00</td>\n",
       "      <td>Comm&amp;Mgmt</td>\n",
       "      <td>No</td>\n",
       "      <td>73.00</td>\n",
       "      <td>Mkt&amp;HR</td>\n",
       "      <td>58.81</td>\n",
       "      <td>Not Placed</td>\n",
       "      <td>0.0</td>\n",
       "    </tr>\n",
       "    <tr>\n",
       "      <th>169</th>\n",
       "      <td>M</td>\n",
       "      <td>59.96</td>\n",
       "      <td>Others</td>\n",
       "      <td>42.16</td>\n",
       "      <td>Others</td>\n",
       "      <td>Science</td>\n",
       "      <td>61.26</td>\n",
       "      <td>Sci&amp;Tech</td>\n",
       "      <td>No</td>\n",
       "      <td>54.48</td>\n",
       "      <td>Mkt&amp;HR</td>\n",
       "      <td>65.48</td>\n",
       "      <td>Not Placed</td>\n",
       "      <td>0.0</td>\n",
       "    </tr>\n",
       "    <tr>\n",
       "      <th>206</th>\n",
       "      <td>M</td>\n",
       "      <td>41.00</td>\n",
       "      <td>Central</td>\n",
       "      <td>42.00</td>\n",
       "      <td>Central</td>\n",
       "      <td>Science</td>\n",
       "      <td>60.00</td>\n",
       "      <td>Comm&amp;Mgmt</td>\n",
       "      <td>No</td>\n",
       "      <td>97.00</td>\n",
       "      <td>Mkt&amp;Fin</td>\n",
       "      <td>53.39</td>\n",
       "      <td>Not Placed</td>\n",
       "      <td>0.0</td>\n",
       "    </tr>\n",
       "    <tr>\n",
       "      <th>24</th>\n",
       "      <td>M</td>\n",
       "      <td>76.50</td>\n",
       "      <td>Others</td>\n",
       "      <td>97.70</td>\n",
       "      <td>Others</td>\n",
       "      <td>Science</td>\n",
       "      <td>78.86</td>\n",
       "      <td>Sci&amp;Tech</td>\n",
       "      <td>No</td>\n",
       "      <td>97.40</td>\n",
       "      <td>Mkt&amp;Fin</td>\n",
       "      <td>74.01</td>\n",
       "      <td>Placed</td>\n",
       "      <td>360000.0</td>\n",
       "    </tr>\n",
       "    <tr>\n",
       "      <th>134</th>\n",
       "      <td>F</td>\n",
       "      <td>77.44</td>\n",
       "      <td>Central</td>\n",
       "      <td>92.00</td>\n",
       "      <td>Others</td>\n",
       "      <td>Commerce</td>\n",
       "      <td>72.00</td>\n",
       "      <td>Comm&amp;Mgmt</td>\n",
       "      <td>Yes</td>\n",
       "      <td>94.00</td>\n",
       "      <td>Mkt&amp;Fin</td>\n",
       "      <td>67.13</td>\n",
       "      <td>Placed</td>\n",
       "      <td>250000.0</td>\n",
       "    </tr>\n",
       "    <tr>\n",
       "      <th>177</th>\n",
       "      <td>F</td>\n",
       "      <td>73.00</td>\n",
       "      <td>Central</td>\n",
       "      <td>97.00</td>\n",
       "      <td>Others</td>\n",
       "      <td>Commerce</td>\n",
       "      <td>79.00</td>\n",
       "      <td>Comm&amp;Mgmt</td>\n",
       "      <td>Yes</td>\n",
       "      <td>89.00</td>\n",
       "      <td>Mkt&amp;Fin</td>\n",
       "      <td>70.81</td>\n",
       "      <td>Placed</td>\n",
       "      <td>650000.0</td>\n",
       "    </tr>\n",
       "  </tbody>\n",
       "</table>\n",
       "</div>"
      ],
      "text/plain": [
       "    gender  ssc_p    ssc_b  hsc_p    hsc_b     hsc_s  degree_p   degree_t  \\\n",
       "42       M  49.00   Others  39.00  Central   Science     65.00     Others   \n",
       "49       F  50.00   Others  37.00   Others      Arts     52.00     Others   \n",
       "120      M  58.00   Others  40.00   Others   Science     59.00  Comm&Mgmt   \n",
       "169      M  59.96   Others  42.16   Others   Science     61.26   Sci&Tech   \n",
       "206      M  41.00  Central  42.00  Central   Science     60.00  Comm&Mgmt   \n",
       "24       M  76.50   Others  97.70   Others   Science     78.86   Sci&Tech   \n",
       "134      F  77.44  Central  92.00   Others  Commerce     72.00  Comm&Mgmt   \n",
       "177      F  73.00  Central  97.00   Others  Commerce     79.00  Comm&Mgmt   \n",
       "\n",
       "    workex  etest_p    mba_t  mba_p      status    salary  \n",
       "42      No    63.00  Mkt&Fin  51.21  Not Placed       0.0  \n",
       "49      No    65.00   Mkt&HR  56.11  Not Placed       0.0  \n",
       "120     No    73.00   Mkt&HR  58.81  Not Placed       0.0  \n",
       "169     No    54.48   Mkt&HR  65.48  Not Placed       0.0  \n",
       "206     No    97.00  Mkt&Fin  53.39  Not Placed       0.0  \n",
       "24      No    97.40  Mkt&Fin  74.01      Placed  360000.0  \n",
       "134    Yes    94.00  Mkt&Fin  67.13      Placed  250000.0  \n",
       "177    Yes    89.00  Mkt&Fin  70.81      Placed  650000.0  "
      ]
     },
     "execution_count": 31,
     "metadata": {},
     "output_type": "execute_result"
    }
   ],
   "source": [
    "lst = sorted(data['hsc_p'])                            #taking a list of sorted values of that column\n",
    "    \n",
    "quantile1, quantile3 = np.percentile(lst,[25,75])         #obtaining 25th and 75th percentile\n",
    "iqr_value = quantile3 - quantile1                         #finding inter-quartile value(difference)\n",
    "\n",
    "#obtaining lower bound and upper bound\n",
    "lower_bound_val = quantile1 - (1.5 * iqr_value)\n",
    "upper_bound_val = quantile3 + (1.5 * iqr_value)\n",
    "\n",
    "#print(lower_bound_val,upper_bound_val)\n",
    "\n",
    "df1 = data[data['hsc_p'] < lower_bound_val]\n",
    "df2 = data[data['hsc_p'] > upper_bound_val]\n",
    "df = pd.concat([df1, df2])\n",
    "df"
   ]
  },
  {
   "cell_type": "markdown",
   "id": "3dd9941f",
   "metadata": {},
   "source": [
    "- Observing ths table with respect to the status, \n",
    "    > Students below the **lower bound are not placed** and **above the upper bound are placed**"
   ]
  },
  {
   "cell_type": "markdown",
   "id": "2e6ab7e8",
   "metadata": {},
   "source": [
    "### hsc_b(12th board)"
   ]
  },
  {
   "cell_type": "code",
   "execution_count": 32,
   "id": "1244a816",
   "metadata": {},
   "outputs": [
    {
     "name": "stdout",
     "output_type": "stream",
     "text": [
      "hsc_b\n",
      "Others     131\n",
      "Central     84\n",
      "Name: hsc_b, dtype: int64\n",
      "\n"
     ]
    }
   ],
   "source": [
    "valueCounts(['hsc_b'])"
   ]
  },
  {
   "cell_type": "code",
   "execution_count": 33,
   "id": "bf388608",
   "metadata": {},
   "outputs": [
    {
     "data": {
      "image/png": "[encoded data removed]",
      "text/plain": [
       "<Figure size 432x288 with 1 Axes>"
      ]
     },
     "metadata": {
      "needs_background": "light"
     },
     "output_type": "display_data"
    }
   ],
   "source": [
    "fig, ax = plt.subplots()\n",
    "\n",
    "ax. spines[\"right\"].set_visible(False)\n",
    "ax. spines[\"top\"].set_visible(False)\n",
    "ax. spines[\"bottom\"].set_visible(False)\n",
    "\n",
    "width = 0.5\n",
    "x = data['hsc_b'].value_counts().index\n",
    "y = data['hsc_b'].value_counts().values\n",
    " \n",
    "ax.barh(x, y, width, color = \"darkorange\")\n",
    " \n",
    "for i, v in enumerate(y):\n",
    "    ax.text(v + 3, i + .005, str(v),\n",
    "            color = 'dimgray', fontweight = 'bold')\n",
    "plt.show()"
   ]
  },
  {
   "cell_type": "markdown",
   "id": "093d39ce",
   "metadata": {},
   "source": [
    "### hsc_s(12th branch)"
   ]
  },
  {
   "cell_type": "code",
   "execution_count": 34,
   "id": "b82702d0",
   "metadata": {},
   "outputs": [
    {
     "name": "stdout",
     "output_type": "stream",
     "text": [
      "hsc_s\n",
      "Commerce    113\n",
      "Science      91\n",
      "Arts         11\n",
      "Name: hsc_s, dtype: int64\n",
      "\n"
     ]
    }
   ],
   "source": [
    "valueCounts(['hsc_s'])"
   ]
  },
  {
   "cell_type": "code",
   "execution_count": 35,
   "id": "514f290d",
   "metadata": {},
   "outputs": [
    {
     "data": {
      "image/png": "[encoded data removed]",
      "text/plain": [
       "<Figure size 432x288 with 1 Axes>"
      ]
     },
     "metadata": {
      "needs_background": "light"
     },
     "output_type": "display_data"
    }
   ],
   "source": [
    "fig, ax = plt.subplots()\n",
    "\n",
    "ax. spines[\"right\"].set_visible(False)\n",
    "ax. spines[\"top\"].set_visible(False)\n",
    "ax. spines[\"bottom\"].set_visible(False)\n",
    "\n",
    "width = 0.5\n",
    "x = data['hsc_s'].value_counts().index\n",
    "y = data['hsc_s'].value_counts().values\n",
    " \n",
    "ax.barh(x, y, width, color = \"darkorange\")\n",
    " \n",
    "for i, v in enumerate(y):\n",
    "    ax.text(v + 3, i + .005, str(v),\n",
    "            color = 'dimgray', fontweight = 'bold')\n",
    "plt.show()"
   ]
  },
  {
   "cell_type": "markdown",
   "id": "95d0cd77",
   "metadata": {},
   "source": [
    "### degree_p(underGraduate degree percentage)"
   ]
  },
  {
   "cell_type": "code",
   "execution_count": 36,
   "id": "f53cad97",
   "metadata": {},
   "outputs": [
    {
     "data": {
      "image/png": "[encoded data removed]",
      "text/plain": [
       "<Figure size 1080x288 with 2 Axes>"
      ]
     },
     "metadata": {
      "needs_background": "light"
     },
     "output_type": "display_data"
    }
   ],
   "source": [
    "x = data.degree_p.values\n",
    "fig, axes = plt.subplots(ncols=2, figsize=(15, 4))\n",
    "for ax in axes:\n",
    "    sns.kdeplot(x, shade=False, color='darkorange', ax=ax)\n",
    "    kdeline = ax.lines[0]\n",
    "    xs = kdeline.get_xdata()\n",
    "    ys = kdeline.get_ydata()\n",
    "    if ax == axes[0]:\n",
    "        middle = x.mean()\n",
    "        sdev = x.std()\n",
    "        left = middle - sdev\n",
    "        right = middle + sdev\n",
    "        ax.set_title('Showing mean and std_dev')\n",
    "    else:\n",
    "        left, middle, right = np.percentile(x, [25, 50, 75])\n",
    "        ax.set_title('Showing median and quartiles')\n",
    "    ax.vlines(middle, 0, np.interp(middle, xs, ys), color='darkorange', ls=':')\n",
    "    center_value = (((max(data.degree_p) - min(data.degree_p))/2)+min(data.degree_p))\n",
    "    ax.vlines(center_value, 0, np.interp(center_value, xs, ys), color='dimgray', ls='-')\n",
    "    ax.fill_between(xs, 0, ys, facecolor='darkorange', alpha=0.2)\n",
    "    ax.fill_between(xs, 0, ys, where=(left <= xs) & (xs <= right), interpolate=True, facecolor='darkorange', alpha=0.2)\n",
    "    # ax.set_ylim(ymin=0)\n",
    "plt.show()"
   ]
  },
  {
   "cell_type": "markdown",
   "id": "fad0423b",
   "metadata": {},
   "source": [
    "By seeing both the graphs, the gray line, which points the center point of the number line(x-axis) has shifted towards the right.\n",
    "- In other words the graph has shifted towards the left, which is because of the occupancy of values from 89 to 100 by the flat tail of the graph  \n",
    "\n",
    "For instance, if the tail was'nt there, then the graph would have been symmetric and the center value(gray line) would been at the peak.\n",
    "<br><br/>\n",
    "Conclusively, it can be stated that,\n",
    "> #### The values at the end might be an outlier(entry made by mistake) or the students might be inteligent to lie out of the box."
   ]
  },
  {
   "cell_type": "markdown",
   "id": "34217eb6",
   "metadata": {},
   "source": [
    "There are certain inferences that are directing the graph to be in normal distribution.\n",
    "- Mean and Median are so close.\n",
    "- Median almost touches the peak. and, \n",
    "- The area around the 1st quartile region and 3rd quartile region seem to equal."
   ]
  },
  {
   "cell_type": "markdown",
   "id": "438acdff",
   "metadata": {},
   "source": [
    "Also, we should concentrate on the sharp peak that the graph produces."
   ]
  },
  {
   "cell_type": "code",
   "execution_count": 37,
   "id": "8d244834",
   "metadata": {},
   "outputs": [
    {
     "name": "stderr",
     "output_type": "stream",
     "text": [
      "e:\\virtualenv\\lib\\site-packages\\seaborn\\distributions.py:2619: FutureWarning: `distplot` is a deprecated function and will be removed in a future version. Please adapt your code to use either `displot` (a figure-level function with similar flexibility) or `histplot` (an axes-level function for histograms).\n",
      "  warnings.warn(msg, FutureWarning)\n"
     ]
    },
    {
     "data": {
      "text/plain": [
       "<AxesSubplot:xlabel='degree_p', ylabel='Density'>"
      ]
     },
     "execution_count": 37,
     "metadata": {},
     "output_type": "execute_result"
    },
    {
     "data": {
      "image/png": "[encoded data removed]",
      "text/plain": [
       "<Figure size 432x288 with 1 Axes>"
      ]
     },
     "metadata": {
      "needs_background": "light"
     },
     "output_type": "display_data"
    }
   ],
   "source": [
    "sns.distplot(data.degree_p, hist=True, bins = 20, color = 'darkorange')"
   ]
  },
  {
   "cell_type": "markdown",
   "id": "f29e1907",
   "metadata": {},
   "source": [
    "The reason for the sharp peak can be justified with this graph\n",
    "- The values around 65 in ```degree_p``` are solely responsible for the sharp peak"
   ]
  },
  {
   "cell_type": "markdown",
   "id": "5a120752",
   "metadata": {},
   "source": [
    "Also,"
   ]
  },
  {
   "cell_type": "markdown",
   "id": "c734088b",
   "metadata": {},
   "source": [
    "The assumed presence of outlier can be confirmed here with the graph\n",
    "- We're able to see a small spike at 90 in ```degree_p```, which is the reason for the long tail"
   ]
  },
  {
   "cell_type": "markdown",
   "id": "a410e366",
   "metadata": {},
   "source": [
    "and finally, "
   ]
  },
  {
   "cell_type": "markdown",
   "id": "e2027c0e",
   "metadata": {},
   "source": [
    "We, can also see that, the graph starts growing only from the score of 50%\n",
    "- This can be because of the pass score set by the undergraduate university. That is, those who scored below 50% are considered to not have completed their degree yet."
   ]
  },
  {
   "cell_type": "markdown",
   "id": "adddc02d",
   "metadata": {},
   "source": [
    "*A subtle note here*\n",
    "- *the graph has a small minor bump both before the peak and after the peak*\n",
    "- *There is possibility that this could be differenciated with groups*"
   ]
  },
  {
   "cell_type": "code",
   "execution_count": 38,
   "id": "b1e57787",
   "metadata": {},
   "outputs": [
    {
     "data": {
      "text/html": [
       "<div>\n",
       "<style scoped>\n",
       "    .dataframe tbody tr th:only-of-type {\n",
       "        vertical-align: middle;\n",
       "    }\n",
       "\n",
       "    .dataframe tbody tr th {\n",
       "        vertical-align: top;\n",
       "    }\n",
       "\n",
       "    .dataframe thead th {\n",
       "        text-align: right;\n",
       "    }\n",
       "</style>\n",
       "<table border=\"1\" class=\"dataframe\">\n",
       "  <thead>\n",
       "    <tr style=\"text-align: right;\">\n",
       "      <th></th>\n",
       "      <th>gender</th>\n",
       "      <th>ssc_p</th>\n",
       "      <th>ssc_b</th>\n",
       "      <th>hsc_p</th>\n",
       "      <th>hsc_b</th>\n",
       "      <th>hsc_s</th>\n",
       "      <th>degree_p</th>\n",
       "      <th>degree_t</th>\n",
       "      <th>workex</th>\n",
       "      <th>etest_p</th>\n",
       "      <th>mba_t</th>\n",
       "      <th>mba_p</th>\n",
       "      <th>status</th>\n",
       "      <th>salary</th>\n",
       "    </tr>\n",
       "  </thead>\n",
       "  <tbody>\n",
       "    <tr>\n",
       "      <th>197</th>\n",
       "      <td>F</td>\n",
       "      <td>83.96</td>\n",
       "      <td>Others</td>\n",
       "      <td>53.0</td>\n",
       "      <td>Others</td>\n",
       "      <td>Science</td>\n",
       "      <td>91.0</td>\n",
       "      <td>Sci&amp;Tech</td>\n",
       "      <td>No</td>\n",
       "      <td>59.32</td>\n",
       "      <td>Mkt&amp;HR</td>\n",
       "      <td>69.71</td>\n",
       "      <td>Placed</td>\n",
       "      <td>260000.0</td>\n",
       "    </tr>\n",
       "  </tbody>\n",
       "</table>\n",
       "</div>"
      ],
      "text/plain": [
       "    gender  ssc_p   ssc_b  hsc_p   hsc_b    hsc_s  degree_p  degree_t workex  \\\n",
       "197      F  83.96  Others   53.0  Others  Science      91.0  Sci&Tech     No   \n",
       "\n",
       "     etest_p   mba_t  mba_p  status    salary  \n",
       "197    59.32  Mkt&HR  69.71  Placed  260000.0  "
      ]
     },
     "execution_count": 38,
     "metadata": {},
     "output_type": "execute_result"
    }
   ],
   "source": [
    "data[data['degree_p']>85]"
   ]
  },
  {
   "cell_type": "markdown",
   "id": "d0e7c08f",
   "metadata": {},
   "source": [
    "Let's have a note at this record, being a credible outlier or a mistake entry."
   ]
  },
  {
   "cell_type": "code",
   "execution_count": 39,
   "id": "a16722a7",
   "metadata": {},
   "outputs": [
    {
     "name": "stderr",
     "output_type": "stream",
     "text": [
      "e:\\virtualenv\\lib\\site-packages\\seaborn\\distributions.py:2619: FutureWarning: `distplot` is a deprecated function and will be removed in a future version. Please adapt your code to use either `displot` (a figure-level function with similar flexibility) or `histplot` (an axes-level function for histograms).\n",
      "  warnings.warn(msg, FutureWarning)\n"
     ]
    },
    {
     "data": {
      "text/plain": [
       "<AxesSubplot:xlabel='degree_p', ylabel='Density'>"
      ]
     },
     "execution_count": 39,
     "metadata": {},
     "output_type": "execute_result"
    },
    {
     "data": {
      "image/png": "[encoded data removed]",
      "text/plain": [
       "<Figure size 576x360 with 1 Axes>"
      ]
     },
     "metadata": {
      "needs_background": "light"
     },
     "output_type": "display_data"
    }
   ],
   "source": [
    "plt.figure(figsize=(8, 5))\n",
    "plt.axvline(x=63.5, ymin=0.0, ymax=0.8, ls='dotted', color='maroon', label='Central',linewidth = 1.5)\n",
    "plt.axvline(x=67, ymin=0.0, ymax=0.8, ls='dotted', color='maroon', label='Central',linewidth = 1.5)\n",
    "sns.distplot(data.degree_p, hist=True, bins = 60, color = 'darkorange')"
   ]
  },
  {
   "cell_type": "markdown",
   "id": "03428cd0",
   "metadata": {},
   "source": [
    "Finally we got the limits of the peak"
   ]
  },
  {
   "cell_type": "code",
   "execution_count": 40,
   "id": "3144eb6c",
   "metadata": {},
   "outputs": [
    {
     "data": {
      "text/html": [
       "<div>\n",
       "<style scoped>\n",
       "    .dataframe tbody tr th:only-of-type {\n",
       "        vertical-align: middle;\n",
       "    }\n",
       "\n",
       "    .dataframe tbody tr th {\n",
       "        vertical-align: top;\n",
       "    }\n",
       "\n",
       "    .dataframe thead th {\n",
       "        text-align: right;\n",
       "    }\n",
       "</style>\n",
       "<table border=\"1\" class=\"dataframe\">\n",
       "  <thead>\n",
       "    <tr style=\"text-align: right;\">\n",
       "      <th></th>\n",
       "      <th>gender</th>\n",
       "      <th>ssc_p</th>\n",
       "      <th>ssc_b</th>\n",
       "      <th>hsc_p</th>\n",
       "      <th>hsc_b</th>\n",
       "      <th>hsc_s</th>\n",
       "      <th>degree_p</th>\n",
       "      <th>degree_t</th>\n",
       "      <th>workex</th>\n",
       "      <th>etest_p</th>\n",
       "      <th>mba_t</th>\n",
       "      <th>mba_p</th>\n",
       "      <th>status</th>\n",
       "      <th>salary</th>\n",
       "    </tr>\n",
       "  </thead>\n",
       "  <tbody>\n",
       "    <tr>\n",
       "      <th>2</th>\n",
       "      <td>M</td>\n",
       "      <td>65.0</td>\n",
       "      <td>Central</td>\n",
       "      <td>68.0</td>\n",
       "      <td>Central</td>\n",
       "      <td>Arts</td>\n",
       "      <td>64.0</td>\n",
       "      <td>Comm&amp;Mgmt</td>\n",
       "      <td>No</td>\n",
       "      <td>75.00</td>\n",
       "      <td>Mkt&amp;Fin</td>\n",
       "      <td>57.80</td>\n",
       "      <td>Placed</td>\n",
       "      <td>250000.0</td>\n",
       "    </tr>\n",
       "    <tr>\n",
       "      <th>7</th>\n",
       "      <td>M</td>\n",
       "      <td>82.0</td>\n",
       "      <td>Central</td>\n",
       "      <td>64.0</td>\n",
       "      <td>Central</td>\n",
       "      <td>Science</td>\n",
       "      <td>66.0</td>\n",
       "      <td>Sci&amp;Tech</td>\n",
       "      <td>Yes</td>\n",
       "      <td>67.00</td>\n",
       "      <td>Mkt&amp;Fin</td>\n",
       "      <td>62.14</td>\n",
       "      <td>Placed</td>\n",
       "      <td>252000.0</td>\n",
       "    </tr>\n",
       "    <tr>\n",
       "      <th>12</th>\n",
       "      <td>F</td>\n",
       "      <td>47.0</td>\n",
       "      <td>Central</td>\n",
       "      <td>55.0</td>\n",
       "      <td>Others</td>\n",
       "      <td>Science</td>\n",
       "      <td>65.0</td>\n",
       "      <td>Comm&amp;Mgmt</td>\n",
       "      <td>No</td>\n",
       "      <td>62.00</td>\n",
       "      <td>Mkt&amp;HR</td>\n",
       "      <td>65.04</td>\n",
       "      <td>Not Placed</td>\n",
       "      <td>0.0</td>\n",
       "    </tr>\n",
       "    <tr>\n",
       "      <th>16</th>\n",
       "      <td>M</td>\n",
       "      <td>63.0</td>\n",
       "      <td>Central</td>\n",
       "      <td>66.2</td>\n",
       "      <td>Central</td>\n",
       "      <td>Commerce</td>\n",
       "      <td>65.6</td>\n",
       "      <td>Comm&amp;Mgmt</td>\n",
       "      <td>Yes</td>\n",
       "      <td>60.00</td>\n",
       "      <td>Mkt&amp;Fin</td>\n",
       "      <td>62.54</td>\n",
       "      <td>Placed</td>\n",
       "      <td>300000.0</td>\n",
       "    </tr>\n",
       "    <tr>\n",
       "      <th>17</th>\n",
       "      <td>F</td>\n",
       "      <td>55.0</td>\n",
       "      <td>Central</td>\n",
       "      <td>67.0</td>\n",
       "      <td>Central</td>\n",
       "      <td>Commerce</td>\n",
       "      <td>64.0</td>\n",
       "      <td>Comm&amp;Mgmt</td>\n",
       "      <td>No</td>\n",
       "      <td>60.00</td>\n",
       "      <td>Mkt&amp;Fin</td>\n",
       "      <td>67.28</td>\n",
       "      <td>Not Placed</td>\n",
       "      <td>0.0</td>\n",
       "    </tr>\n",
       "    <tr>\n",
       "      <th>...</th>\n",
       "      <td>...</td>\n",
       "      <td>...</td>\n",
       "      <td>...</td>\n",
       "      <td>...</td>\n",
       "      <td>...</td>\n",
       "      <td>...</td>\n",
       "      <td>...</td>\n",
       "      <td>...</td>\n",
       "      <td>...</td>\n",
       "      <td>...</td>\n",
       "      <td>...</td>\n",
       "      <td>...</td>\n",
       "      <td>...</td>\n",
       "      <td>...</td>\n",
       "    </tr>\n",
       "    <tr>\n",
       "      <th>200</th>\n",
       "      <td>M</td>\n",
       "      <td>69.0</td>\n",
       "      <td>Others</td>\n",
       "      <td>60.0</td>\n",
       "      <td>Others</td>\n",
       "      <td>Commerce</td>\n",
       "      <td>65.0</td>\n",
       "      <td>Comm&amp;Mgmt</td>\n",
       "      <td>No</td>\n",
       "      <td>87.55</td>\n",
       "      <td>Mkt&amp;Fin</td>\n",
       "      <td>52.81</td>\n",
       "      <td>Placed</td>\n",
       "      <td>300000.0</td>\n",
       "    </tr>\n",
       "    <tr>\n",
       "      <th>202</th>\n",
       "      <td>M</td>\n",
       "      <td>70.0</td>\n",
       "      <td>Central</td>\n",
       "      <td>63.0</td>\n",
       "      <td>Central</td>\n",
       "      <td>Science</td>\n",
       "      <td>66.0</td>\n",
       "      <td>Sci&amp;Tech</td>\n",
       "      <td>No</td>\n",
       "      <td>61.28</td>\n",
       "      <td>Mkt&amp;HR</td>\n",
       "      <td>60.11</td>\n",
       "      <td>Placed</td>\n",
       "      <td>240000.0</td>\n",
       "    </tr>\n",
       "    <tr>\n",
       "      <th>205</th>\n",
       "      <td>M</td>\n",
       "      <td>61.0</td>\n",
       "      <td>Others</td>\n",
       "      <td>62.0</td>\n",
       "      <td>Others</td>\n",
       "      <td>Commerce</td>\n",
       "      <td>65.0</td>\n",
       "      <td>Comm&amp;Mgmt</td>\n",
       "      <td>No</td>\n",
       "      <td>62.00</td>\n",
       "      <td>Mkt&amp;Fin</td>\n",
       "      <td>56.81</td>\n",
       "      <td>Placed</td>\n",
       "      <td>250000.0</td>\n",
       "    </tr>\n",
       "    <tr>\n",
       "      <th>208</th>\n",
       "      <td>F</td>\n",
       "      <td>43.0</td>\n",
       "      <td>Central</td>\n",
       "      <td>60.0</td>\n",
       "      <td>Others</td>\n",
       "      <td>Science</td>\n",
       "      <td>65.0</td>\n",
       "      <td>Comm&amp;Mgmt</td>\n",
       "      <td>No</td>\n",
       "      <td>92.66</td>\n",
       "      <td>Mkt&amp;HR</td>\n",
       "      <td>62.92</td>\n",
       "      <td>Not Placed</td>\n",
       "      <td>0.0</td>\n",
       "    </tr>\n",
       "    <tr>\n",
       "      <th>209</th>\n",
       "      <td>M</td>\n",
       "      <td>62.0</td>\n",
       "      <td>Central</td>\n",
       "      <td>72.0</td>\n",
       "      <td>Central</td>\n",
       "      <td>Commerce</td>\n",
       "      <td>65.0</td>\n",
       "      <td>Comm&amp;Mgmt</td>\n",
       "      <td>No</td>\n",
       "      <td>67.00</td>\n",
       "      <td>Mkt&amp;Fin</td>\n",
       "      <td>56.49</td>\n",
       "      <td>Placed</td>\n",
       "      <td>216000.0</td>\n",
       "    </tr>\n",
       "  </tbody>\n",
       "</table>\n",
       "<p>65 rows × 14 columns</p>\n",
       "</div>"
      ],
      "text/plain": [
       "    gender  ssc_p    ssc_b  hsc_p    hsc_b     hsc_s  degree_p   degree_t  \\\n",
       "2        M   65.0  Central   68.0  Central      Arts      64.0  Comm&Mgmt   \n",
       "7        M   82.0  Central   64.0  Central   Science      66.0   Sci&Tech   \n",
       "12       F   47.0  Central   55.0   Others   Science      65.0  Comm&Mgmt   \n",
       "16       M   63.0  Central   66.2  Central  Commerce      65.6  Comm&Mgmt   \n",
       "17       F   55.0  Central   67.0  Central  Commerce      64.0  Comm&Mgmt   \n",
       "..     ...    ...      ...    ...      ...       ...       ...        ...   \n",
       "200      M   69.0   Others   60.0   Others  Commerce      65.0  Comm&Mgmt   \n",
       "202      M   70.0  Central   63.0  Central   Science      66.0   Sci&Tech   \n",
       "205      M   61.0   Others   62.0   Others  Commerce      65.0  Comm&Mgmt   \n",
       "208      F   43.0  Central   60.0   Others   Science      65.0  Comm&Mgmt   \n",
       "209      M   62.0  Central   72.0  Central  Commerce      65.0  Comm&Mgmt   \n",
       "\n",
       "    workex  etest_p    mba_t  mba_p      status    salary  \n",
       "2       No    75.00  Mkt&Fin  57.80      Placed  250000.0  \n",
       "7      Yes    67.00  Mkt&Fin  62.14      Placed  252000.0  \n",
       "12      No    62.00   Mkt&HR  65.04  Not Placed       0.0  \n",
       "16     Yes    60.00  Mkt&Fin  62.54      Placed  300000.0  \n",
       "17      No    60.00  Mkt&Fin  67.28  Not Placed       0.0  \n",
       "..     ...      ...      ...    ...         ...       ...  \n",
       "200     No    87.55  Mkt&Fin  52.81      Placed  300000.0  \n",
       "202     No    61.28   Mkt&HR  60.11      Placed  240000.0  \n",
       "205     No    62.00  Mkt&Fin  56.81      Placed  250000.0  \n",
       "208     No    92.66   Mkt&HR  62.92  Not Placed       0.0  \n",
       "209     No    67.00  Mkt&Fin  56.49      Placed  216000.0  \n",
       "\n",
       "[65 rows x 14 columns]"
      ]
     },
     "execution_count": 40,
     "metadata": {},
     "output_type": "execute_result"
    }
   ],
   "source": [
    "df1 = data[data['degree_p'] <= 67]\n",
    "df2 = df1[df1['degree_p'] >= 63]\n",
    "df2"
   ]
  },
  {
   "cell_type": "code",
   "execution_count": 41,
   "id": "ac4cfb4b",
   "metadata": {},
   "outputs": [
    {
     "data": {
      "text/plain": [
       "30.232558139534884"
      ]
     },
     "execution_count": 41,
     "metadata": {},
     "output_type": "execute_result"
    }
   ],
   "source": [
    "(65*100)/215"
   ]
  },
  {
   "cell_type": "markdown",
   "id": "1add7056",
   "metadata": {},
   "source": [
    "> Around **32%** of the records lie in the interval of 63 and 67(which is just a count of consecutive 4 integers out of 100).\n",
    "- This is the reason for the peak"
   ]
  },
  {
   "cell_type": "code",
   "execution_count": 42,
   "id": "9f196c4a",
   "metadata": {},
   "outputs": [
    {
     "data": {
      "text/plain": [
       "7.35874328733944"
      ]
     },
     "execution_count": 42,
     "metadata": {},
     "output_type": "execute_result"
    }
   ],
   "source": [
    "data.degree_p.std()"
   ]
  },
  {
   "cell_type": "code",
   "execution_count": 43,
   "id": "dab536c8",
   "metadata": {},
   "outputs": [
    {
     "data": {
      "text/plain": [
       "88.44641590852996"
      ]
     },
     "execution_count": 43,
     "metadata": {},
     "output_type": "execute_result"
    }
   ],
   "source": [
    "data.degree_p.mean() + 3* data.degree_p.std()"
   ]
  },
  {
   "cell_type": "markdown",
   "id": "01e04b25",
   "metadata": {},
   "source": [
    "The max obtained is 91 and the graph gets over by 88.44 as per standard deviation rules\n",
    "- which also drives the graph towards a normal distribution"
   ]
  },
  {
   "cell_type": "code",
   "execution_count": 44,
   "id": "396ec83b",
   "metadata": {},
   "outputs": [
    {
     "name": "stdout",
     "output_type": "stream",
     "text": [
      "min:           50.0\n",
      "max:           91.0\n",
      "center value:  70.5\n",
      "mean:          66.37018604651163\n",
      "median:        66.0\n",
      "mode:        0    65.0\n",
      "dtype: float64\n"
     ]
    }
   ],
   "source": [
    "print('min:          ',min(data.degree_p))\n",
    "print('max:          ',max(data.degree_p))\n",
    "print('center value: ',(((max(data.degree_p) - min(data.degree_p))/2)+min(data.degree_p)))\n",
    "print('mean:         ', data.degree_p.mean())\n",
    "print('median:       ',data.degree_p.median())\n",
    "print('mode:       ',data.degree_p.mode())"
   ]
  },
  {
   "cell_type": "markdown",
   "id": "e124d140",
   "metadata": {},
   "source": [
    "Here are two justifications that can be made with respect to the earlier statements\n",
    "- The minimum score is 50\n",
    "- mean and median are so close"
   ]
  },
  {
   "cell_type": "code",
   "execution_count": 45,
   "id": "9027eac5",
   "metadata": {},
   "outputs": [
    {
     "name": "stdout",
     "output_type": "stream",
     "text": [
      "skewedness =  0.24\n",
      "kurtosis =  3.02\n"
     ]
    }
   ],
   "source": [
    "print('skewedness = ',round(skew(data.degree_p.values, axis=0, bias=True),2))\n",
    "print('kurtosis = ', round(kurtosis(data.degree_p.values, fisher=False),2))"
   ]
  },
  {
   "cell_type": "markdown",
   "id": "cee6db4b",
   "metadata": {},
   "source": [
    "#### Norms for normal distribution\n",
    "- skewedness = 0\n",
    "- kurtosis = 3\n",
    "\n",
    "#### Our graph result\n",
    "- As 0.24 > 0, left skewed\n",
    "- as 3.02 >= 3, slight sharp peak and thin tails"
   ]
  },
  {
   "cell_type": "code",
   "execution_count": 46,
   "id": "ba02778f",
   "metadata": {},
   "outputs": [
    {
     "name": "stderr",
     "output_type": "stream",
     "text": [
      "e:\\virtualenv\\lib\\site-packages\\seaborn\\_decorators.py:36: FutureWarning: Pass the following variable as a keyword arg: x. From version 0.12, the only valid positional argument will be `data`, and passing other arguments without an explicit keyword will result in an error or misinterpretation.\n",
      "  warnings.warn(\n"
     ]
    },
    {
     "data": {
      "text/plain": [
       "<AxesSubplot:xlabel='degree_p'>"
      ]
     },
     "execution_count": 46,
     "metadata": {},
     "output_type": "execute_result"
    },
    {
     "data": {
      "image/png": "[encoded data removed]",
      "text/plain": [
       "<Figure size 432x288 with 1 Axes>"
      ]
     },
     "metadata": {
      "needs_background": "light"
     },
     "output_type": "display_data"
    }
   ],
   "source": [
    "sns.boxplot(data.degree_p,color = 'orange', saturation = 1)"
   ]
  },
  {
   "cell_type": "markdown",
   "id": "32694e6b",
   "metadata": {},
   "source": [
    "Like we assumed earlier, the entry(91%) made might be an outlier or a brillient student"
   ]
  },
  {
   "cell_type": "markdown",
   "id": "8851c9fa",
   "metadata": {},
   "source": [
    "### degree_t(underGraduate degree title)"
   ]
  },
  {
   "cell_type": "code",
   "execution_count": 47,
   "id": "c5171e2f",
   "metadata": {},
   "outputs": [
    {
     "name": "stdout",
     "output_type": "stream",
     "text": [
      "degree_t\n",
      "Comm&Mgmt    145\n",
      "Sci&Tech      59\n",
      "Others        11\n",
      "Name: degree_t, dtype: int64\n",
      "\n"
     ]
    }
   ],
   "source": [
    "valueCounts(['degree_t'])"
   ]
  },
  {
   "cell_type": "code",
   "execution_count": 48,
   "id": "9bbb77de",
   "metadata": {},
   "outputs": [
    {
     "data": {
      "image/png": "[encoded data removed]",
      "text/plain": [
       "<Figure size 432x288 with 1 Axes>"
      ]
     },
     "metadata": {
      "needs_background": "light"
     },
     "output_type": "display_data"
    }
   ],
   "source": [
    "fig, ax = plt.subplots()\n",
    "\n",
    "ax. spines[\"right\"].set_visible(False)\n",
    "ax. spines[\"top\"].set_visible(False)\n",
    "ax. spines[\"bottom\"].set_visible(False)\n",
    "\n",
    "width = 0.5\n",
    "x = data['degree_t'].value_counts().index\n",
    "y = data['degree_t'].value_counts().values\n",
    " \n",
    "ax.barh(x, y, width, color = \"darkorange\")\n",
    " \n",
    "for i, v in enumerate(y):\n",
    "    ax.text(v + 3, i + .005, str(v),\n",
    "            color = 'dimgray', fontweight = 'bold')\n",
    "plt.show()"
   ]
  },
  {
   "cell_type": "markdown",
   "id": "10244346",
   "metadata": {},
   "source": [
    "### workex(Work Experience)"
   ]
  },
  {
   "cell_type": "code",
   "execution_count": 49,
   "id": "c4a1b405",
   "metadata": {},
   "outputs": [
    {
     "name": "stdout",
     "output_type": "stream",
     "text": [
      "workex\n",
      "No     141\n",
      "Yes     74\n",
      "Name: workex, dtype: int64\n",
      "\n"
     ]
    }
   ],
   "source": [
    "valueCounts(['workex'])"
   ]
  },
  {
   "cell_type": "code",
   "execution_count": 50,
   "id": "04b47fca",
   "metadata": {},
   "outputs": [
    {
     "data": {
      "image/png": "[encoded data removed]",
      "text/plain": [
       "<Figure size 432x288 with 1 Axes>"
      ]
     },
     "metadata": {
      "needs_background": "light"
     },
     "output_type": "display_data"
    }
   ],
   "source": [
    "fig, ax = plt.subplots()\n",
    "\n",
    "ax. spines[\"right\"].set_visible(False)\n",
    "ax. spines[\"top\"].set_visible(False)\n",
    "ax. spines[\"bottom\"].set_visible(False)\n",
    "\n",
    "width = 0.5\n",
    "x = data['workex'].value_counts().index\n",
    "y = data['workex'].value_counts().values\n",
    " \n",
    "ax.barh(x, y, width, color = \"darkorange\")\n",
    " \n",
    "for i, v in enumerate(y):\n",
    "    ax.text(v + 3, i + .005, str(v),\n",
    "            color = 'dimgray', fontweight = 'bold')\n",
    "plt.show()"
   ]
  },
  {
   "cell_type": "markdown",
   "id": "b9a42bc1",
   "metadata": {},
   "source": [
    "### etest_p(Entrance Test)"
   ]
  },
  {
   "cell_type": "code",
   "execution_count": 51,
   "id": "4a9407e1",
   "metadata": {},
   "outputs": [
    {
     "data": {
      "image/png": "[encoded data removed]",
      "text/plain": [
       "<Figure size 1080x288 with 2 Axes>"
      ]
     },
     "metadata": {
      "needs_background": "light"
     },
     "output_type": "display_data"
    }
   ],
   "source": [
    "x = data.etest_p.values\n",
    "fig, axes = plt.subplots(ncols=2, figsize=(15, 4))\n",
    "for ax in axes:\n",
    "    sns.kdeplot(x, shade=False, color='darkorange', ax=ax)\n",
    "    kdeline = ax.lines[0]\n",
    "    xs = kdeline.get_xdata()\n",
    "    ys = kdeline.get_ydata()\n",
    "    if ax == axes[0]:\n",
    "        middle = x.mean()\n",
    "        sdev = x.std()\n",
    "        left = middle - sdev\n",
    "        right = middle + sdev\n",
    "        ax.set_title('Showing mean and std_dev')\n",
    "    else:\n",
    "        left, middle, right = np.percentile(x, [25, 50, 75])\n",
    "        ax.set_title('Showing median and quartiles')\n",
    "    ax.vlines(middle, 0, np.interp(middle, xs, ys), color='darkorange', ls=':')\n",
    "    center_value = (((max(data.etest_p) - min(data.etest_p))/2)+min(data.etest_p))\n",
    "    ax.vlines(center_value, 0, np.interp(center_value, xs, ys), color='dimgray', ls='-')\n",
    "    ax.fill_between(xs, 0, ys, facecolor='darkorange', alpha=0.2)\n",
    "    ax.fill_between(xs, 0, ys, where=(left <= xs) & (xs <= right), interpolate=True, facecolor='darkorange', alpha=0.2)\n",
    "    # ax.set_ylim(ymin=0)\n",
    "plt.show()"
   ]
  },
  {
   "cell_type": "markdown",
   "id": "a132fac5",
   "metadata": {},
   "source": [
    "By, seeing the chart, its obvious that this is not in normal distribution\n",
    "- The graph **spikes up around 50 and falls down after 95.** and, \n",
    "    - from 50 to 95 there is gradual declination \n",
    "- We also see, small **minor bumps after the peak, which might be because of some groups.**\n",
    "    - *we'll check them later*         \n",
    "\n",
    "Fortunately, the mean and median are close to each other.\n",
    "\n",
    "First graph: \n",
    "- The standard deviation seem to be high, such that 3 times the std goes beyond the graph after or before the mean. Which is clearly not a sign for it to be in normal distribution.           \n",
    "\n",
    "Second graph:\n",
    "- It seems that the group before the 2nd quartile(median) is large than the group after the median(2nd quartile)."
   ]
  },
  {
   "cell_type": "code",
   "execution_count": 52,
   "id": "3b18c2bc",
   "metadata": {},
   "outputs": [
    {
     "name": "stderr",
     "output_type": "stream",
     "text": [
      "e:\\virtualenv\\lib\\site-packages\\seaborn\\distributions.py:2619: FutureWarning: `distplot` is a deprecated function and will be removed in a future version. Please adapt your code to use either `displot` (a figure-level function with similar flexibility) or `histplot` (an axes-level function for histograms).\n",
      "  warnings.warn(msg, FutureWarning)\n"
     ]
    },
    {
     "data": {
      "text/plain": [
       "<AxesSubplot:xlabel='etest_p', ylabel='Density'>"
      ]
     },
     "execution_count": 52,
     "metadata": {},
     "output_type": "execute_result"
    },
    {
     "data": {
      "image/png": "[encoded data removed]",
      "text/plain": [
       "<Figure size 432x288 with 1 Axes>"
      ]
     },
     "metadata": {
      "needs_background": "light"
     },
     "output_type": "display_data"
    }
   ],
   "source": [
    "sns.distplot(data.etest_p, hist=True, bins = 20, color = 'darkorange')"
   ]
  },
  {
   "cell_type": "markdown",
   "id": "7d418f6e",
   "metadata": {},
   "source": [
    "From here, we can confirm that the entrance test scores strictly start from 50% only\n",
    "- This might be because of the MBA institute, which was giving admission to students based on cutoff(50%) of the entrance test.          \n",
    "\n",
    "Speaking about the difficulty of the test when compared to other exams(ssc, hsc, degree) that they have completed, this test seem to be the easiest among them.\n",
    "- This is because, The graph's relegation should have come to the end(100) smoothly, whereas it shows a sudden fall after ~98.\n",
    "    - Which means there are a lot of students who scored more than 80 or 90 percentage, who had almost a normal distribution graph for thier other exam scores.          \n",
    "    \n",
    "To conclude,      \n",
    "> - 50% percentage is the minimum cutoff set for the admissions for MBA\n",
    "> - The Entrance test is the easiest among other exams(ssc, hsc, degree) that they have taken earlier"
   ]
  },
  {
   "cell_type": "code",
   "execution_count": 53,
   "id": "2be74429",
   "metadata": {},
   "outputs": [
    {
     "name": "stdout",
     "output_type": "stream",
     "text": [
      "min:           50.0\n",
      "max:           98.0\n",
      "center value:  74.0\n",
      "mean:          72.10055813953488\n",
      "median:        71.0\n",
      "mode:        0    60.0\n",
      "dtype: float64\n"
     ]
    }
   ],
   "source": [
    "print('min:          ',min(data.etest_p))\n",
    "print('max:          ',max(data.etest_p))\n",
    "print('center value: ',(((max(data.etest_p) - min(data.etest_p))/2)+min(data.etest_p)))\n",
    "print('mean:         ', data.etest_p.mean())\n",
    "print('median:       ',data.etest_p.median())\n",
    "print('mode:       ',data.etest_p.mode())"
   ]
  },
  {
   "cell_type": "code",
   "execution_count": 54,
   "id": "3b17f816",
   "metadata": {},
   "outputs": [
    {
     "name": "stdout",
     "output_type": "stream",
     "text": [
      "skewedness =  0.28\n",
      "kurtosis =  1.91\n"
     ]
    }
   ],
   "source": [
    "print('skewedness = ',round(skew(data.etest_p.values, axis=0, bias=True),2))\n",
    "print('kurtosis = ', round(kurtosis(data.etest_p.values, fisher=False),2))"
   ]
  },
  {
   "cell_type": "markdown",
   "id": "03930d46",
   "metadata": {},
   "source": [
    "#### Norms for normal distribution\n",
    "- skewedness = 0\n",
    "- kurtosis = 3\n",
    "\n",
    "#### Our graph result\n",
    "- As 0.28 > 0, left skewed\n",
    "- as 1.91 << 3, very flat peak and thick tails"
   ]
  },
  {
   "cell_type": "code",
   "execution_count": 55,
   "id": "d2269c40",
   "metadata": {},
   "outputs": [
    {
     "name": "stderr",
     "output_type": "stream",
     "text": [
      "e:\\virtualenv\\lib\\site-packages\\seaborn\\_decorators.py:36: FutureWarning: Pass the following variable as a keyword arg: x. From version 0.12, the only valid positional argument will be `data`, and passing other arguments without an explicit keyword will result in an error or misinterpretation.\n",
      "  warnings.warn(\n"
     ]
    },
    {
     "data": {
      "text/plain": [
       "<AxesSubplot:xlabel='etest_p'>"
      ]
     },
     "execution_count": 55,
     "metadata": {},
     "output_type": "execute_result"
    },
    {
     "data": {
      "image/png": "[encoded data removed]",
      "text/plain": [
       "<Figure size 432x288 with 1 Axes>"
      ]
     },
     "metadata": {
      "needs_background": "light"
     },
     "output_type": "display_data"
    }
   ],
   "source": [
    "sns.boxplot(data.etest_p,color = 'orange', saturation = 1)"
   ]
  },
  {
   "cell_type": "markdown",
   "id": "447e4574",
   "metadata": {},
   "source": [
    "Fortunately, there are no outliers"
   ]
  },
  {
   "cell_type": "markdown",
   "id": "141d41b6",
   "metadata": {},
   "source": [
    "### mba_p(MBA degree percentage)"
   ]
  },
  {
   "cell_type": "code",
   "execution_count": 56,
   "id": "8b65d7e2",
   "metadata": {},
   "outputs": [
    {
     "data": {
      "image/png": "[encoded data removed]",
      "text/plain": [
       "<Figure size 1080x288 with 2 Axes>"
      ]
     },
     "metadata": {
      "needs_background": "light"
     },
     "output_type": "display_data"
    }
   ],
   "source": [
    "x = data.mba_p.values\n",
    "fig, axes = plt.subplots(ncols=2, figsize=(15, 4))\n",
    "for ax in axes:\n",
    "    sns.kdeplot(x, shade=False, color='darkorange', ax=ax)\n",
    "    kdeline = ax.lines[0]\n",
    "    xs = kdeline.get_xdata()\n",
    "    ys = kdeline.get_ydata()\n",
    "    if ax == axes[0]:\n",
    "        middle = x.mean()\n",
    "        sdev = x.std()\n",
    "        left = middle - sdev\n",
    "        right = middle + sdev\n",
    "        ax.set_title('Showing mean and std_dev')\n",
    "    else:\n",
    "        left, middle, right = np.percentile(x, [25, 50, 75])\n",
    "        ax.set_title('Showing median and quartiles')\n",
    "    ax.vlines(middle, 0, np.interp(middle, xs, ys), color='darkorange', ls=':')\n",
    "    center_value = (((max(data.mba_p) - min(data.mba_p))/2)+min(data.mba_p))\n",
    "    ax.vlines(center_value, 0, np.interp(center_value, xs, ys), color='dimgray', ls='-')\n",
    "    ax.fill_between(xs, 0, ys, facecolor='darkorange', alpha=0.2)\n",
    "    ax.fill_between(xs, 0, ys, where=(left <= xs) & (xs <= right), interpolate=True, facecolor='darkorange', alpha=0.2)\n",
    "    # ax.set_ylim(ymin=0)\n",
    "plt.show()"
   ]
  },
  {
   "cell_type": "markdown",
   "id": "764aafe2",
   "metadata": {},
   "source": [
    "First of all, the graph is so clear and seem to be in normal distribution\n",
    "- The center value(gray line) has well shifted towards the right, which means the graph is very well left shifted(skewed).       \n",
    "\n",
    "Observing both the graphs, we can make a general inference\n",
    "- The graph mostly starts at 50%, goes all the way to the peak at 60% and relegates smoothly and ends at 80%. which can be explained as,     \n",
    "\n",
    "    - **The postgraduate university might also have set the pass percentage as 50%** like undergraduate degree scores and entrance test scores. and, \n",
    "    - **This exam is expected to be the most difficult exams of a students education chronology** because, the graph almost ends before 80% itself, which means no student has crossed the score of ~80%.       \n",
    "    \n",
    "First graph:\n",
    "- The mean is almost pointing to the peak, which is a positive sign for the graph to be in normal distribution.\n",
    "- The standard deviation is also expected to be apt for the graph. we'll check the numerically too.         \n",
    "\n",
    "Second graph:\n",
    "- Both 2nd and 3rd quartile regions seem to be equal.      \n",
    "\n",
    "Both mean and median are close\n",
    "\n"
   ]
  },
  {
   "cell_type": "code",
   "execution_count": 57,
   "id": "c7343db7",
   "metadata": {},
   "outputs": [
    {
     "name": "stderr",
     "output_type": "stream",
     "text": [
      "e:\\virtualenv\\lib\\site-packages\\seaborn\\distributions.py:2619: FutureWarning: `distplot` is a deprecated function and will be removed in a future version. Please adapt your code to use either `displot` (a figure-level function with similar flexibility) or `histplot` (an axes-level function for histograms).\n",
      "  warnings.warn(msg, FutureWarning)\n"
     ]
    },
    {
     "data": {
      "text/plain": [
       "<AxesSubplot:xlabel='mba_p', ylabel='Density'>"
      ]
     },
     "execution_count": 57,
     "metadata": {},
     "output_type": "execute_result"
    },
    {
     "data": {
      "image/png": "[encoded data removed]",
      "text/plain": [
       "<Figure size 432x288 with 1 Axes>"
      ]
     },
     "metadata": {
      "needs_background": "light"
     },
     "output_type": "display_data"
    }
   ],
   "source": [
    "sns.distplot(data.mba_p, hist=True, bins = 20, color = 'darkorange')"
   ]
  },
  {
   "cell_type": "markdown",
   "id": "3415e792",
   "metadata": {},
   "source": [
    "The subjects which were uncertainly discussed, can be supported with evidence here,\n",
    "- The minimum value infact starts after 50% and the maximum ends before 80%"
   ]
  },
  {
   "cell_type": "code",
   "execution_count": 58,
   "id": "6f879680",
   "metadata": {},
   "outputs": [
    {
     "data": {
      "text/plain": [
       "5.833384580683801"
      ]
     },
     "execution_count": 58,
     "metadata": {},
     "output_type": "execute_result"
    }
   ],
   "source": [
    "data.mba_p.std()"
   ]
  },
  {
   "cell_type": "code",
   "execution_count": 59,
   "id": "2027ca64",
   "metadata": {},
   "outputs": [
    {
     "data": {
      "text/plain": [
       "79.77833978856304"
      ]
     },
     "execution_count": 59,
     "metadata": {},
     "output_type": "execute_result"
    }
   ],
   "source": [
    "data.mba_p.mean() + 3* data.mba_p.std()"
   ]
  },
  {
   "cell_type": "markdown",
   "id": "569a3759",
   "metadata": {},
   "source": [
    "The max obtained is 77.89 and the graph gets over by 79.77(as per standard deviation rules).\n",
    "- which gives a reason for the graph to be in normal distribution"
   ]
  },
  {
   "cell_type": "code",
   "execution_count": 60,
   "id": "8d1bd486",
   "metadata": {},
   "outputs": [
    {
     "name": "stdout",
     "output_type": "stream",
     "text": [
      "min:           51.21\n",
      "max:           77.89\n",
      "center value:  64.55\n",
      "mean:          62.278186046511635\n",
      "median:        62.0\n",
      "mode:        0    56.7\n",
      "dtype: float64\n"
     ]
    }
   ],
   "source": [
    "print('min:          ',min(data.mba_p))\n",
    "print('max:          ',max(data.mba_p))\n",
    "print('center value: ',(((max(data.mba_p) - min(data.mba_p))/2)+min(data.mba_p)))\n",
    "print('mean:         ', data.mba_p.mean())\n",
    "print('median:       ',data.mba_p.median())\n",
    "print('mode:       ',data.mba_p.mode())"
   ]
  },
  {
   "cell_type": "markdown",
   "id": "c21b76d8",
   "metadata": {},
   "source": [
    "- Mean and Median are close.\n",
    "- minimum and maximum are as expected."
   ]
  },
  {
   "cell_type": "code",
   "execution_count": 61,
   "id": "15130e70",
   "metadata": {},
   "outputs": [
    {
     "name": "stdout",
     "output_type": "stream",
     "text": [
      "skewedness =  0.31\n",
      "kurtosis =  2.51\n"
     ]
    }
   ],
   "source": [
    "print('skewedness = ',round(skew(data.mba_p.values, axis=0, bias=True),2))\n",
    "print('kurtosis = ', round(kurtosis(data.mba_p.values, fisher=False),2))"
   ]
  },
  {
   "cell_type": "markdown",
   "id": "9507b1d9",
   "metadata": {},
   "source": [
    "#### Norms for normal distribution\n",
    "- skewedness = 0\n",
    "- kurtosis = 3\n",
    "\n",
    "#### Our graph result\n",
    "- As 0.31 > 0, left skewed\n",
    "- as 2.51 < 3, slight flat peak and thick tails"
   ]
  },
  {
   "cell_type": "code",
   "execution_count": 62,
   "id": "2e59c0b5",
   "metadata": {},
   "outputs": [
    {
     "name": "stderr",
     "output_type": "stream",
     "text": [
      "e:\\virtualenv\\lib\\site-packages\\seaborn\\_decorators.py:36: FutureWarning: Pass the following variable as a keyword arg: x. From version 0.12, the only valid positional argument will be `data`, and passing other arguments without an explicit keyword will result in an error or misinterpretation.\n",
      "  warnings.warn(\n"
     ]
    },
    {
     "data": {
      "text/plain": [
       "<AxesSubplot:xlabel='mba_p'>"
      ]
     },
     "execution_count": 62,
     "metadata": {},
     "output_type": "execute_result"
    },
    {
     "data": {
      "image/png": "[encoded data removed]",
      "text/plain": [
       "<Figure size 432x288 with 1 Axes>"
      ]
     },
     "metadata": {
      "needs_background": "light"
     },
     "output_type": "display_data"
    }
   ],
   "source": [
    "sns.boxplot(data.mba_p,color = 'orange', saturation = 1)"
   ]
  },
  {
   "cell_type": "markdown",
   "id": "bafd88a1",
   "metadata": {},
   "source": [
    "There are no outliers."
   ]
  },
  {
   "cell_type": "markdown",
   "id": "c47d8903",
   "metadata": {},
   "source": [
    "### mba_t(MBA degree title)"
   ]
  },
  {
   "cell_type": "code",
   "execution_count": 63,
   "id": "85483c5e",
   "metadata": {},
   "outputs": [
    {
     "name": "stdout",
     "output_type": "stream",
     "text": [
      "mba_t\n",
      "Mkt&Fin    120\n",
      "Mkt&HR      95\n",
      "Name: mba_t, dtype: int64\n",
      "\n"
     ]
    }
   ],
   "source": [
    "valueCounts(['mba_t'])"
   ]
  },
  {
   "cell_type": "code",
   "execution_count": 64,
   "id": "2134b6b7",
   "metadata": {},
   "outputs": [
    {
     "data": {
      "image/png": "[encoded data removed]",
      "text/plain": [
       "<Figure size 432x288 with 1 Axes>"
      ]
     },
     "metadata": {
      "needs_background": "light"
     },
     "output_type": "display_data"
    }
   ],
   "source": [
    "fig, ax = plt.subplots()\n",
    "\n",
    "ax. spines[\"right\"].set_visible(False)\n",
    "ax. spines[\"top\"].set_visible(False)\n",
    "ax. spines[\"bottom\"].set_visible(False)\n",
    "\n",
    "width = 0.5\n",
    "x = data['mba_t'].value_counts().index\n",
    "y = data['mba_t'].value_counts().values\n",
    " \n",
    "ax.barh(x, y, width, color = \"darkorange\")\n",
    " \n",
    "for i, v in enumerate(y):\n",
    "    ax.text(v + 3, i + .005, str(v),\n",
    "            color = 'dimgray', fontweight = 'bold')\n",
    "plt.show()"
   ]
  },
  {
   "cell_type": "code",
   "execution_count": null,
   "id": "4bffdbf3",
   "metadata": {},
   "outputs": [],
   "source": []
  }
 ],
 "metadata": {
  "kernelspec": {
   "display_name": "Python 3 (ipykernel)",
   "language": "python",
   "name": "python3"
  },
  "language_info": {
   "codemirror_mode": {
    "name": "ipython",
    "version": 3
   },
   "file_extension": ".py",
   "mimetype": "text/x-python",
   "name": "python",
   "nbconvert_exporter": "python",
   "pygments_lexer": "ipython3",
   "version": "3.8.10"
  }
 },
 "nbformat": 4,
 "nbformat_minor": 5
}
