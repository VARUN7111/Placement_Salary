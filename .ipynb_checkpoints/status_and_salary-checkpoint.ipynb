{
 "cells": [
  {
   "cell_type": "code",
   "execution_count": 1,
   "id": "efafb3cf",
   "metadata": {},
   "outputs": [],
   "source": [
    "import matplotlib.pyplot as plt\n",
    "import seaborn as sns\n",
    "import pandas as pd\n",
    "import numpy as np\n",
    "\n",
    "from scipy.stats import kurtosis,skew\n",
    "\n",
    "from matplotlib.colors import LinearSegmentedColormap"
   ]
  },
  {
   "cell_type": "code",
   "execution_count": 2,
   "id": "fc651394",
   "metadata": {},
   "outputs": [
    {
     "data": {
      "text/html": [
       "<div>\n",
       "<style scoped>\n",
       "    .dataframe tbody tr th:only-of-type {\n",
       "        vertical-align: middle;\n",
       "    }\n",
       "\n",
       "    .dataframe tbody tr th {\n",
       "        vertical-align: top;\n",
       "    }\n",
       "\n",
       "    .dataframe thead th {\n",
       "        text-align: right;\n",
       "    }\n",
       "</style>\n",
       "<table border=\"1\" class=\"dataframe\">\n",
       "  <thead>\n",
       "    <tr style=\"text-align: right;\">\n",
       "      <th></th>\n",
       "      <th>gender</th>\n",
       "      <th>ssc_p</th>\n",
       "      <th>ssc_b</th>\n",
       "      <th>hsc_p</th>\n",
       "      <th>hsc_b</th>\n",
       "      <th>hsc_s</th>\n",
       "      <th>degree_p</th>\n",
       "      <th>degree_t</th>\n",
       "      <th>workex</th>\n",
       "      <th>etest_p</th>\n",
       "      <th>specialisation</th>\n",
       "      <th>mba_p</th>\n",
       "      <th>status</th>\n",
       "      <th>salary</th>\n",
       "    </tr>\n",
       "  </thead>\n",
       "  <tbody>\n",
       "    <tr>\n",
       "      <th>0</th>\n",
       "      <td>M</td>\n",
       "      <td>67.00</td>\n",
       "      <td>Others</td>\n",
       "      <td>91.00</td>\n",
       "      <td>Others</td>\n",
       "      <td>Commerce</td>\n",
       "      <td>58.00</td>\n",
       "      <td>Sci&amp;Tech</td>\n",
       "      <td>No</td>\n",
       "      <td>55.0</td>\n",
       "      <td>Mkt&amp;HR</td>\n",
       "      <td>58.80</td>\n",
       "      <td>Placed</td>\n",
       "      <td>270000.0</td>\n",
       "    </tr>\n",
       "    <tr>\n",
       "      <th>1</th>\n",
       "      <td>M</td>\n",
       "      <td>79.33</td>\n",
       "      <td>Central</td>\n",
       "      <td>78.33</td>\n",
       "      <td>Others</td>\n",
       "      <td>Science</td>\n",
       "      <td>77.48</td>\n",
       "      <td>Sci&amp;Tech</td>\n",
       "      <td>Yes</td>\n",
       "      <td>86.5</td>\n",
       "      <td>Mkt&amp;Fin</td>\n",
       "      <td>66.28</td>\n",
       "      <td>Placed</td>\n",
       "      <td>200000.0</td>\n",
       "    </tr>\n",
       "    <tr>\n",
       "      <th>2</th>\n",
       "      <td>M</td>\n",
       "      <td>65.00</td>\n",
       "      <td>Central</td>\n",
       "      <td>68.00</td>\n",
       "      <td>Central</td>\n",
       "      <td>Arts</td>\n",
       "      <td>64.00</td>\n",
       "      <td>Comm&amp;Mgmt</td>\n",
       "      <td>No</td>\n",
       "      <td>75.0</td>\n",
       "      <td>Mkt&amp;Fin</td>\n",
       "      <td>57.80</td>\n",
       "      <td>Placed</td>\n",
       "      <td>250000.0</td>\n",
       "    </tr>\n",
       "    <tr>\n",
       "      <th>3</th>\n",
       "      <td>M</td>\n",
       "      <td>56.00</td>\n",
       "      <td>Central</td>\n",
       "      <td>52.00</td>\n",
       "      <td>Central</td>\n",
       "      <td>Science</td>\n",
       "      <td>52.00</td>\n",
       "      <td>Sci&amp;Tech</td>\n",
       "      <td>No</td>\n",
       "      <td>66.0</td>\n",
       "      <td>Mkt&amp;HR</td>\n",
       "      <td>59.43</td>\n",
       "      <td>Not Placed</td>\n",
       "      <td>NaN</td>\n",
       "    </tr>\n",
       "    <tr>\n",
       "      <th>4</th>\n",
       "      <td>M</td>\n",
       "      <td>85.80</td>\n",
       "      <td>Central</td>\n",
       "      <td>73.60</td>\n",
       "      <td>Central</td>\n",
       "      <td>Commerce</td>\n",
       "      <td>73.30</td>\n",
       "      <td>Comm&amp;Mgmt</td>\n",
       "      <td>No</td>\n",
       "      <td>96.8</td>\n",
       "      <td>Mkt&amp;Fin</td>\n",
       "      <td>55.50</td>\n",
       "      <td>Placed</td>\n",
       "      <td>425000.0</td>\n",
       "    </tr>\n",
       "    <tr>\n",
       "      <th>...</th>\n",
       "      <td>...</td>\n",
       "      <td>...</td>\n",
       "      <td>...</td>\n",
       "      <td>...</td>\n",
       "      <td>...</td>\n",
       "      <td>...</td>\n",
       "      <td>...</td>\n",
       "      <td>...</td>\n",
       "      <td>...</td>\n",
       "      <td>...</td>\n",
       "      <td>...</td>\n",
       "      <td>...</td>\n",
       "      <td>...</td>\n",
       "      <td>...</td>\n",
       "    </tr>\n",
       "    <tr>\n",
       "      <th>210</th>\n",
       "      <td>M</td>\n",
       "      <td>80.60</td>\n",
       "      <td>Others</td>\n",
       "      <td>82.00</td>\n",
       "      <td>Others</td>\n",
       "      <td>Commerce</td>\n",
       "      <td>77.60</td>\n",
       "      <td>Comm&amp;Mgmt</td>\n",
       "      <td>No</td>\n",
       "      <td>91.0</td>\n",
       "      <td>Mkt&amp;Fin</td>\n",
       "      <td>74.49</td>\n",
       "      <td>Placed</td>\n",
       "      <td>400000.0</td>\n",
       "    </tr>\n",
       "    <tr>\n",
       "      <th>211</th>\n",
       "      <td>M</td>\n",
       "      <td>58.00</td>\n",
       "      <td>Others</td>\n",
       "      <td>60.00</td>\n",
       "      <td>Others</td>\n",
       "      <td>Science</td>\n",
       "      <td>72.00</td>\n",
       "      <td>Sci&amp;Tech</td>\n",
       "      <td>No</td>\n",
       "      <td>74.0</td>\n",
       "      <td>Mkt&amp;Fin</td>\n",
       "      <td>53.62</td>\n",
       "      <td>Placed</td>\n",
       "      <td>275000.0</td>\n",
       "    </tr>\n",
       "    <tr>\n",
       "      <th>212</th>\n",
       "      <td>M</td>\n",
       "      <td>67.00</td>\n",
       "      <td>Others</td>\n",
       "      <td>67.00</td>\n",
       "      <td>Others</td>\n",
       "      <td>Commerce</td>\n",
       "      <td>73.00</td>\n",
       "      <td>Comm&amp;Mgmt</td>\n",
       "      <td>Yes</td>\n",
       "      <td>59.0</td>\n",
       "      <td>Mkt&amp;Fin</td>\n",
       "      <td>69.72</td>\n",
       "      <td>Placed</td>\n",
       "      <td>295000.0</td>\n",
       "    </tr>\n",
       "    <tr>\n",
       "      <th>213</th>\n",
       "      <td>F</td>\n",
       "      <td>74.00</td>\n",
       "      <td>Others</td>\n",
       "      <td>66.00</td>\n",
       "      <td>Others</td>\n",
       "      <td>Commerce</td>\n",
       "      <td>58.00</td>\n",
       "      <td>Comm&amp;Mgmt</td>\n",
       "      <td>No</td>\n",
       "      <td>70.0</td>\n",
       "      <td>Mkt&amp;HR</td>\n",
       "      <td>60.23</td>\n",
       "      <td>Placed</td>\n",
       "      <td>204000.0</td>\n",
       "    </tr>\n",
       "    <tr>\n",
       "      <th>214</th>\n",
       "      <td>M</td>\n",
       "      <td>62.00</td>\n",
       "      <td>Central</td>\n",
       "      <td>58.00</td>\n",
       "      <td>Others</td>\n",
       "      <td>Science</td>\n",
       "      <td>53.00</td>\n",
       "      <td>Comm&amp;Mgmt</td>\n",
       "      <td>No</td>\n",
       "      <td>89.0</td>\n",
       "      <td>Mkt&amp;HR</td>\n",
       "      <td>60.22</td>\n",
       "      <td>Not Placed</td>\n",
       "      <td>NaN</td>\n",
       "    </tr>\n",
       "  </tbody>\n",
       "</table>\n",
       "<p>215 rows × 14 columns</p>\n",
       "</div>"
      ],
      "text/plain": [
       "    gender  ssc_p    ssc_b  hsc_p    hsc_b     hsc_s  degree_p   degree_t  \\\n",
       "0        M  67.00   Others  91.00   Others  Commerce     58.00   Sci&Tech   \n",
       "1        M  79.33  Central  78.33   Others   Science     77.48   Sci&Tech   \n",
       "2        M  65.00  Central  68.00  Central      Arts     64.00  Comm&Mgmt   \n",
       "3        M  56.00  Central  52.00  Central   Science     52.00   Sci&Tech   \n",
       "4        M  85.80  Central  73.60  Central  Commerce     73.30  Comm&Mgmt   \n",
       "..     ...    ...      ...    ...      ...       ...       ...        ...   \n",
       "210      M  80.60   Others  82.00   Others  Commerce     77.60  Comm&Mgmt   \n",
       "211      M  58.00   Others  60.00   Others   Science     72.00   Sci&Tech   \n",
       "212      M  67.00   Others  67.00   Others  Commerce     73.00  Comm&Mgmt   \n",
       "213      F  74.00   Others  66.00   Others  Commerce     58.00  Comm&Mgmt   \n",
       "214      M  62.00  Central  58.00   Others   Science     53.00  Comm&Mgmt   \n",
       "\n",
       "    workex  etest_p specialisation  mba_p      status    salary  \n",
       "0       No     55.0         Mkt&HR  58.80      Placed  270000.0  \n",
       "1      Yes     86.5        Mkt&Fin  66.28      Placed  200000.0  \n",
       "2       No     75.0        Mkt&Fin  57.80      Placed  250000.0  \n",
       "3       No     66.0         Mkt&HR  59.43  Not Placed       NaN  \n",
       "4       No     96.8        Mkt&Fin  55.50      Placed  425000.0  \n",
       "..     ...      ...            ...    ...         ...       ...  \n",
       "210     No     91.0        Mkt&Fin  74.49      Placed  400000.0  \n",
       "211     No     74.0        Mkt&Fin  53.62      Placed  275000.0  \n",
       "212    Yes     59.0        Mkt&Fin  69.72      Placed  295000.0  \n",
       "213     No     70.0         Mkt&HR  60.23      Placed  204000.0  \n",
       "214     No     89.0         Mkt&HR  60.22  Not Placed       NaN  \n",
       "\n",
       "[215 rows x 14 columns]"
      ]
     },
     "execution_count": 2,
     "metadata": {},
     "output_type": "execute_result"
    }
   ],
   "source": [
    "data = pd.read_csv('Campus Placement.csv')\n",
    "data"
   ]
  },
  {
   "cell_type": "code",
   "execution_count": 3,
   "id": "b1f82551",
   "metadata": {},
   "outputs": [],
   "source": [
    "data.rename(columns={'specialisation':'mba_t'}, inplace=True)"
   ]
  },
  {
   "cell_type": "code",
   "execution_count": 4,
   "id": "fd8daa0b",
   "metadata": {},
   "outputs": [],
   "source": [
    "data.fillna(0,inplace=True)"
   ]
  },
  {
   "cell_type": "markdown",
   "id": "0bcea51b",
   "metadata": {},
   "source": [
    "#### Function for value counts"
   ]
  },
  {
   "cell_type": "code",
   "execution_count": 5,
   "id": "07199063",
   "metadata": {},
   "outputs": [],
   "source": [
    "def valueCounts(lst):\n",
    "    for i in lst:\n",
    "        print(i)\n",
    "        print(data[i].value_counts())\n",
    "        print('')"
   ]
  },
  {
   "cell_type": "markdown",
   "id": "f2a4d131",
   "metadata": {},
   "source": [
    "#### status"
   ]
  },
  {
   "cell_type": "code",
   "execution_count": 6,
   "id": "31e311ce",
   "metadata": {},
   "outputs": [
    {
     "name": "stdout",
     "output_type": "stream",
     "text": [
      "status\n",
      "Placed        148\n",
      "Not Placed     67\n",
      "Name: status, dtype: int64\n",
      "\n"
     ]
    }
   ],
   "source": [
    "valueCounts(['status'])"
   ]
  },
  {
   "cell_type": "code",
   "execution_count": 7,
   "id": "5abdf1cb",
   "metadata": {},
   "outputs": [
    {
     "data": {
      "image/png": "[encoded data removed]",
      "text/plain": [
       "<Figure size 432x288 with 1 Axes>"
      ]
     },
     "metadata": {
      "needs_background": "light"
     },
     "output_type": "display_data"
    }
   ],
   "source": [
    "fig, ax = plt.subplots()\n",
    "\n",
    "ax. spines[\"right\"].set_visible(False)\n",
    "ax. spines[\"top\"].set_visible(False)\n",
    "ax. spines[\"bottom\"].set_visible(False)\n",
    "\n",
    "width = 0.5\n",
    "x = data['status'].value_counts().index\n",
    "y = data['status'].value_counts().values\n",
    " \n",
    "ax.barh(x, y, width, color = \"darkorange\")\n",
    " \n",
    "for i, v in enumerate(y):\n",
    "    ax.text(v + 3, i + .005, str(v),\n",
    "            color = 'dimgray', fontweight = 'bold')\n",
    "plt.show()"
   ]
  },
  {
   "cell_type": "markdown",
   "id": "7619a7fc",
   "metadata": {},
   "source": [
    "### salary"
   ]
  },
  {
   "cell_type": "code",
   "execution_count": 8,
   "id": "efaa1e21",
   "metadata": {},
   "outputs": [
    {
     "name": "stderr",
     "output_type": "stream",
     "text": [
      "e:\\virtualenv\\lib\\site-packages\\seaborn\\distributions.py:2619: FutureWarning: `distplot` is a deprecated function and will be removed in a future version. Please adapt your code to use either `displot` (a figure-level function with similar flexibility) or `histplot` (an axes-level function for histograms).\n",
      "  warnings.warn(msg, FutureWarning)\n"
     ]
    },
    {
     "data": {
      "text/plain": [
       "<AxesSubplot:xlabel='salary', ylabel='Density'>"
      ]
     },
     "execution_count": 8,
     "metadata": {},
     "output_type": "execute_result"
    },
    {
     "data": {
      "image/png": "[encoded data removed]",
      "text/plain": [
       "<Figure size 720x360 with 1 Axes>"
      ]
     },
     "metadata": {
      "needs_background": "light"
     },
     "output_type": "display_data"
    }
   ],
   "source": [
    "fig = plt.figure(figsize=(10,5))\n",
    "plt.ticklabel_format(style='plain', axis='x')\n",
    "sns.distplot(data.salary, hist=True, bins = 40, color = 'darkorange')"
   ]
  },
  {
   "cell_type": "markdown",
   "id": "0b580c49",
   "metadata": {},
   "source": [
    "The 0's in data is disturbing the graph. So, let's take them out."
   ]
  },
  {
   "cell_type": "code",
   "execution_count": 9,
   "id": "612aa9d4",
   "metadata": {},
   "outputs": [],
   "source": [
    "df = data[data['salary'] != 0]"
   ]
  },
  {
   "cell_type": "code",
   "execution_count": 10,
   "id": "5a21c291",
   "metadata": {},
   "outputs": [
    {
     "name": "stderr",
     "output_type": "stream",
     "text": [
      "e:\\virtualenv\\lib\\site-packages\\seaborn\\distributions.py:2619: FutureWarning: `distplot` is a deprecated function and will be removed in a future version. Please adapt your code to use either `displot` (a figure-level function with similar flexibility) or `histplot` (an axes-level function for histograms).\n",
      "  warnings.warn(msg, FutureWarning)\n"
     ]
    },
    {
     "data": {
      "text/plain": [
       "<AxesSubplot:xlabel='salary', ylabel='Density'>"
      ]
     },
     "execution_count": 10,
     "metadata": {},
     "output_type": "execute_result"
    },
    {
     "data": {
      "image/png": "[encoded data removed]",
      "text/plain": [
       "<Figure size 720x360 with 1 Axes>"
      ]
     },
     "metadata": {
      "needs_background": "light"
     },
     "output_type": "display_data"
    }
   ],
   "source": [
    "fig = plt.figure(figsize=(10,5))\n",
    "plt.ticklabel_format(style='plain', axis='x')\n",
    "sns.distplot(df.salary, hist=True, bins = 40, color = 'darkorange')"
   ]
  },
  {
   "cell_type": "markdown",
   "id": "7d254e86",
   "metadata": {},
   "source": [
    "The graph is extended in the right side with a very flat tail. Let's check them to confirm if they're outliers."
   ]
  },
  {
   "cell_type": "code",
   "execution_count": 11,
   "id": "ebcd4694",
   "metadata": {},
   "outputs": [
    {
     "data": {
      "text/html": [
       "<div>\n",
       "<style scoped>\n",
       "    .dataframe tbody tr th:only-of-type {\n",
       "        vertical-align: middle;\n",
       "    }\n",
       "\n",
       "    .dataframe tbody tr th {\n",
       "        vertical-align: top;\n",
       "    }\n",
       "\n",
       "    .dataframe thead th {\n",
       "        text-align: right;\n",
       "    }\n",
       "</style>\n",
       "<table border=\"1\" class=\"dataframe\">\n",
       "  <thead>\n",
       "    <tr style=\"text-align: right;\">\n",
       "      <th></th>\n",
       "      <th>gender</th>\n",
       "      <th>ssc_p</th>\n",
       "      <th>ssc_b</th>\n",
       "      <th>hsc_p</th>\n",
       "      <th>hsc_b</th>\n",
       "      <th>hsc_s</th>\n",
       "      <th>degree_p</th>\n",
       "      <th>degree_t</th>\n",
       "      <th>workex</th>\n",
       "      <th>etest_p</th>\n",
       "      <th>mba_t</th>\n",
       "      <th>mba_p</th>\n",
       "      <th>status</th>\n",
       "      <th>salary</th>\n",
       "    </tr>\n",
       "  </thead>\n",
       "  <tbody>\n",
       "    <tr>\n",
       "      <th>119</th>\n",
       "      <td>M</td>\n",
       "      <td>60.8</td>\n",
       "      <td>Central</td>\n",
       "      <td>68.40</td>\n",
       "      <td>Central</td>\n",
       "      <td>Commerce</td>\n",
       "      <td>64.6</td>\n",
       "      <td>Comm&amp;Mgmt</td>\n",
       "      <td>Yes</td>\n",
       "      <td>82.66</td>\n",
       "      <td>Mkt&amp;Fin</td>\n",
       "      <td>64.34</td>\n",
       "      <td>Placed</td>\n",
       "      <td>940000.0</td>\n",
       "    </tr>\n",
       "    <tr>\n",
       "      <th>150</th>\n",
       "      <td>M</td>\n",
       "      <td>71.0</td>\n",
       "      <td>Central</td>\n",
       "      <td>58.66</td>\n",
       "      <td>Central</td>\n",
       "      <td>Science</td>\n",
       "      <td>58.0</td>\n",
       "      <td>Sci&amp;Tech</td>\n",
       "      <td>Yes</td>\n",
       "      <td>56.00</td>\n",
       "      <td>Mkt&amp;Fin</td>\n",
       "      <td>61.30</td>\n",
       "      <td>Placed</td>\n",
       "      <td>690000.0</td>\n",
       "    </tr>\n",
       "    <tr>\n",
       "      <th>177</th>\n",
       "      <td>F</td>\n",
       "      <td>73.0</td>\n",
       "      <td>Central</td>\n",
       "      <td>97.00</td>\n",
       "      <td>Others</td>\n",
       "      <td>Commerce</td>\n",
       "      <td>79.0</td>\n",
       "      <td>Comm&amp;Mgmt</td>\n",
       "      <td>Yes</td>\n",
       "      <td>89.00</td>\n",
       "      <td>Mkt&amp;Fin</td>\n",
       "      <td>70.81</td>\n",
       "      <td>Placed</td>\n",
       "      <td>650000.0</td>\n",
       "    </tr>\n",
       "  </tbody>\n",
       "</table>\n",
       "</div>"
      ],
      "text/plain": [
       "    gender  ssc_p    ssc_b  hsc_p    hsc_b     hsc_s  degree_p   degree_t  \\\n",
       "119      M   60.8  Central  68.40  Central  Commerce      64.6  Comm&Mgmt   \n",
       "150      M   71.0  Central  58.66  Central   Science      58.0   Sci&Tech   \n",
       "177      F   73.0  Central  97.00   Others  Commerce      79.0  Comm&Mgmt   \n",
       "\n",
       "    workex  etest_p    mba_t  mba_p  status    salary  \n",
       "119    Yes    82.66  Mkt&Fin  64.34  Placed  940000.0  \n",
       "150    Yes    56.00  Mkt&Fin  61.30  Placed  690000.0  \n",
       "177    Yes    89.00  Mkt&Fin  70.81  Placed  650000.0  "
      ]
     },
     "execution_count": 11,
     "metadata": {},
     "output_type": "execute_result"
    }
   ],
   "source": [
    "df[df['salary'] > 500000]"
   ]
  },
  {
   "cell_type": "markdown",
   "id": "a7de7bb8",
   "metadata": {},
   "source": [
    "They look like outliers. Now let's see the graph without them"
   ]
  },
  {
   "cell_type": "code",
   "execution_count": 12,
   "id": "33c309f4",
   "metadata": {},
   "outputs": [],
   "source": [
    "df1 = df[df['salary']<510000]"
   ]
  },
  {
   "cell_type": "code",
   "execution_count": 13,
   "id": "6fe89051",
   "metadata": {},
   "outputs": [
    {
     "name": "stderr",
     "output_type": "stream",
     "text": [
      "e:\\virtualenv\\lib\\site-packages\\seaborn\\distributions.py:2619: FutureWarning: `distplot` is a deprecated function and will be removed in a future version. Please adapt your code to use either `displot` (a figure-level function with similar flexibility) or `histplot` (an axes-level function for histograms).\n",
      "  warnings.warn(msg, FutureWarning)\n"
     ]
    },
    {
     "data": {
      "text/plain": [
       "<AxesSubplot:xlabel='salary', ylabel='Density'>"
      ]
     },
     "execution_count": 13,
     "metadata": {},
     "output_type": "execute_result"
    },
    {
     "data": {
      "image/png": "[encoded data removed]",
      "text/plain": [
       "<Figure size 720x360 with 1 Axes>"
      ]
     },
     "metadata": {
      "needs_background": "light"
     },
     "output_type": "display_data"
    }
   ],
   "source": [
    "fig = plt.figure(figsize=(10,5))\n",
    "plt.ticklabel_format(style='plain', axis='x')\n",
    "sns.distplot(df1.salary, hist=True, bins = 40, color = 'darkorange')"
   ]
  },
  {
   "cell_type": "markdown",
   "id": "d80050d8",
   "metadata": {},
   "source": [
    "First, let's just focus on the histogram ignoring the kde line \n",
    "1. From 200k to 300k the graph rises and falls very steaply.\n",
    "2. Sharply at 300k there is an abnormal frequency of students.\n",
    "3. Again, from 300k to 450k, we see a small hill.\n",
    "4. Finally, at 500k there is a good rise.     \n",
    "\n",
    "The first point is normal but, The other three points are to be focused and summarized."
   ]
  },
  {
   "cell_type": "code",
   "execution_count": 14,
   "id": "877cc2fd",
   "metadata": {},
   "outputs": [
    {
     "name": "stderr",
     "output_type": "stream",
     "text": [
      "e:\\virtualenv\\lib\\site-packages\\seaborn\\distributions.py:2619: FutureWarning: `distplot` is a deprecated function and will be removed in a future version. Please adapt your code to use either `displot` (a figure-level function with similar flexibility) or `histplot` (an axes-level function for histograms).\n",
      "  warnings.warn(msg, FutureWarning)\n"
     ]
    },
    {
     "data": {
      "text/plain": [
       "<AxesSubplot:xlabel='salary', ylabel='Density'>"
      ]
     },
     "execution_count": 14,
     "metadata": {},
     "output_type": "execute_result"
    },
    {
     "data": {
      "image/png": "[encoded data removed]",
      "text/plain": [
       "<Figure size 576x360 with 1 Axes>"
      ]
     },
     "metadata": {
      "needs_background": "light"
     },
     "output_type": "display_data"
    }
   ],
   "source": [
    "plt.figure(figsize=(8, 5))\n",
    "plt.axvline(x=300000, ymin=0.0, ymax=0.8, ls='dotted', color='maroon', label='Central',linewidth = 1.5)\n",
    "plt.axvline(x=310000, ymin=0.0, ymax=0.8, ls='dotted', color='maroon', label='Central',linewidth = 1.5)\n",
    "sns.distplot(df1.salary, hist=True, bins = 30, color = 'darkorange')"
   ]
  },
  {
   "cell_type": "markdown",
   "id": "1981efbf",
   "metadata": {},
   "source": [
    "we got the limits"
   ]
  },
  {
   "cell_type": "code",
   "execution_count": 15,
   "id": "d04acbe2",
   "metadata": {},
   "outputs": [
    {
     "data": {
      "text/plain": [
       "(22, 14)"
      ]
     },
     "execution_count": 15,
     "metadata": {},
     "output_type": "execute_result"
    }
   ],
   "source": [
    "d = df1[df1['salary'] >= 300000]\n",
    "d[d['salary']<=310000].shape"
   ]
  },
  {
   "cell_type": "markdown",
   "id": "43c6a4a1",
   "metadata": {},
   "source": [
    "From 300k to 450k, the small hill might be due to some groups"
   ]
  },
  {
   "cell_type": "code",
   "execution_count": 16,
   "id": "3de29adc",
   "metadata": {},
   "outputs": [
    {
     "data": {
      "text/html": [
       "<div>\n",
       "<style scoped>\n",
       "    .dataframe tbody tr th:only-of-type {\n",
       "        vertical-align: middle;\n",
       "    }\n",
       "\n",
       "    .dataframe tbody tr th {\n",
       "        vertical-align: top;\n",
       "    }\n",
       "\n",
       "    .dataframe thead th {\n",
       "        text-align: right;\n",
       "    }\n",
       "</style>\n",
       "<table border=\"1\" class=\"dataframe\">\n",
       "  <thead>\n",
       "    <tr style=\"text-align: right;\">\n",
       "      <th></th>\n",
       "      <th>gender</th>\n",
       "      <th>ssc_p</th>\n",
       "      <th>ssc_b</th>\n",
       "      <th>hsc_p</th>\n",
       "      <th>hsc_b</th>\n",
       "      <th>hsc_s</th>\n",
       "      <th>degree_p</th>\n",
       "      <th>degree_t</th>\n",
       "      <th>workex</th>\n",
       "      <th>etest_p</th>\n",
       "      <th>mba_t</th>\n",
       "      <th>mba_p</th>\n",
       "      <th>status</th>\n",
       "      <th>salary</th>\n",
       "    </tr>\n",
       "  </thead>\n",
       "  <tbody>\n",
       "    <tr>\n",
       "      <th>77</th>\n",
       "      <td>M</td>\n",
       "      <td>64.00</td>\n",
       "      <td>Others</td>\n",
       "      <td>80.00</td>\n",
       "      <td>Others</td>\n",
       "      <td>Science</td>\n",
       "      <td>65.00</td>\n",
       "      <td>Sci&amp;Tech</td>\n",
       "      <td>Yes</td>\n",
       "      <td>69.0</td>\n",
       "      <td>Mkt&amp;Fin</td>\n",
       "      <td>57.65</td>\n",
       "      <td>Placed</td>\n",
       "      <td>500000.0</td>\n",
       "    </tr>\n",
       "    <tr>\n",
       "      <th>163</th>\n",
       "      <td>M</td>\n",
       "      <td>63.00</td>\n",
       "      <td>Others</td>\n",
       "      <td>67.00</td>\n",
       "      <td>Others</td>\n",
       "      <td>Science</td>\n",
       "      <td>64.00</td>\n",
       "      <td>Sci&amp;Tech</td>\n",
       "      <td>No</td>\n",
       "      <td>75.0</td>\n",
       "      <td>Mkt&amp;Fin</td>\n",
       "      <td>66.46</td>\n",
       "      <td>Placed</td>\n",
       "      <td>500000.0</td>\n",
       "    </tr>\n",
       "    <tr>\n",
       "      <th>174</th>\n",
       "      <td>M</td>\n",
       "      <td>73.24</td>\n",
       "      <td>Others</td>\n",
       "      <td>50.83</td>\n",
       "      <td>Others</td>\n",
       "      <td>Science</td>\n",
       "      <td>64.27</td>\n",
       "      <td>Sci&amp;Tech</td>\n",
       "      <td>Yes</td>\n",
       "      <td>64.0</td>\n",
       "      <td>Mkt&amp;Fin</td>\n",
       "      <td>66.23</td>\n",
       "      <td>Placed</td>\n",
       "      <td>500000.0</td>\n",
       "    </tr>\n",
       "  </tbody>\n",
       "</table>\n",
       "</div>"
      ],
      "text/plain": [
       "    gender  ssc_p   ssc_b  hsc_p   hsc_b    hsc_s  degree_p  degree_t workex  \\\n",
       "77       M  64.00  Others  80.00  Others  Science     65.00  Sci&Tech    Yes   \n",
       "163      M  63.00  Others  67.00  Others  Science     64.00  Sci&Tech     No   \n",
       "174      M  73.24  Others  50.83  Others  Science     64.27  Sci&Tech    Yes   \n",
       "\n",
       "     etest_p    mba_t  mba_p  status    salary  \n",
       "77      69.0  Mkt&Fin  57.65  Placed  500000.0  \n",
       "163     75.0  Mkt&Fin  66.46  Placed  500000.0  \n",
       "174     64.0  Mkt&Fin  66.23  Placed  500000.0  "
      ]
     },
     "execution_count": 16,
     "metadata": {},
     "output_type": "execute_result"
    }
   ],
   "source": [
    "df[df['salary'] == 500000]"
   ]
  },
  {
   "cell_type": "markdown",
   "id": "6dc98b5b",
   "metadata": {},
   "source": [
    "This is only rise of 3 records, So, lets just leave it as it is."
   ]
  },
  {
   "cell_type": "code",
   "execution_count": 17,
   "id": "9e108421",
   "metadata": {},
   "outputs": [
    {
     "data": {
      "image/png": "[encoded data removed]",
      "text/plain": [
       "<Figure size 1080x288 with 2 Axes>"
      ]
     },
     "metadata": {
      "needs_background": "light"
     },
     "output_type": "display_data"
    }
   ],
   "source": [
    "x = df1.salary.values\n",
    "fig, axes = plt.subplots(ncols=2, figsize=(15, 4))\n",
    "for ax in axes:\n",
    "    sns.kdeplot(x, shade=False, color='darkorange', ax=ax)\n",
    "    kdeline = ax.lines[0]\n",
    "    xs = kdeline.get_xdata()\n",
    "    ys = kdeline.get_ydata()\n",
    "    if ax == axes[0]:\n",
    "        middle = x.mean()\n",
    "        sdev = x.std()\n",
    "        left = middle - sdev\n",
    "        right = middle + sdev\n",
    "        ax.set_title('Showing mean and std_dev')\n",
    "    else:\n",
    "        left, middle, right = np.percentile(x, [25, 50, 75])\n",
    "        ax.set_title('Showing median and quartiles')\n",
    "    ax.vlines(middle, 0, np.interp(middle, xs, ys), color='darkorange', ls=':')\n",
    "    center_value = (((max(df1.salary) - min(df1.salary))/2)+min(df1.salary))\n",
    "    ax.vlines(center_value, 0, np.interp(center_value, xs, ys), color='dimgray', ls='-')\n",
    "    ax.ticklabel_format(style='plain', axis = 'x')\n",
    "    ax.fill_between(xs, 0, ys, facecolor='darkorange', alpha=0.2)\n",
    "    ax.fill_between(xs, 0, ys, where=(left <= xs) & (xs <= right), interpolate=True, facecolor='darkorange', alpha=0.2)\n",
    "    # ax.set_ylim(ymin=0)\n",
    "plt.show()"
   ]
  },
  {
   "cell_type": "markdown",
   "id": "0bbc575f",
   "metadata": {},
   "source": [
    "- Mean and Median are far from each other\n",
    "- the center value(gray line) is very well right shifted, which tells us the graph is shifted to the left\n",
    "- we expect 3 different groups to be involved in the graph because, there are 3 peaks"
   ]
  },
  {
   "cell_type": "code",
   "execution_count": 18,
   "id": "0ea42ec7",
   "metadata": {},
   "outputs": [
    {
     "name": "stdout",
     "output_type": "stream",
     "text": [
      "min:           200000.0\n",
      "max:           500000.0\n",
      "center value:  350000.0\n",
      "mean:          278903.4482758621\n",
      "median:        264000.0\n",
      "mode:        0    300000.0\n",
      "dtype: float64\n"
     ]
    }
   ],
   "source": [
    "print('min:          ',min(df1.salary))\n",
    "print('max:          ',max(df1.salary))\n",
    "print('center value: ',(((max(df1.salary) - min(df1.salary))/2)+min(df1.salary)))\n",
    "print('mean:         ', df1.salary.mean())\n",
    "print('median:       ',df1.salary.median())\n",
    "print('mode:       ',df1.salary.mode())"
   ]
  },
  {
   "cell_type": "code",
   "execution_count": 19,
   "id": "b26d9a38",
   "metadata": {},
   "outputs": [
    {
     "name": "stdout",
     "output_type": "stream",
     "text": [
      "skewedness =  1.48\n",
      "kurtosis =  5.33\n"
     ]
    }
   ],
   "source": [
    "print('skewedness = ',round(skew(df1.salary.values, axis=0, bias=True),2))\n",
    "print('kurtosis = ', round(kurtosis(df1.salary.values, fisher=False),2))"
   ]
  },
  {
   "cell_type": "markdown",
   "id": "378aed15",
   "metadata": {},
   "source": [
    "#### Norms for normal distribution\n",
    "- skewedness = 0\n",
    "- kurtosis = 3\n",
    "\n",
    "#### Our graph result\n",
    "- As 1.48 > 0, very well left skewed\n",
    "- as 5.33 > 3, very sharp peak and very thin tails"
   ]
  },
  {
   "cell_type": "code",
   "execution_count": 20,
   "id": "27d20a71",
   "metadata": {},
   "outputs": [
    {
     "name": "stderr",
     "output_type": "stream",
     "text": [
      "e:\\virtualenv\\lib\\site-packages\\seaborn\\_decorators.py:36: FutureWarning: Pass the following variable as a keyword arg: x. From version 0.12, the only valid positional argument will be `data`, and passing other arguments without an explicit keyword will result in an error or misinterpretation.\n",
      "  warnings.warn(\n"
     ]
    },
    {
     "data": {
      "text/plain": [
       "<AxesSubplot:xlabel='salary'>"
      ]
     },
     "execution_count": 20,
     "metadata": {},
     "output_type": "execute_result"
    },
    {
     "data": {
      "image/png": "[encoded data removed]",
      "text/plain": [
       "<Figure size 432x288 with 1 Axes>"
      ]
     },
     "metadata": {
      "needs_background": "light"
     },
     "output_type": "display_data"
    }
   ],
   "source": [
    "sns.boxplot(df1.salary,color = 'orange')"
   ]
  },
  {
   "cell_type": "markdown",
   "id": "a0a9cf0a",
   "metadata": {},
   "source": [
    "## cramer's V"
   ]
  },
  {
   "cell_type": "markdown",
   "id": "7ef53f6a",
   "metadata": {},
   "source": [
    "Cramer's V also assumes that both columns (i.e. black/white and flag/no flag) can be thought of as independent variables. It is a symmetrical test, meaning V(x,y)=V(y,x). I don't believe this to be true in your setup, as you're trying to describe one as having a dependent effect on the other, or the odds of some kind of success in the flag group vs. odds of success in the non-flag group.\n",
    "\n",
    "Cramer's V is also sensitive to large sample sizes, which you have, regardless of the class imbalance that is also present in your dataset. Contrary to the chi-square statistic, larger group differences in smaller samples will show larger associations (as they should), and smaller group differences within larger samples will show smaller associations (as they should). \n",
    "\n",
    "it tends to be suboptimal when applied on skewed or small datasets.\n",
    "\n",
    "Limitations include its sample size requirements, difficulty of interpretation when there are large numbers of categories (20 or more) in the independent or dependent variables, and tendency of the Cramer's V to produce relative low correlation measures, even for highly significant results."
   ]
  },
  {
   "cell_type": "markdown",
   "id": "8e4a0c91",
   "metadata": {},
   "source": [
    "## Pearson's Correlation coeficient"
   ]
  },
  {
   "cell_type": "markdown",
   "id": "c84ce10e",
   "metadata": {},
   "source": [
    "Limitations to Pearson's Correlation Coefficient\n",
    "A key limitation of Pearson's r is that it cannot distinguish between independent and dependent variables. Therefore, also if a relationship between two variables is found, Pearson's r does not indicate which variable was 'the cause' and which was 'the effect'.\n",
    "\n",
    "It cannot determine the nonlinear relationships between variables\n",
    "\n",
    "Can Pearson correlation be used for skewed data?\n",
    "Nonetheless, because of its known sensitivity to outliers, Pearson's correlation leads to a less powerful statistical test for distributions with extreme skewness or excess of kurtosis (where the datasets with outliers are more likely).\n",
    "\n",
    "Does Pearson correlation assume normality?\n",
    "Pearson's correlation does NOT assume normality.\n",
    "\n",
    "Can you use Pearson correlation without normal distribution?\n",
    "Though pearson and spearman may be close to one another, spearman is reliable in this case because the data is not normally distributed. Again, you can still do a pearson correlation on non-normal data, but it's not going to be as relaible as a non-parametric test which does not assume normality."
   ]
  },
  {
   "cell_type": "markdown",
   "id": "ca50300b",
   "metadata": {},
   "source": [
    "## Anova"
   ]
  },
  {
   "cell_type": "markdown",
   "id": "d5702e98",
   "metadata": {},
   "source": [
    "What are some limitations to consider? One-way ANOVA can only be used when investigating a single factor and a single dependent variable. When comparing the means of three or more groups, it can tell us if at least one pair of means is significantly different, but it can't tell us which pair.\n",
    "\n",
    "What are the disadvantages of ANOVA?\n",
    "Disadvantages. It is difficult to analyze ANOVA under strict assumptions regarding the nature of data. It is not so helpful in comparison with the t-test that there is no special interpretation of the significance of two means. The requirement of the post-ANOVA t-test for further testing.\n",
    "\n",
    "There are three primary assumptions in ANOVA: The responses for each factor level have a normal population distribution. These distributions have the same variance. The data are independent.\n",
    "\n",
    "What are the conditions for ANOVA?\n",
    "Image result\n",
    "Assumptions for Two Way ANOVA\n",
    "\n",
    "The population must be close to a normal distribution. Samples must be independent. Population variances must be equal (i.e. homoscedastic). Groups must have equal sample sizes.            \n",
    "\n",
    "> o\n",
    "\n",
    "\n",
    "\n",
    "\n",
    "\n",
    "\n",
    "\n",
    "Assumptions for One-Way ANOVA Test Section\n",
    "There are three primary assumptions in ANOVA:\n",
    "\n",
    "The responses for each factor level have a normal population distribution.\n",
    "These distributions have the same variance.\n",
    "The data are independent.\n",
    "\n",
    "Note! Violations to the first two that are not extreme can be considered not serious. The sampling distribution of the test statistic is fairly robust, especially as sample size increases and more so if the sample sizes for all factor levels are equal. If you conduct an ANOVA test, you should always try to keep the same sample sizes for each factor level.\n",
    "\n",
    "A general rule of thumb for equal variances is to compare the smallest and largest sample standard deviations. This is much like the rule of thumb for equal variances for the test for independent means. If the ratio of these two sample standard deviations falls within 0.5 to 2, then it may be that the assumption is not violated.\n",
    "\n",
    "> o\n",
    "\n",
    "\n",
    "\n",
    "SPSS, a statistical analysis package, allows the use of a one-way ANOVA in its large suite of procedures.\n",
    "\n",
    "Sample Limitations\n",
    "The ANOVA test assumes that the samples used in the analysis are \"Simple random samples.\" This means that a sample of individuals (data points) are taken from a larger population (a larger data pool). The samples must also be independent -- that is, they do not affect each other. ANOVA is generally suitable for comparing means in controlled studies, but when the samples are not independent a repeated measures test must be used.\n",
    "\n",
    "Normal Distribution\n",
    "ANOVA assumes that the data in the groups are normally distributed. The test can still be carried out should this not be the case -- and if the violation of this assumption is only moderate, the test is still suitable. However, if the data is a long way from the normal distribution, the test will not provide accurate results. To get around this, either transform the data with the SPSS \"Compute\" function before running the analysis, or use an alternative test such as a Kruskal-Wallace test.\n",
    "\n",
    "Equal Standard Deviations\n",
    "Another limitation of ANOVA is that it assumes that the groups have the same, or very similar, standard deviations. The greater the difference in standard deviations between groups, the greater chance that the conclusion of the test is inaccurate. Like the normal distribution assumption, this is not a problem as long as the standard deviations are not hugely different, and the sample sizes of each group are roughly equal. If this is not the case, a Welch test is a better option.\n",
    "\n",
    "Multiple Comparisons\n",
    "When you run an ANOVA in SPSS, the resulting F value and significance level only tell you whether at least one group in your analysis is different from at least one other. It does not tell you how many groups, or which groups, differ statistically.\n",
    "\n",
    "\n",
    "> o\n",
    "\n",
    "The two key limitations of ANOVA test are:\n",
    "\n",
    "It assume the dataset is uniformly distributed with means of each sub-set data group to be equal.\n",
    "Similarly, the variance and standard deviation of each sub-set data group is equal."
   ]
  },
  {
   "cell_type": "code",
   "execution_count": null,
   "id": "6c6a23f8",
   "metadata": {},
   "outputs": [],
   "source": []
  }
 ],
 "metadata": {
  "kernelspec": {
   "display_name": "Python 3 (ipykernel)",
   "language": "python",
   "name": "python3"
  },
  "language_info": {
   "codemirror_mode": {
    "name": "ipython",
    "version": 3
   },
   "file_extension": ".py",
   "mimetype": "text/x-python",
   "name": "python",
   "nbconvert_exporter": "python",
   "pygments_lexer": "ipython3",
   "version": "3.8.10"
  }
 },
 "nbformat": 4,
 "nbformat_minor": 5
}
